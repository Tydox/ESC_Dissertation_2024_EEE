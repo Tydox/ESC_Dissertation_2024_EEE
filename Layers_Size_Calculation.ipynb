{
 "cells": [
  {
   "cell_type": "markdown",
   "source": [
    "# THIS TO TO CALCULATE SIZES - OUTPUT OF LAYERS\n"
   ],
   "metadata": {
    "collapsed": false
   },
   "id": "1ec3b11cf097994"
  },
  {
   "cell_type": "code",
   "execution_count": 1,
   "outputs": [
    {
     "name": "stdout",
     "output_type": "stream",
     "text": [
      "N\tC\tH\tW\t\n",
      "1\t80\t442\t8\t\n",
      "N\tC\tH\tW\t\n",
      "1\t80\t439\t2\t\n",
      "N\tC\tH\tW\t\n",
      "1\t80\t439\t0\t\n",
      "N\tC\tH\tW\t\n",
      "1\t80\t439\t0\t\n",
      "H\tW\t\n",
      "1\t439\n"
     ]
    }
   ],
   "source": [
    "import torch\n",
    "from torch import nn\n",
    "from torchshape import tensorshape\n",
    "\n",
    "op = nn.Conv2d(in_channels = 1, out_channels = 80, kernel_size = (57, 6), padding = 0)\n",
    "outshape = tensorshape(op, in_shape = (1, 1, 498, 13))\n",
    "print(f\"N\\tC\\tH\\tW\\t\");\n",
    "print(f\"{outshape[0]}\\t{outshape[1]}\\t{outshape[2]}\\t{outshape[3]}\\t\")\n",
    "\n",
    "op1 = nn.MaxPool2d(kernel_size = (4, 3), stride = (1, 3))\n",
    "outshape = tensorshape(op = op1, in_shape = outshape)\n",
    "print(f\"N\\tC\\tH\\tW\\t\");\n",
    "print(f\"{outshape[0]}\\t{outshape[1]}\\t{outshape[2]}\\t{outshape[3]}\\t\")\n",
    "\n",
    "op = nn.Conv2d(in_channels = 80, out_channels = 80, kernel_size = (1, 3), padding = 0, stride = 1)\n",
    "outshape = tensorshape(op, in_shape = outshape)\n",
    "print(f\"N\\tC\\tH\\tW\\t\");\n",
    "print(f\"{outshape[0]}\\t{outshape[1]}\\t{outshape[2]}\\t{outshape[3]}\\t\")\n",
    "\n",
    "op1 = nn.MaxPool2d(kernel_size = (1, 3), stride = (1, 3))\n",
    "outshape = tensorshape(op = op1, in_shape = outshape)\n",
    "print(f\"N\\tC\\tH\\tW\\t\");\n",
    "print(f\"{outshape[0]}\\t{outshape[1]}\\t{outshape[2]}\\t{outshape[3]}\\t\")\n",
    "\n",
    "op2 = nn.Flatten()\n",
    "outshape = tensorshape(op = op2, in_shape = (1, 1, 439, 1))\n",
    "print(f\"H\\tW\\t\");\n",
    "print(f\"{outshape[0]}\\t{outshape[1]}\")\n",
    "\n"
   ],
   "metadata": {
    "collapsed": false,
    "ExecuteTime": {
     "end_time": "2024-06-23T08:40:31.166126Z",
     "start_time": "2024-06-23T08:40:30.425924Z"
    }
   },
   "id": "b10ba334e52d4815"
  },
  {
   "cell_type": "code",
   "execution_count": 2,
   "outputs": [
    {
     "data": {
      "text/plain": "(1, 40, 491, 13)"
     },
     "execution_count": 2,
     "metadata": {},
     "output_type": "execute_result"
    }
   ],
   "source": [
    "inputSize = 3\n",
    "\n",
    "tensorshape(op = nn.Conv2d(in_channels = inputSize, out_channels = 40, kernel_size = (8, 1), padding = 0),\n",
    "            in_shape = (1, 3, 498, 13))\n"
   ],
   "metadata": {
    "collapsed": false,
    "ExecuteTime": {
     "end_time": "2024-06-23T08:40:31.175880Z",
     "start_time": "2024-06-23T08:40:31.166350Z"
    }
   },
   "id": "5fa0daa9d51dc0b7"
  },
  {
   "cell_type": "code",
   "execution_count": 3,
   "outputs": [
    {
     "data": {
      "text/plain": "(1, 40, 484, 13)"
     },
     "execution_count": 3,
     "metadata": {},
     "output_type": "execute_result"
    }
   ],
   "source": [
    "tensorshape(nn.Conv2d(in_channels = 40, out_channels = 40, kernel_size = (8, 1), padding = 0),\n",
    "            in_shape = (1, 40, 491, 13))"
   ],
   "metadata": {
    "collapsed": false,
    "ExecuteTime": {
     "end_time": "2024-06-23T08:40:31.176996Z",
     "start_time": "2024-06-23T08:40:31.172290Z"
    }
   },
   "id": "70038b1b81f98d81"
  },
  {
   "cell_type": "code",
   "execution_count": 4,
   "outputs": [
    {
     "data": {
      "text/plain": "(1, 40, 4, 1)"
     },
     "execution_count": 4,
     "metadata": {},
     "output_type": "execute_result"
    }
   ],
   "source": [
    "tensorshape(nn.MaxPool2d(1, 160), in_shape = (1, 40, 484, 13))"
   ],
   "metadata": {
    "collapsed": false,
    "ExecuteTime": {
     "end_time": "2024-06-23T08:40:31.178958Z",
     "start_time": "2024-06-23T08:40:31.175598Z"
    }
   },
   "id": "55e565eb809a197e"
  },
  {
   "cell_type": "code",
   "execution_count": 5,
   "outputs": [
    {
     "data": {
      "text/plain": "(1, 160)"
     },
     "execution_count": 5,
     "metadata": {},
     "output_type": "execute_result"
    }
   ],
   "source": [
    "tensorshape(nn.Flatten(), in_shape = (1, 40, 4, 1))"
   ],
   "metadata": {
    "collapsed": false,
    "ExecuteTime": {
     "end_time": "2024-06-23T08:40:31.336253Z",
     "start_time": "2024-06-23T08:40:31.307662Z"
    }
   },
   "id": "initial_id"
  },
  {
   "cell_type": "code",
   "execution_count": null,
   "outputs": [],
   "source": [],
   "metadata": {
    "collapsed": false
   },
   "id": "a68e85f0581719f6"
  }
 ],
 "metadata": {
  "kernelspec": {
   "display_name": "Python 3",
   "language": "python",
   "name": "python3"
  },
  "language_info": {
   "codemirror_mode": {
    "name": "ipython",
    "version": 2
   },
   "file_extension": ".py",
   "mimetype": "text/x-python",
   "name": "python",
   "nbconvert_exporter": "python",
   "pygments_lexer": "ipython2",
   "version": "2.7.6"
  }
 },
 "nbformat": 4,
 "nbformat_minor": 5
}
