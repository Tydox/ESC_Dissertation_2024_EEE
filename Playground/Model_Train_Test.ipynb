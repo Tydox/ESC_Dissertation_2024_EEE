{
 "cells": [
  {
   "cell_type": "code",
   "execution_count": 236,
   "id": "initial_id",
   "metadata": {
    "collapsed": true,
    "ExecuteTime": {
     "end_time": "2024-06-17T12:09:14.034070Z",
     "start_time": "2024-06-17T12:09:14.028876Z"
    }
   },
   "outputs": [],
   "source": [
    "# note: text\n",
    "# fixed: text\n",
    "# fix me: text\n",
    "# error: text\n",
    "# summary: text"
   ]
  },
  {
   "cell_type": "code",
   "execution_count": 251,
   "outputs": [],
   "source": [
    "#Loader function for Pytorch Dataset Folder thingy\n",
    "def load_data(path: str):\n",
    "    #print(f\"Loading file: {path}\")\n",
    "    tensor = torch.load(path)\n",
    "    #tensor = tensor.float()\n",
    "    #print(f\"Loaded tensor type: {type(tensor)} {tensor.type()}\")\n",
    "    return tensor\n",
    "\n",
    "\n",
    "#ERROR DOESNT FULLY WORK WITH DATASET - IDK WHY - I GAVE UP FOR NOW\n",
    "#FIXME THIS DOES WORK AS A REGULAR REMAP AND I USE THIS FOR PRINTING DATA\n",
    "#NOTE TO SELF: DO NOT DELETE THIS FUNCTION\n",
    "# Define a custom transform to convert labels from float to int\n",
    "def label_remap(label):\n",
    "    label_mapping = {\n",
    "            0: 47,            1: 23,            2: 27,            3: 34,            4: 43,\n",
    "            5: 5,            6: 41,            7: 14,            8: 46,            9: 22,\n",
    "            10: 37,            11: 38,            12: 24,            13: 3,            14: 12,\n",
    "            15: 13,            16: 9,            17: 20,            18: 0,            19: 33,\n",
    "            20: 30,            21: 29,            22: 44,            23: 48,            24: 25,\n",
    "            25: 4,            26: 39,            27: 49,            28: 40,            29: 6,\n",
    "            30: 7,            31: 32,            32: 26,            33: 31,            34: 2,\n",
    "            35: 17,            36: 10,            37: 1,            38: 11,            39: 8,\n",
    "            40: 42,            41: 21,            42: 28,            43: 19,            44: 18,\n",
    "            45: 45,            46: 36,            47: 35,            48: 15,            49: 16\n",
    "    }\n",
    "    return torch.tensor(int(label_mapping[label]))\n",
    "\n",
    "\n",
    "#Summary: Print All Samples in Dataloader\n",
    "#Summary: Data Label OG = this is the published index labling, dog = 4\n",
    "#Summary; because pytorch sorts the data, dog = 18 in Dataloader,\n",
    "#Summary: so if i want to double check that the labels are correct, I have to use label_remap() function to convert the pytorch label number to the original\n",
    "#Summary: this doesnt really matter, all the code below was to just do a double check that everything is correct\n",
    "\n",
    "def print_data_loader(_dataloader,_stop,class_names):\n",
    "    if _dataloader.batch_size >1:\n",
    "        print(\"Sorry, This function doesn't support batch size dataset, please use batch = 1\")\n",
    "        return\n",
    "    \n",
    "    _idx =          f\"{'#':<{4}} | \"\n",
    "    _dshape =          f\"{'Data Shape:[N, C,  H,   W]':<{24}} | \"\n",
    "    _lshape =          f\"{'Label Shape':<{15}} | \"\n",
    "    _ddtype =          f\"{'Data DataType':<{13}} | \"\n",
    "    _dlabel1 =         f\"{'Data Label OG':<{13}} | \"\n",
    "    _dlabel2 =         f\"{'Data Label Py':<{13}} | \"\n",
    "    _dlabel3 =         f\"{'Data Label ':<{20}} | \"\n",
    "    _ldtype =          f\"{'Label Type':<{22}} | \"\n",
    "    _dpath =           f\"{'Data Path + Label PyTorch Value':<{60}} | \"\n",
    "    \n",
    "    print(f\"{_idx}{_dshape}{_lshape}{_ddtype}{_dlabel1}{_dlabel2}{_dlabel3}{_dpath}{_ldtype}\")\n",
    "    \n",
    "    #Note: CREATE AN ITERATOR FOR DATALOADER\n",
    "    _data_iter = iter(_dataloader)\n",
    "    #next(_data_iter)\n",
    "    counter = 1 #counter when to stop for loop\n",
    "    #NOTE: GO OVER ALL SAMPLES IN ITERATOR\n",
    "    for (_data, _label) in _data_iter:\n",
    "        #_data_iter = iter(test_dataloader)\n",
    "        _rnd_idx = _data_iter._sampler_iter.gi_frame.f_locals['idx']\n",
    "        _sample_idx = _data_iter._dataset.indices[_rnd_idx]\n",
    "        #numm = _data_iter._index_sampler.sampler.data_source.indices[num] #incorrect location\n",
    "        _path = test_dataset.dataset.samples[_sample_idx]\n",
    "        \n",
    "        #NOTE: This is for debug to check that it is the same samples values\n",
    "        #_amy_data = my_data_set[NUM2][0]\n",
    "        #_amy_dataog =  _data[0]\n",
    "        #diff =sum(sum(_amy_data - _amy_dataog)) \n",
    "        #print(diff)\n",
    "        #print(_path)\n",
    "        _idx =f\"{counter:<{4}} | \"\n",
    "        _dshape = f\"{str(_data.shape):<{24}} | \" # = [batch_size, color_channels, height, width]\"\n",
    "        _lshape = f\"{str(_label.shape):<{15}} | \"\n",
    "        _ddtype = f\"{str(_data.dtype):<{13}} | \"\n",
    "        _dlabel1 = f\"{str(label_remap(int(_label[0]))):<{13}} | \"\n",
    "        _dlabel2 = f\"{str(_label):<{13}} | \"\n",
    "        _dlabel3 = f\"{str(class_names[_label]):<{20}} | \"\n",
    "        _ldtype = f\"{str(type(_label)):<{22}} | \"\n",
    "        _dpath =   f\"{str(_path).split('/',6)[6]:<{60}} | \"\n",
    "    \n",
    "        print(f\"{_idx}{_dshape}{_lshape}{_ddtype}{_dlabel1}{_dlabel2}{_dlabel3}{_dpath}{_ldtype}\")\n",
    "        \n",
    "        if counter == _stop:\n",
    "            break\n",
    "        else:\n",
    "            counter=counter+1"
   ],
   "metadata": {
    "collapsed": false,
    "ExecuteTime": {
     "end_time": "2024-06-17T12:11:18.380988Z",
     "start_time": "2024-06-17T12:11:18.323696Z"
    }
   },
   "id": "55baaa3bcda72ffd"
  },
  {
   "cell_type": "markdown",
   "source": [
    "# ALL CODE ABOVE IS FUNCTIONS FROM MFCC_DATA_IMPORT"
   ],
   "metadata": {
    "collapsed": false
   },
   "id": "edb21a47bc95f30a"
  },
  {
   "cell_type": "code",
   "execution_count": 252,
   "outputs": [],
   "source": [
    "import os\n",
    "OutputFolder =\"/Users/daniel/Desktop/Github/ESC_Dissertation_2024_EEE/MFCC/tensor3c/\"\n",
    "# Step 1: Create a dataset from the new organized folder\n",
    "\n",
    "#from torchvision import transforms\n",
    "#NHWC2NCHW = transforms.Compose([transforms.Lambda(lambda x: x.permute(0, 3, 1, 2))])  # from NHWC to NCHW\n",
    "# Define a custom transform to add the extra dimension\n",
    "# test_transform = transforms.Compose([\n",
    "#     transforms.Lambda(lambda x: x.unsqueeze(0))  # Adds an extra dimension, making it [1, C, H, W]\n",
    "# ])\n",
    "import torch\n",
    "from torchvision import datasets\n",
    "\n",
    "my_data_set = datasets.DatasetFolder(\n",
    "        root = OutputFolder,\n",
    "        loader = load_data,\n",
    "        transform = None, #use \"test_transform\" only if using coeff because its missing channels=1 dimention  #our transformation for data\n",
    "        target_transform = None,\n",
    "        extensions = ('.pt',)\n",
    ")\n",
    "#my_data_set.class_to_idx\n",
    "#Step 2\n",
    "# Determine the sizes for training and testing splits\n",
    "# And Split the dataset\n",
    "\n",
    "from torch.utils.data import random_split\n",
    "\n",
    "train_size = int(0.7 * len(my_data_set))\n",
    "test_size = len(my_data_set) - train_size\n",
    "\n",
    "train_dataset, test_dataset = random_split(my_data_set, [train_size, test_size])\n"
   ],
   "metadata": {
    "collapsed": false,
    "ExecuteTime": {
     "end_time": "2024-06-17T12:11:19.368728Z",
     "start_time": "2024-06-17T12:11:19.177811Z"
    }
   },
   "id": "e97881811308182d"
  },
  {
   "cell_type": "code",
   "execution_count": 253,
   "outputs": [],
   "source": [
    "#step 3\n",
    "# Turn train\\test Datasets into train\\test DataLoaders\n",
    "\n",
    "#import os\n",
    "#NUM_OF_WORKERS = os.cpu_count() #this is used on collab when I want to use all max cpu power\n",
    "from torch.utils.data import DataLoader\n",
    "\n",
    "BATCH_SIZE = 10\n",
    "train_dataloader = DataLoader(dataset = train_dataset,\n",
    "                              batch_size = BATCH_SIZE,  # how many samples per batch?\n",
    "                              #num_workers=1,#ERROR THIS DOESNT WORK ON LAPTOP BUT WORKS ON COLLAB # how many CPU subprocesses to use for data loading? (higher = more)\n",
    "                              shuffle = True)  # shuffle the data?\n",
    "\n",
    "test_dataloader = DataLoader(dataset = test_dataset,\n",
    "                             batch_size = BATCH_SIZE,  # how many samples per batch?\n",
    "                             #num_workers=1,#ERROR THIS DOESNT WORK ON LAPTOP BUT WORKS ON COLLAB # how many CPU subprocesses to use for data loading? (higher = more)\n",
    "                             shuffle = True)  # shuffle the data?"
   ],
   "metadata": {
    "collapsed": false,
    "ExecuteTime": {
     "end_time": "2024-06-17T12:11:19.368900Z",
     "start_time": "2024-06-17T12:11:19.184743Z"
    }
   },
   "id": "9f7f586a6ec2bbb6"
  },
  {
   "cell_type": "code",
   "execution_count": 254,
   "outputs": [
    {
     "name": "stdout",
     "output_type": "stream",
     "text": [
      "'Class Label': Label Number \n",
      "{'airplane': 0, 'breathing': 1, 'brushing_teeth': 2, 'can_opening': 3, 'car_horn': 4, 'cat': 5, 'chainsaw': 6, 'chirping_birds': 7, 'church_bells': 8, 'clapping': 9, 'clock_alarm': 10, 'clock_tick': 11, 'coughing': 12, 'cow': 13, 'crackling_fire': 14, 'crickets': 15, 'crow': 16, 'crying_baby': 17, 'dog': 18, 'door_wood_creaks': 19, 'door_wood_knock': 20, 'drinking_sipping': 21, 'engine': 22, 'fireworks': 23, 'footsteps': 24, 'frog': 25, 'glass_breaking': 26, 'hand_saw': 27, 'helicopter': 28, 'hen': 29, 'insects': 30, 'keyboard_typing': 31, 'laughing': 32, 'mouse_click': 33, 'pig': 34, 'pouring_water': 35, 'rain': 36, 'rooster': 37, 'sea_waves': 38, 'sheep': 39, 'siren': 40, 'sneezing': 41, 'snoring': 42, 'thunderstorm': 43, 'toilet_flush': 44, 'train': 45, 'vacuum_cleaner': 46, 'washing_machine': 47, 'water_drops': 48, 'wind': 49}\n"
     ]
    }
   ],
   "source": [
    "class_names = my_data_set.classes\n",
    "class_dict = my_data_set.class_to_idx\n",
    "print(f\"'Class Label': Label Number \\n{class_dict}\")"
   ],
   "metadata": {
    "collapsed": false,
    "ExecuteTime": {
     "end_time": "2024-06-17T12:11:19.371913Z",
     "start_time": "2024-06-17T12:11:19.349658Z"
    }
   },
   "id": "ae10b1acb2c9da55"
  },
  {
   "cell_type": "code",
   "execution_count": 255,
   "outputs": [
    {
     "name": "stdout",
     "output_type": "stream",
     "text": [
      "Train DataLoader Samples:\t140*10,\t\tTest DataLoader Samples:\t60*10.\n",
      "Train DataSet Samples:\t\t1400,\t\tTest DataSet Samples:\t\t600.\n"
     ]
    }
   ],
   "source": [
    "print(f\"Train DataLoader Samples:\\t{len(train_dataloader)}*{train_dataloader.batch_size},\\t\\tTest DataLoader Samples:\\t{len(test_dataloader)}*{test_dataloader.batch_size}.\")\n",
    "print(f\"Train DataSet Samples:\\t\\t{len(train_dataset)},\\t\\tTest DataSet Samples:\\t\\t{len(test_dataset)}.\")"
   ],
   "metadata": {
    "collapsed": false,
    "ExecuteTime": {
     "end_time": "2024-06-17T12:11:20.203863Z",
     "start_time": "2024-06-17T12:11:20.198043Z"
    }
   },
   "id": "d9d11625dbe18dbb"
  },
  {
   "cell_type": "code",
   "execution_count": 256,
   "outputs": [
    {
     "name": "stdout",
     "output_type": "stream",
     "text": [
      "Sorry, This function doesn't support batch size dataset, please use batch = 1\n"
     ]
    }
   ],
   "source": [
    "print_data_loader(test_dataloader, 1,class_names ) # DOESNT WORK WHEN BATCH SIZE IS > 1"
   ],
   "metadata": {
    "collapsed": false,
    "ExecuteTime": {
     "end_time": "2024-06-17T12:11:20.203976Z",
     "start_time": "2024-06-17T12:11:20.201072Z"
    }
   },
   "id": "d9209d1f27d7a9ec"
  },
  {
   "cell_type": "code",
   "execution_count": 258,
   "outputs": [
    {
     "name": "stdout",
     "output_type": "stream",
     "text": [
      "Sorry, This function doesn't support batch size dataset, please use batch = 1\n"
     ]
    }
   ],
   "source": [
    "print_data_loader(train_dataloader, 5,class_names )"
   ],
   "metadata": {
    "collapsed": false,
    "ExecuteTime": {
     "end_time": "2024-06-17T12:11:53.720509Z",
     "start_time": "2024-06-17T12:11:53.706554Z"
    }
   },
   "id": "acc591d6dc60be1a"
  },
  {
   "cell_type": "markdown",
   "source": [
    "# CREATING A MODEL USING PYTORCH SEQUENIAL"
   ],
   "metadata": {
    "collapsed": false
   },
   "id": "3cfce6c3c2d50c01"
  },
  {
   "cell_type": "code",
   "execution_count": 194,
   "outputs": [
    {
     "name": "stdout",
     "output_type": "stream",
     "text": [
      "Using device: mps\n"
     ]
    }
   ],
   "source": [
    "# Import torch\n",
    "import torch\n",
    "\n",
    "# Setup device agnostic code\n",
    "#device agnostic code - automatically set what cpu\\gpu to use for best performance\n",
    "device = \"cuda\" if torch.cuda.is_available() else \"mps\" if torch.backends.mps.is_available() else \"cpu\"\n",
    "print(f\"Using device: {device}\")\n",
    "\n",
    "# Setup random seed\n",
    "#RANDOM_SEED = 42"
   ],
   "metadata": {
    "collapsed": false,
    "ExecuteTime": {
     "end_time": "2024-06-17T11:48:34.170331Z",
     "start_time": "2024-06-17T11:48:34.152852Z"
    }
   },
   "id": "2ad523a37aaaac70"
  },
  {
   "cell_type": "code",
   "execution_count": 195,
   "outputs": [],
   "source": [
    "import torch\n",
    "from torch import nn\n",
    "from torchmetrics import Accuracy"
   ],
   "metadata": {
    "collapsed": false,
    "ExecuteTime": {
     "end_time": "2024-06-17T11:48:34.814928Z",
     "start_time": "2024-06-17T11:48:34.813660Z"
    }
   },
   "id": "e073483ccd58375e"
  },
  {
   "cell_type": "code",
   "execution_count": 275,
   "outputs": [],
   "source": [
    "\n",
    "class PiczakRec(nn.Module):\n",
    "    def __init__(self,inputSize,outputSize,hiddenNeurons,filtersize,poolingsize,padsize,stridesize,flattensize):\n",
    "        super().__init__()\n",
    "\n",
    "        self.nnBlock1 = nn.Sequential(\n",
    "                nn.Conv2d(in_channels=inputSize,out_channels=40,kernel_size=(8,1),padding=0),\n",
    "                nn.BatchNorm2d(40),\n",
    "                \n",
    "                nn.Conv2d(in_channels=40,out_channels=40,kernel_size=(8,1),padding=0),\n",
    "                nn.BatchNorm2d(40),\n",
    "                \n",
    "                nn.MaxPool2d(1,160),\n",
    "                \n",
    "\n",
    "                \n",
    "                nn.ReLU(),\n",
    "                #nn.MaxPool2d(kernel_size=(4,3),stride=(1,3)),\n",
    "        )    \n",
    "        \n",
    "        self.nnBlock2 = nn.Sequential(\n",
    "                nn.Conv2d(in_channels=80,out_channels=80,kernel_size=(1,3),padding=0,stride = 1),\n",
    "                nn.ReLU(),\n",
    "                nn.MaxPool2d(kernel_size=(1,3),stride=(1,3))\n",
    "        )    \n",
    "        self.classifier = nn.Sequential(\n",
    "            nn.Flatten(),\n",
    "            nn.Linear(in_features=160,out_features=100),\n",
    "            #nn.Linear(in_features=5000,out_features=5000),\n",
    "            nn.Linear(in_features=100,out_features=50)\n",
    "        )\n",
    "        \n",
    "    def forward(self, x):\n",
    "        x = self.nnBlock1(x)\n",
    "        #x = self.nnBlock2(x)\n",
    "        x = self.classifier(x)\n",
    "        return x\n",
    "            "
   ],
   "metadata": {
    "collapsed": false,
    "ExecuteTime": {
     "end_time": "2024-06-17T12:24:45.629796Z",
     "start_time": "2024-06-17T12:24:45.574120Z"
    }
   },
   "id": "d1103327ceb4f064"
  },
  {
   "cell_type": "code",
   "execution_count": 276,
   "outputs": [],
   "source": [
    "inputSize=3#how many color channels, in my case 1\n",
    "outputSize=50\n",
    "hiddenNeurons=1\n",
    "filtersize=3\n",
    "poolingsize=2\n",
    "padsize=0\n",
    "stridesize=1\n",
    "flattensize=3528\n",
    "model = PiczakRec(inputSize,outputSize,hiddenNeurons,filtersize,poolingsize,padsize,stridesize,flattensize)"
   ],
   "metadata": {
    "collapsed": false,
    "ExecuteTime": {
     "end_time": "2024-06-17T12:24:46.560423Z",
     "start_time": "2024-06-17T12:24:46.448149Z"
    }
   },
   "id": "4edfb44bcd12e35a"
  },
  {
   "cell_type": "code",
   "execution_count": 277,
   "outputs": [],
   "source": [
    "#Note: Used for debugging\n",
    "\n",
    "#model.state_dict()\n",
    "#next(model.modules())\n",
    "# model.eval()\n",
    "# coeff,y = next(iter(test_dataloader))\n",
    "# if torch.numel(torch.tensor(coeff.shape)) == 4:\n",
    "#     model_pred_logits = model(coeff[0]).squeeze(dim=0) # make sure image is right shape + on right device\n",
    "#     model_pred_probs = torch.softmax(model_pred_logits, dim=1)\n",
    "#     model_pred_label = torch.argmax(model_pred_probs, dim=1)\n",
    "# else:\n",
    "#     model_pred_logits = model(coeff).squeeze(dim=0) # make sure image is right shape + on right device\n",
    "#     model_pred_probs = torch.softmax(model_pred_logits, dim=1)\n",
    "#     model_pred_label = torch.argmax(model_pred_probs, dim=1)\n",
    "# coeff.shape"
   ],
   "metadata": {
    "collapsed": false,
    "ExecuteTime": {
     "end_time": "2024-06-17T12:24:46.560570Z",
     "start_time": "2024-06-17T12:24:46.451114Z"
    }
   },
   "id": "6cbfda5aa4826fa8"
  },
  {
   "cell_type": "markdown",
   "source": [],
   "metadata": {
    "collapsed": false
   },
   "id": "b578d49407909372"
  },
  {
   "cell_type": "markdown",
   "source": [
    "# INIT TENSORBOARD & SETUP\n",
    "Dashboard: [http://localhost:6006](http://localhost:6006)\n",
    "\n"
   ],
   "metadata": {
    "collapsed": false
   },
   "id": "b790c99c63949a3e"
  },
  {
   "cell_type": "code",
   "execution_count": 278,
   "outputs": [
    {
     "name": "stdout",
     "output_type": "stream",
     "text": [
      "The tensorboard extension is already loaded. To reload it, use:\n",
      "  %reload_ext tensorboard\n"
     ]
    },
    {
     "data": {
      "text/plain": "Launching TensorBoard..."
     },
     "metadata": {},
     "output_type": "display_data"
    },
    {
     "data": {
      "text/plain": "<IPython.core.display.HTML object>",
      "text/html": "\n      <iframe id=\"tensorboard-frame-53a365367605184b\" width=\"100%\" height=\"800\" frameborder=\"0\">\n      </iframe>\n      <script>\n        (function() {\n          const frame = document.getElementById(\"tensorboard-frame-53a365367605184b\");\n          const url = new URL(\"/\", window.location);\n          const port = 6006;\n          if (port) {\n            url.port = port;\n          }\n          frame.src = url;\n        })();\n      </script>\n    "
     },
     "metadata": {},
     "output_type": "display_data"
    }
   ],
   "source": [
    "import torch.utils.tensorboard\n",
    "# Load the TensorBoard notebook extension\n",
    "%load_ext tensorboard\n",
    "# Stand Tensorboard\n",
    "%tensorboard --logdir=runs --reload_multifile True"
   ],
   "metadata": {
    "collapsed": false,
    "ExecuteTime": {
     "end_time": "2024-06-17T12:24:47.571530Z",
     "start_time": "2024-06-17T12:24:47.533094Z"
    }
   },
   "id": "a7e9d44c10649ec4"
  },
  {
   "cell_type": "code",
   "execution_count": 279,
   "outputs": [],
   "source": [
    "#Create a SummyWriter which is LOG FILE DATABASE for our model\n",
    "#CHANGE THE NAME BASED ON THE MODEL WE USE - DONT FORGET\n",
    "from torch.utils.tensorboard import SummaryWriter\n",
    "# default `log_dir` is \"runs\" - we'll be more specific here\n",
    "#_MODEL_NAME_ = \"model1_test_trash\"\n",
    "#writer = SummaryWriter(\"runs/\" + _MODEL_NAME_)"
   ],
   "metadata": {
    "collapsed": false,
    "ExecuteTime": {
     "end_time": "2024-06-17T12:24:48.778214Z",
     "start_time": "2024-06-17T12:24:48.591584Z"
    }
   },
   "id": "24424be8f3c6f260"
  },
  {
   "cell_type": "code",
   "execution_count": 280,
   "outputs": [
    {
     "data": {
      "text/plain": "  0%|          | 0/50 [00:00<?, ?it/s]",
      "application/vnd.jupyter.widget-view+json": {
       "version_major": 2,
       "version_minor": 0,
       "model_id": "d571038f5dd64cc8bf727624f11aed04"
      }
     },
     "metadata": {},
     "output_type": "display_data"
    },
    {
     "data": {
      "text/plain": "  0%|          | 0/140 [00:00<?, ?it/s]",
      "application/vnd.jupyter.widget-view+json": {
       "version_major": 2,
       "version_minor": 0,
       "model_id": "a3b05e03de2a48c8afe4e4e51ac5f51e"
      }
     },
     "metadata": {},
     "output_type": "display_data"
    },
    {
     "name": "stdout",
     "output_type": "stream",
     "text": [
      "Epoch: 0 | Loss: 4.034 | Test loss: 3.897 | Train Acc: 2.2142858505249023 | Test Acc: 0.0\n"
     ]
    },
    {
     "data": {
      "text/plain": "  0%|          | 0/140 [00:00<?, ?it/s]",
      "application/vnd.jupyter.widget-view+json": {
       "version_major": 2,
       "version_minor": 0,
       "model_id": "68df6d545a3a4930b6495f3941d79636"
      }
     },
     "metadata": {},
     "output_type": "display_data"
    },
    {
     "name": "stdout",
     "output_type": "stream",
     "text": [
      "Epoch: 1 | Loss: 3.885 | Test loss: 3.855 | Train Acc: 3.4999985694885254 | Test Acc: 0.0\n"
     ]
    },
    {
     "data": {
      "text/plain": "  0%|          | 0/140 [00:00<?, ?it/s]",
      "application/vnd.jupyter.widget-view+json": {
       "version_major": 2,
       "version_minor": 0,
       "model_id": "eca3f30745314c16a3444acce4132952"
      }
     },
     "metadata": {},
     "output_type": "display_data"
    },
    {
     "name": "stdout",
     "output_type": "stream",
     "text": [
      "Epoch: 2 | Loss: 3.845 | Test loss: 3.839 | Train Acc: 3.571427583694458 | Test Acc: 7.66666316986084\n"
     ]
    },
    {
     "data": {
      "text/plain": "  0%|          | 0/140 [00:00<?, ?it/s]",
      "application/vnd.jupyter.widget-view+json": {
       "version_major": 2,
       "version_minor": 0,
       "model_id": "2105dba8950e4517b3ae3a947183845a"
      }
     },
     "metadata": {},
     "output_type": "display_data"
    },
    {
     "name": "stdout",
     "output_type": "stream",
     "text": [
      "Epoch: 3 | Loss: 3.820 | Test loss: 3.829 | Train Acc: 4.142855644226074 | Test Acc: 0.1666666716337204\n"
     ]
    },
    {
     "data": {
      "text/plain": "  0%|          | 0/140 [00:00<?, ?it/s]",
      "application/vnd.jupyter.widget-view+json": {
       "version_major": 2,
       "version_minor": 0,
       "model_id": "384de737edd44f218b6713c8db1644c5"
      }
     },
     "metadata": {},
     "output_type": "display_data"
    },
    {
     "name": "stdout",
     "output_type": "stream",
     "text": [
      "Epoch: 4 | Loss: 3.800 | Test loss: 3.825 | Train Acc: 3.928570032119751 | Test Acc: 0.6666666865348816\n"
     ]
    },
    {
     "data": {
      "text/plain": "  0%|          | 0/140 [00:00<?, ?it/s]",
      "application/vnd.jupyter.widget-view+json": {
       "version_major": 2,
       "version_minor": 0,
       "model_id": "8057af7cd31e41439079bdb682bd9c1d"
      }
     },
     "metadata": {},
     "output_type": "display_data"
    },
    {
     "name": "stdout",
     "output_type": "stream",
     "text": [
      "Epoch: 5 | Loss: 3.799 | Test loss: 3.828 | Train Acc: 4.214284420013428 | Test Acc: 1.3333334922790527\n"
     ]
    },
    {
     "data": {
      "text/plain": "  0%|          | 0/140 [00:00<?, ?it/s]",
      "application/vnd.jupyter.widget-view+json": {
       "version_major": 2,
       "version_minor": 0,
       "model_id": "5b50e01b7a374eefab99c972213746d3"
      }
     },
     "metadata": {},
     "output_type": "display_data"
    },
    {
     "name": "stdout",
     "output_type": "stream",
     "text": [
      "Epoch: 6 | Loss: 3.770 | Test loss: 3.830 | Train Acc: 4.428569793701172 | Test Acc: 0.1666666716337204\n"
     ]
    },
    {
     "data": {
      "text/plain": "  0%|          | 0/140 [00:00<?, ?it/s]",
      "application/vnd.jupyter.widget-view+json": {
       "version_major": 2,
       "version_minor": 0,
       "model_id": "b16fa075ea9f42dcb46a2f39d45d7eb4"
      }
     },
     "metadata": {},
     "output_type": "display_data"
    },
    {
     "name": "stdout",
     "output_type": "stream",
     "text": [
      "Epoch: 7 | Loss: 3.778 | Test loss: 3.839 | Train Acc: 4.428569316864014 | Test Acc: 6.666664123535156\n"
     ]
    },
    {
     "data": {
      "text/plain": "  0%|          | 0/140 [00:00<?, ?it/s]",
      "application/vnd.jupyter.widget-view+json": {
       "version_major": 2,
       "version_minor": 0,
       "model_id": "ded10e62e1ab4581b123d9ad0ba4bdc7"
      }
     },
     "metadata": {},
     "output_type": "display_data"
    },
    {
     "name": "stdout",
     "output_type": "stream",
     "text": [
      "Epoch: 8 | Loss: 3.762 | Test loss: 3.829 | Train Acc: 4.928569316864014 | Test Acc: 0.0\n"
     ]
    },
    {
     "data": {
      "text/plain": "  0%|          | 0/140 [00:00<?, ?it/s]",
      "application/vnd.jupyter.widget-view+json": {
       "version_major": 2,
       "version_minor": 0,
       "model_id": "556c1bf436b7433fa2b1fef31444480a"
      }
     },
     "metadata": {},
     "output_type": "display_data"
    },
    {
     "name": "stdout",
     "output_type": "stream",
     "text": [
      "Epoch: 9 | Loss: 3.764 | Test loss: 3.825 | Train Acc: 4.857141017913818 | Test Acc: 3.500000476837158\n"
     ]
    },
    {
     "data": {
      "text/plain": "  0%|          | 0/140 [00:00<?, ?it/s]",
      "application/vnd.jupyter.widget-view+json": {
       "version_major": 2,
       "version_minor": 0,
       "model_id": "19b7ce3214534046b021e20bd21b74ce"
      }
     },
     "metadata": {},
     "output_type": "display_data"
    },
    {
     "name": "stdout",
     "output_type": "stream",
     "text": [
      "Epoch: 10 | Loss: 3.762 | Test loss: 3.846 | Train Acc: 4.928569316864014 | Test Acc: 6.999997138977051\n"
     ]
    },
    {
     "data": {
      "text/plain": "  0%|          | 0/140 [00:00<?, ?it/s]",
      "application/vnd.jupyter.widget-view+json": {
       "version_major": 2,
       "version_minor": 0,
       "model_id": "e27f2aa4621a4937bf01877ed17db19b"
      }
     },
     "metadata": {},
     "output_type": "display_data"
    },
    {
     "name": "stdout",
     "output_type": "stream",
     "text": [
      "Epoch: 11 | Loss: 3.745 | Test loss: 3.837 | Train Acc: 5.999997615814209 | Test Acc: 0.0\n"
     ]
    },
    {
     "data": {
      "text/plain": "  0%|          | 0/140 [00:00<?, ?it/s]",
      "application/vnd.jupyter.widget-view+json": {
       "version_major": 2,
       "version_minor": 0,
       "model_id": "5779658ac4d0458a95f95d224ed5a8e0"
      }
     },
     "metadata": {},
     "output_type": "display_data"
    },
    {
     "name": "stdout",
     "output_type": "stream",
     "text": [
      "Epoch: 12 | Loss: 3.744 | Test loss: 3.881 | Train Acc: 4.714283466339111 | Test Acc: 7.499996662139893\n"
     ]
    },
    {
     "data": {
      "text/plain": "  0%|          | 0/140 [00:00<?, ?it/s]",
      "application/vnd.jupyter.widget-view+json": {
       "version_major": 2,
       "version_minor": 0,
       "model_id": "76f4f3622e6a470294863e2754a8a15c"
      }
     },
     "metadata": {},
     "output_type": "display_data"
    },
    {
     "name": "stdout",
     "output_type": "stream",
     "text": [
      "Epoch: 13 | Loss: 3.743 | Test loss: 3.842 | Train Acc: 4.5714263916015625 | Test Acc: 0.5000000596046448\n"
     ]
    },
    {
     "data": {
      "text/plain": "  0%|          | 0/140 [00:00<?, ?it/s]",
      "application/vnd.jupyter.widget-view+json": {
       "version_major": 2,
       "version_minor": 0,
       "model_id": "b0776837184c433ea6d231968ba12fd5"
      }
     },
     "metadata": {},
     "output_type": "display_data"
    },
    {
     "name": "stdout",
     "output_type": "stream",
     "text": [
      "Epoch: 14 | Loss: 3.721 | Test loss: 3.851 | Train Acc: 6.357141494750977 | Test Acc: 7.499996662139893\n"
     ]
    },
    {
     "data": {
      "text/plain": "  0%|          | 0/140 [00:00<?, ?it/s]",
      "application/vnd.jupyter.widget-view+json": {
       "version_major": 2,
       "version_minor": 0,
       "model_id": "bcfa983247534e32928241180c6e4b37"
      }
     },
     "metadata": {},
     "output_type": "display_data"
    },
    {
     "name": "stdout",
     "output_type": "stream",
     "text": [
      "Epoch: 15 | Loss: 3.723 | Test loss: 3.849 | Train Acc: 6.071425914764404 | Test Acc: 1.1666667461395264\n"
     ]
    },
    {
     "data": {
      "text/plain": "  0%|          | 0/140 [00:00<?, ?it/s]",
      "application/vnd.jupyter.widget-view+json": {
       "version_major": 2,
       "version_minor": 0,
       "model_id": "80c5c4b9a8304f198eba9ca558a12ec1"
      }
     },
     "metadata": {},
     "output_type": "display_data"
    },
    {
     "name": "stdout",
     "output_type": "stream",
     "text": [
      "Epoch: 16 | Loss: 3.737 | Test loss: 3.879 | Train Acc: 6.857142448425293 | Test Acc: 0.0\n"
     ]
    },
    {
     "data": {
      "text/plain": "  0%|          | 0/140 [00:00<?, ?it/s]",
      "application/vnd.jupyter.widget-view+json": {
       "version_major": 2,
       "version_minor": 0,
       "model_id": "dbbc6351da5c4255ad58353c75640344"
      }
     },
     "metadata": {},
     "output_type": "display_data"
    },
    {
     "name": "stdout",
     "output_type": "stream",
     "text": [
      "Epoch: 17 | Loss: 3.729 | Test loss: 3.846 | Train Acc: 5.785711288452148 | Test Acc: 1.8333336114883423\n"
     ]
    },
    {
     "data": {
      "text/plain": "  0%|          | 0/140 [00:00<?, ?it/s]",
      "application/vnd.jupyter.widget-view+json": {
       "version_major": 2,
       "version_minor": 0,
       "model_id": "c98f3bfef65d4a98b965d83e4b504fc7"
      }
     },
     "metadata": {},
     "output_type": "display_data"
    },
    {
     "name": "stdout",
     "output_type": "stream",
     "text": [
      "Epoch: 18 | Loss: 3.718 | Test loss: 3.862 | Train Acc: 5.714282989501953 | Test Acc: 2.333333730697632\n"
     ]
    },
    {
     "data": {
      "text/plain": "  0%|          | 0/140 [00:00<?, ?it/s]",
      "application/vnd.jupyter.widget-view+json": {
       "version_major": 2,
       "version_minor": 0,
       "model_id": "14535f9422554f5280fa04af5471ca82"
      }
     },
     "metadata": {},
     "output_type": "display_data"
    },
    {
     "name": "stdout",
     "output_type": "stream",
     "text": [
      "Epoch: 19 | Loss: 3.714 | Test loss: 3.862 | Train Acc: 5.714282989501953 | Test Acc: 0.0\n"
     ]
    },
    {
     "data": {
      "text/plain": "  0%|          | 0/140 [00:00<?, ?it/s]",
      "application/vnd.jupyter.widget-view+json": {
       "version_major": 2,
       "version_minor": 0,
       "model_id": "9b97c3d450fd4074b203f0e474fb43fe"
      }
     },
     "metadata": {},
     "output_type": "display_data"
    },
    {
     "name": "stdout",
     "output_type": "stream",
     "text": [
      "Epoch: 20 | Loss: 3.705 | Test loss: 3.874 | Train Acc: 6.357141494750977 | Test Acc: 0.3333333432674408\n"
     ]
    },
    {
     "data": {
      "text/plain": "  0%|          | 0/140 [00:00<?, ?it/s]",
      "application/vnd.jupyter.widget-view+json": {
       "version_major": 2,
       "version_minor": 0,
       "model_id": "669e6b60e4c144fdab94420305bdc810"
      }
     },
     "metadata": {},
     "output_type": "display_data"
    },
    {
     "name": "stdout",
     "output_type": "stream",
     "text": [
      "Epoch: 21 | Loss: 3.703 | Test loss: 3.881 | Train Acc: 6.0714263916015625 | Test Acc: 0.0\n"
     ]
    },
    {
     "data": {
      "text/plain": "  0%|          | 0/140 [00:00<?, ?it/s]",
      "application/vnd.jupyter.widget-view+json": {
       "version_major": 2,
       "version_minor": 0,
       "model_id": "9e0dc7867e7f450db1e3c0f0640e7174"
      }
     },
     "metadata": {},
     "output_type": "display_data"
    },
    {
     "name": "stdout",
     "output_type": "stream",
     "text": [
      "Epoch: 22 | Loss: 3.712 | Test loss: 3.868 | Train Acc: 5.85714054107666 | Test Acc: 0.0\n"
     ]
    },
    {
     "data": {
      "text/plain": "  0%|          | 0/140 [00:00<?, ?it/s]",
      "application/vnd.jupyter.widget-view+json": {
       "version_major": 2,
       "version_minor": 0,
       "model_id": "4c018a233b8a4d66b146ab27adf0586f"
      }
     },
     "metadata": {},
     "output_type": "display_data"
    },
    {
     "name": "stdout",
     "output_type": "stream",
     "text": [
      "Epoch: 23 | Loss: 3.703 | Test loss: 3.863 | Train Acc: 6.9285688400268555 | Test Acc: 0.0\n"
     ]
    },
    {
     "data": {
      "text/plain": "  0%|          | 0/140 [00:00<?, ?it/s]",
      "application/vnd.jupyter.widget-view+json": {
       "version_major": 2,
       "version_minor": 0,
       "model_id": "abe80bda5eab429aaada10cdb19c5521"
      }
     },
     "metadata": {},
     "output_type": "display_data"
    },
    {
     "name": "stdout",
     "output_type": "stream",
     "text": [
      "Epoch: 24 | Loss: 3.696 | Test loss: 3.882 | Train Acc: 6.571427822113037 | Test Acc: 1.3333334922790527\n"
     ]
    },
    {
     "data": {
      "text/plain": "  0%|          | 0/140 [00:00<?, ?it/s]",
      "application/vnd.jupyter.widget-view+json": {
       "version_major": 2,
       "version_minor": 0,
       "model_id": "de6d1b42499a4c07b2b275f0a5b4e7ea"
      }
     },
     "metadata": {},
     "output_type": "display_data"
    },
    {
     "name": "stdout",
     "output_type": "stream",
     "text": [
      "Epoch: 25 | Loss: 3.696 | Test loss: 3.883 | Train Acc: 6.214284896850586 | Test Acc: 0.3333333432674408\n"
     ]
    },
    {
     "data": {
      "text/plain": "  0%|          | 0/140 [00:00<?, ?it/s]",
      "application/vnd.jupyter.widget-view+json": {
       "version_major": 2,
       "version_minor": 0,
       "model_id": "b4deef8f77414b1d8cab239b7ef4d1a9"
      }
     },
     "metadata": {},
     "output_type": "display_data"
    },
    {
     "ename": "KeyboardInterrupt",
     "evalue": "",
     "output_type": "error",
     "traceback": [
      "\u001B[0;31m---------------------------------------------------------------------------\u001B[0m",
      "\u001B[0;31mKeyboardInterrupt\u001B[0m                         Traceback (most recent call last)",
      "Cell \u001B[0;32mIn[280], line 31\u001B[0m\n\u001B[1;32m     29\u001B[0m model\u001B[38;5;241m.\u001B[39mtrain()\n\u001B[1;32m     30\u001B[0m \u001B[38;5;66;03m#Note 0.1. Put data on CPU\u001B[39;00m\n\u001B[0;32m---> 31\u001B[0m X \u001B[38;5;241m=\u001B[39m \u001B[43mX\u001B[49m\u001B[38;5;241;43m.\u001B[39;49m\u001B[43mto\u001B[49m\u001B[43m(\u001B[49m\u001B[43mdevice\u001B[49m\u001B[43m)\u001B[49m\n\u001B[1;32m     32\u001B[0m y \u001B[38;5;241m=\u001B[39m y\u001B[38;5;241m.\u001B[39mto(device)\n\u001B[1;32m     34\u001B[0m \u001B[38;5;66;03m#Note 0.2. Check That Data has values - #ERROR This can be deleted quite honestly\u001B[39;00m\n",
      "\u001B[0;31mKeyboardInterrupt\u001B[0m: "
     ]
    }
   ],
   "source": [
    "# NOTE: SETUP METRICS USING TORCH LIBRARY - NOT SURE IF THIS MAKES IT EASIER OR NOT \n",
    "acc_func = Accuracy(task=\"multiclass\", num_classes=50).to(device)\n",
    "\n",
    "# NOTE: SETUP TQDM TO SHOW A PROGRESS BAR\n",
    "from tqdm.auto import tqdm \n",
    "\n",
    "#Summary 1: Create Model\n",
    "model = model.to(device)\n",
    "\n",
    "#Summary 2: Create Loss Function & Optimizer\n",
    "loss_fn = nn.CrossEntropyLoss()\n",
    "optimizer = torch.optim.SGD(model.parameters(), lr=0.001)\n",
    "\n",
    "#Summary 3: Setup SummaryWriter\n",
    "from torch.utils.tensorboard import SummaryWriter\n",
    "_MODEL_NAME_ = \"model50_test_trash\" #NOTE: CHANGE ME\n",
    "writer = SummaryWriter(\"runs/\" + _MODEL_NAME_)\n",
    "\n",
    "### Training loop\n",
    "epochs = 50\n",
    "for epoch in tqdm(range(epochs)):\n",
    "\n",
    "    train_loss = 0\n",
    "    train_acc = 0\n",
    "    \n",
    "    #ii TRAINING loop\n",
    "    for batch, (X, y) in enumerate(tqdm(train_dataloader)):\n",
    "        #Note 0. Turn On Training Mode\n",
    "        model.train()\n",
    "        #Note 0.1. Put data on CPU\n",
    "        X = X.to(device)\n",
    "        y = y.to(device)\n",
    "\n",
    "        #Note 0.2. Check That Data has values - #ERROR This can be deleted quite honestly\n",
    "        if torch.isnan(X).any() or torch.isinf(X).any():\n",
    "            print(\"Data contains NaN or Inf values.\")\n",
    "\n",
    "        #Note 1. Forward pass\n",
    "        logits = model(X)\n",
    "        #Note 1.1 Convert Raw Logit Outputs to y predictions\n",
    "        y_pred = torch.softmax(logits, dim = 1)  #;print(y_pred.shape)\n",
    "        #Note 1.2 Convert y predictions to labels as y hat\n",
    "        y_hat = torch.argmax(y_pred, dim = 1)  #;print(y_hat.shape);print(y_hat)\n",
    "\n",
    "        #Note 2. Loss calculation\n",
    "        loss = loss_fn(logits, y)\n",
    "        #Note 2.1 Cumulatively add up the LOSS per epoch\n",
    "        train_loss += loss\n",
    "        #Note 2.1 Cumulatively add up the ACCURACY per epoch\n",
    "        train_acc += acc_func(y, y_hat)  #this slows down the runtime?\n",
    "\n",
    "        #Note 3. Optimizer zero grad - reset gradients\n",
    "        optimizer.zero_grad()\n",
    "        #Note 4. Loss backward - Backward propagation\n",
    "        loss.backward()\n",
    "        #Note 5. Step the optimizer - optimize\\upgade weight\\biases\\paramters of kernels\n",
    "        optimizer.step()\n",
    "\n",
    "    #Summary: Adjust TRAIN LOSS & ACCURACY for number of batches \n",
    "    #SUMMARY: Meaning -> Divide total TRAIN LOSS & ACC by length of TRAIN DATALOADER = (average loss per batch per epoch)\n",
    "    train_loss /= len(train_dataloader)\n",
    "    train_acc /= len(train_dataloader)\n",
    "\n",
    "    #ii TESTING loop\n",
    "    #Note 0. init Metric Params\n",
    "    test_loss = 0\n",
    "    test_acc = 0\n",
    "    \n",
    "    #Note 1. Put model in eval mode \n",
    "    model.eval()\n",
    "\n",
    "    #Note 1.1 Turn on inference mode - best way currently to do evaluation\n",
    "    with torch.inference_mode():\n",
    "        for batch, (X_test, y_test) in enumerate(test_dataloader):\n",
    "            #Note 2. Make sure test data on CPU\n",
    "            X_test, y_test = X_test.to(device), y_test.to(device)\n",
    "            #Note 3. Forward Pass\n",
    "            logits = model(X_test)\n",
    "            #Note 3.1 Convert Raw Logits (outputs) to y predictions\n",
    "            y_pred = torch.softmax(logits, dim = 1)  #;print(y_pred.shape)\n",
    "            #Note 3.2 Convert y predictions to y labels as y hat\n",
    "            y_hat = torch.argmax(y_pred, dim = 1)\n",
    "\n",
    "            \n",
    "            \n",
    "            #Note 4. Calculate The Loss\n",
    "            loss = loss_fn(logits, y_test)\n",
    "            #Note 4.1 Cumulatively add up the LOSS per epoch (all batches)\n",
    "            test_loss += loss\n",
    "            #Note 4.2 Cumulatively add up the ACCURACY per epoch (all batches)\n",
    "            test_acc += acc_func(y, y_hat)  #this slows down the runtime\n",
    "        \n",
    "        #Summary: Adjust TEST LOSS & ACCURACY for number of batches \n",
    "        #SUMMARY: Meaning -> Divide total TEST LOSS & ACC by length of TEST DATALOADER = (average loss per batch per epoch)\n",
    "        test_loss /= len(test_dataloader)\n",
    "        test_acc /= len(test_dataloader)\n",
    "\n",
    "    # Print out what's happening\n",
    "    print(f\"Epoch: {epoch} | Loss: {train_loss:.3f} | Test loss: {test_loss:.3f} | Train Acc: {train_acc * 100} | Test Acc: {test_acc * 100}\")\n",
    "    \n",
    "    #Note: Tensorboard Logging\n",
    "    #writer.add_scalar(\"Loss/Train\", train_loss, epoch)\n",
    "    #writer.add_scalar(\"Loss/Test\", test_loss, epoch)\n",
    "    #writer.add_scalar(\"Accuracy/Train\", train_acc*100, epoch)\n",
    "    #writer.add_scalar(tag = \"Accuracy/Test\", scalar_value = test_acc*100,global_step =  epoch)\n",
    "    \n",
    "    writer.add_scalars(\"Loss\",{'Train':train_loss},epoch)\n",
    "    writer.add_scalars(\"Loss\",{'Test':test_loss},epoch)\n",
    "\n",
    "    \n",
    "    writer.add_scalars(\"Accuracy\",{'Train':train_acc*100},epoch)\n",
    "    writer.add_scalars(\"Accuracy\",{'Test':test_acc*100},epoch)\n",
    "\n",
    "    writer.add_scalars(\"Train Loss/Accuracy\",{'Loss':train_loss},epoch)\n",
    "    writer.add_scalars(\"Train Loss/Accuracy\",{'Accuracy':train_acc*100},epoch)\n",
    "\n",
    "    writer.add_scalars(\"Test Loss/Accuracy\",{'Loss':test_loss},epoch)\n",
    "    writer.add_scalars(\"Test Loss/Accuracy\",{'Accuracy':test_acc*100},epoch)\n",
    "\n",
    "\n",
    "    #Call flush() method to make sure that all pending events have been written to disk.\n",
    "    writer.flush()\n",
    "\n",
    "writer.close()"
   ],
   "metadata": {
    "collapsed": false,
    "ExecuteTime": {
     "end_time": "2024-06-17T12:25:58.751235Z",
     "start_time": "2024-06-17T12:24:48.598211Z"
    }
   },
   "id": "6e03ff4858895a60"
  },
  {
   "cell_type": "code",
   "execution_count": 281,
   "outputs": [],
   "source": [
    "#Add Model Structure To TensorBoard\n",
    "coeff,y = next(iter(test_dataloader))\n",
    "writer.add_graph(model, coeff.to(device))\n",
    "writer.close()"
   ],
   "metadata": {
    "collapsed": false,
    "ExecuteTime": {
     "end_time": "2024-06-17T12:26:01.339387Z",
     "start_time": "2024-06-17T12:26:01.265582Z"
    }
   },
   "id": "24b47ab974fa72e4"
  },
  {
   "cell_type": "code",
   "execution_count": 283,
   "outputs": [
    {
     "data": {
      "image/svg+xml": "<?xml version=\"1.0\" encoding=\"UTF-8\" standalone=\"no\"?>\n<!DOCTYPE svg PUBLIC \"-//W3C//DTD SVG 1.1//EN\"\n \"http://www.w3.org/Graphics/SVG/1.1/DTD/svg11.dtd\">\n<!-- Generated by graphviz version 11.0.0 (0)\n -->\n<!-- Title: MLP Pages: 1 -->\n<svg width=\"238pt\" height=\"840pt\"\n viewBox=\"0.00 0.00 238.00 839.50\" xmlns=\"http://www.w3.org/2000/svg\" xmlns:xlink=\"http://www.w3.org/1999/xlink\">\n<g id=\"graph0\" class=\"graph\" transform=\"scale(1 1) rotate(0) translate(4 835.5)\">\n<title>MLP</title>\n<polygon fill=\"white\" stroke=\"none\" points=\"-4,4 -4,-835.5 234,-835.5 234,4 -4,4\"/>\n<g id=\"clust1\" class=\"cluster\">\n<title>cluster_2</title>\n<polygon fill=\"none\" stroke=\"black\" stroke-dasharray=\"5,2\" points=\"8,-320.75 8,-791 222,-791 222,-320.75 8,-320.75\"/>\n<text text-anchor=\"middle\" x=\"40.75\" y=\"-775.6\" font-family=\"Times,serif\" font-size=\"12.00\">Sequential</text>\n</g>\n<g id=\"clust2\" class=\"cluster\">\n<title>cluster_3</title>\n<polygon fill=\"none\" stroke=\"black\" stroke-dasharray=\"5,2\" points=\"30,-8 30,-312.75 200,-312.75 200,-8 30,-8\"/>\n<text text-anchor=\"middle\" x=\"62.75\" y=\"-297.35\" font-family=\"Times,serif\" font-size=\"12.00\">Sequential</text>\n</g>\n<!-- 0 -->\n<g id=\"node1\" class=\"node\">\n<title>0</title>\n<polygon fill=\"lightyellow\" stroke=\"none\" points=\"183.5,-831.5 46.5,-831.5 46.5,-799 183.5,-799 183.5,-831.5\"/>\n<polygon fill=\"none\" stroke=\"black\" points=\"46.5,-799 46.5,-831.5 107.5,-831.5 107.5,-799 46.5,-799\"/>\n<text text-anchor=\"start\" x=\"51.5\" y=\"-817\" font-family=\"Linux libertine\" font-size=\"10.00\">input&#45;tensor</text>\n<text text-anchor=\"start\" x=\"60.88\" y=\"-805.75\" font-family=\"Linux libertine\" font-size=\"10.00\">depth:0</text>\n<polygon fill=\"none\" stroke=\"black\" points=\"107.5,-799 107.5,-831.5 183.5,-831.5 183.5,-799 107.5,-799\"/>\n<text text-anchor=\"start\" x=\"112.5\" y=\"-811.38\" font-family=\"Linux libertine\" font-size=\"10.00\">(20, 3, 498, 13)</text>\n</g>\n<!-- 1 -->\n<g id=\"node2\" class=\"node\">\n<title>1</title>\n<polygon fill=\"#c1ffc1\" stroke=\"none\" points=\"200,-760.75 30,-760.75 30,-718.75 200,-718.75 200,-760.75\"/>\n<polygon fill=\"none\" stroke=\"black\" points=\"30,-718.75 30,-760.75 73,-760.75 73,-718.75 30,-718.75\"/>\n<text text-anchor=\"start\" x=\"34.62\" y=\"-741.5\" font-family=\"Linux libertine\" font-size=\"10.00\">Conv2d</text>\n<text text-anchor=\"start\" x=\"35.38\" y=\"-730.25\" font-family=\"Linux libertine\" font-size=\"10.00\">depth:2</text>\n<polygon fill=\"none\" stroke=\"black\" points=\"73,-739.75 73,-760.75 116,-760.75 116,-739.75 73,-739.75\"/>\n<text text-anchor=\"start\" x=\"82.5\" y=\"-746.25\" font-family=\"Linux libertine\" font-size=\"10.00\">input:</text>\n<polygon fill=\"none\" stroke=\"black\" points=\"116,-739.75 116,-760.75 200,-760.75 200,-739.75 116,-739.75\"/>\n<text text-anchor=\"start\" x=\"123.5\" y=\"-746.25\" font-family=\"Linux libertine\" font-size=\"10.00\">(20, 3, 498, 13) </text>\n<polygon fill=\"none\" stroke=\"black\" points=\"73,-718.75 73,-739.75 116,-739.75 116,-718.75 73,-718.75\"/>\n<text text-anchor=\"start\" x=\"78\" y=\"-725.25\" font-family=\"Linux libertine\" font-size=\"10.00\">output: </text>\n<polygon fill=\"none\" stroke=\"black\" points=\"116,-718.75 116,-739.75 200,-739.75 200,-718.75 116,-718.75\"/>\n<text text-anchor=\"start\" x=\"120.88\" y=\"-725.25\" font-family=\"Linux libertine\" font-size=\"10.00\">(20, 40, 491, 13) </text>\n</g>\n<!-- 0&#45;&gt;1 -->\n<g id=\"edge1\" class=\"edge\">\n<title>0&#45;&gt;1</title>\n<path fill=\"none\" stroke=\"black\" d=\"M115,-799.02C115,-791.22 115,-781.41 115,-772.08\"/>\n<polygon fill=\"black\" stroke=\"black\" points=\"118.5,-772.22 115,-762.22 111.5,-772.22 118.5,-772.22\"/>\n</g>\n<!-- 2 -->\n<g id=\"node3\" class=\"node\">\n<title>2</title>\n<polygon fill=\"#c1ffc1\" stroke=\"none\" points=\"213.5,-682.75 16.5,-682.75 16.5,-640.75 213.5,-640.75 213.5,-682.75\"/>\n<polygon fill=\"none\" stroke=\"black\" points=\"16.5,-640.75 16.5,-682.75 86.5,-682.75 86.5,-640.75 16.5,-640.75\"/>\n<text text-anchor=\"start\" x=\"21.5\" y=\"-663.5\" font-family=\"Linux libertine\" font-size=\"10.00\">BatchNorm2d</text>\n<text text-anchor=\"start\" x=\"35.38\" y=\"-652.25\" font-family=\"Linux libertine\" font-size=\"10.00\">depth:2</text>\n<polygon fill=\"none\" stroke=\"black\" points=\"86.5,-661.75 86.5,-682.75 129.5,-682.75 129.5,-661.75 86.5,-661.75\"/>\n<text text-anchor=\"start\" x=\"96\" y=\"-668.25\" font-family=\"Linux libertine\" font-size=\"10.00\">input:</text>\n<polygon fill=\"none\" stroke=\"black\" points=\"129.5,-661.75 129.5,-682.75 213.5,-682.75 213.5,-661.75 129.5,-661.75\"/>\n<text text-anchor=\"start\" x=\"134.38\" y=\"-668.25\" font-family=\"Linux libertine\" font-size=\"10.00\">(20, 40, 491, 13) </text>\n<polygon fill=\"none\" stroke=\"black\" points=\"86.5,-640.75 86.5,-661.75 129.5,-661.75 129.5,-640.75 86.5,-640.75\"/>\n<text text-anchor=\"start\" x=\"91.5\" y=\"-647.25\" font-family=\"Linux libertine\" font-size=\"10.00\">output: </text>\n<polygon fill=\"none\" stroke=\"black\" points=\"129.5,-640.75 129.5,-661.75 213.5,-661.75 213.5,-640.75 129.5,-640.75\"/>\n<text text-anchor=\"start\" x=\"134.38\" y=\"-647.25\" font-family=\"Linux libertine\" font-size=\"10.00\">(20, 40, 491, 13) </text>\n</g>\n<!-- 1&#45;&gt;2 -->\n<g id=\"edge2\" class=\"edge\">\n<title>1&#45;&gt;2</title>\n<path fill=\"none\" stroke=\"black\" d=\"M115,-718.78C115,-711.19 115,-702.35 115,-693.96\"/>\n<polygon fill=\"black\" stroke=\"black\" points=\"118.5,-694.1 115,-684.1 111.5,-694.1 118.5,-694.1\"/>\n</g>\n<!-- 3 -->\n<g id=\"node4\" class=\"node\">\n<title>3</title>\n<polygon fill=\"#c1ffc1\" stroke=\"none\" points=\"200,-604.75 30,-604.75 30,-562.75 200,-562.75 200,-604.75\"/>\n<polygon fill=\"none\" stroke=\"black\" points=\"30,-562.75 30,-604.75 73,-604.75 73,-562.75 30,-562.75\"/>\n<text text-anchor=\"start\" x=\"34.62\" y=\"-585.5\" font-family=\"Linux libertine\" font-size=\"10.00\">Conv2d</text>\n<text text-anchor=\"start\" x=\"35.38\" y=\"-574.25\" font-family=\"Linux libertine\" font-size=\"10.00\">depth:2</text>\n<polygon fill=\"none\" stroke=\"black\" points=\"73,-583.75 73,-604.75 116,-604.75 116,-583.75 73,-583.75\"/>\n<text text-anchor=\"start\" x=\"82.5\" y=\"-590.25\" font-family=\"Linux libertine\" font-size=\"10.00\">input:</text>\n<polygon fill=\"none\" stroke=\"black\" points=\"116,-583.75 116,-604.75 200,-604.75 200,-583.75 116,-583.75\"/>\n<text text-anchor=\"start\" x=\"120.88\" y=\"-590.25\" font-family=\"Linux libertine\" font-size=\"10.00\">(20, 40, 491, 13) </text>\n<polygon fill=\"none\" stroke=\"black\" points=\"73,-562.75 73,-583.75 116,-583.75 116,-562.75 73,-562.75\"/>\n<text text-anchor=\"start\" x=\"78\" y=\"-569.25\" font-family=\"Linux libertine\" font-size=\"10.00\">output: </text>\n<polygon fill=\"none\" stroke=\"black\" points=\"116,-562.75 116,-583.75 200,-583.75 200,-562.75 116,-562.75\"/>\n<text text-anchor=\"start\" x=\"120.88\" y=\"-569.25\" font-family=\"Linux libertine\" font-size=\"10.00\">(20, 40, 484, 13) </text>\n</g>\n<!-- 2&#45;&gt;3 -->\n<g id=\"edge3\" class=\"edge\">\n<title>2&#45;&gt;3</title>\n<path fill=\"none\" stroke=\"black\" d=\"M115,-640.78C115,-633.19 115,-624.35 115,-615.96\"/>\n<polygon fill=\"black\" stroke=\"black\" points=\"118.5,-616.1 115,-606.1 111.5,-616.1 118.5,-616.1\"/>\n</g>\n<!-- 4 -->\n<g id=\"node5\" class=\"node\">\n<title>4</title>\n<polygon fill=\"#c1ffc1\" stroke=\"none\" points=\"213.5,-526.75 16.5,-526.75 16.5,-484.75 213.5,-484.75 213.5,-526.75\"/>\n<polygon fill=\"none\" stroke=\"black\" points=\"16.5,-484.75 16.5,-526.75 86.5,-526.75 86.5,-484.75 16.5,-484.75\"/>\n<text text-anchor=\"start\" x=\"21.5\" y=\"-507.5\" font-family=\"Linux libertine\" font-size=\"10.00\">BatchNorm2d</text>\n<text text-anchor=\"start\" x=\"35.38\" y=\"-496.25\" font-family=\"Linux libertine\" font-size=\"10.00\">depth:2</text>\n<polygon fill=\"none\" stroke=\"black\" points=\"86.5,-505.75 86.5,-526.75 129.5,-526.75 129.5,-505.75 86.5,-505.75\"/>\n<text text-anchor=\"start\" x=\"96\" y=\"-512.25\" font-family=\"Linux libertine\" font-size=\"10.00\">input:</text>\n<polygon fill=\"none\" stroke=\"black\" points=\"129.5,-505.75 129.5,-526.75 213.5,-526.75 213.5,-505.75 129.5,-505.75\"/>\n<text text-anchor=\"start\" x=\"134.38\" y=\"-512.25\" font-family=\"Linux libertine\" font-size=\"10.00\">(20, 40, 484, 13) </text>\n<polygon fill=\"none\" stroke=\"black\" points=\"86.5,-484.75 86.5,-505.75 129.5,-505.75 129.5,-484.75 86.5,-484.75\"/>\n<text text-anchor=\"start\" x=\"91.5\" y=\"-491.25\" font-family=\"Linux libertine\" font-size=\"10.00\">output: </text>\n<polygon fill=\"none\" stroke=\"black\" points=\"129.5,-484.75 129.5,-505.75 213.5,-505.75 213.5,-484.75 129.5,-484.75\"/>\n<text text-anchor=\"start\" x=\"134.38\" y=\"-491.25\" font-family=\"Linux libertine\" font-size=\"10.00\">(20, 40, 484, 13) </text>\n</g>\n<!-- 3&#45;&gt;4 -->\n<g id=\"edge4\" class=\"edge\">\n<title>3&#45;&gt;4</title>\n<path fill=\"none\" stroke=\"black\" d=\"M115,-562.78C115,-555.19 115,-546.35 115,-537.96\"/>\n<polygon fill=\"black\" stroke=\"black\" points=\"118.5,-538.1 115,-528.1 111.5,-538.1 118.5,-538.1\"/>\n</g>\n<!-- 5 -->\n<g id=\"node6\" class=\"node\">\n<title>5</title>\n<polygon fill=\"#c1ffc1\" stroke=\"none\" points=\"207.5,-448.75 22.5,-448.75 22.5,-406.75 207.5,-406.75 207.5,-448.75\"/>\n<polygon fill=\"none\" stroke=\"black\" points=\"22.5,-406.75 22.5,-448.75 80.5,-448.75 80.5,-406.75 22.5,-406.75\"/>\n<text text-anchor=\"start\" x=\"27.12\" y=\"-429.5\" font-family=\"Linux libertine\" font-size=\"10.00\">MaxPool2d</text>\n<text text-anchor=\"start\" x=\"35.38\" y=\"-418.25\" font-family=\"Linux libertine\" font-size=\"10.00\">depth:2</text>\n<polygon fill=\"none\" stroke=\"black\" points=\"80.5,-427.75 80.5,-448.75 123.5,-448.75 123.5,-427.75 80.5,-427.75\"/>\n<text text-anchor=\"start\" x=\"90\" y=\"-434.25\" font-family=\"Linux libertine\" font-size=\"10.00\">input:</text>\n<polygon fill=\"none\" stroke=\"black\" points=\"123.5,-427.75 123.5,-448.75 207.5,-448.75 207.5,-427.75 123.5,-427.75\"/>\n<text text-anchor=\"start\" x=\"128.38\" y=\"-434.25\" font-family=\"Linux libertine\" font-size=\"10.00\">(20, 40, 484, 13) </text>\n<polygon fill=\"none\" stroke=\"black\" points=\"80.5,-406.75 80.5,-427.75 123.5,-427.75 123.5,-406.75 80.5,-406.75\"/>\n<text text-anchor=\"start\" x=\"85.5\" y=\"-413.25\" font-family=\"Linux libertine\" font-size=\"10.00\">output: </text>\n<polygon fill=\"none\" stroke=\"black\" points=\"123.5,-406.75 123.5,-427.75 207.5,-427.75 207.5,-406.75 123.5,-406.75\"/>\n<text text-anchor=\"start\" x=\"136.25\" y=\"-413.25\" font-family=\"Linux libertine\" font-size=\"10.00\">(20, 40, 4, 1) </text>\n</g>\n<!-- 4&#45;&gt;5 -->\n<g id=\"edge5\" class=\"edge\">\n<title>4&#45;&gt;5</title>\n<path fill=\"none\" stroke=\"black\" d=\"M115,-484.78C115,-477.19 115,-468.35 115,-459.96\"/>\n<polygon fill=\"black\" stroke=\"black\" points=\"118.5,-460.1 115,-450.1 111.5,-460.1 118.5,-460.1\"/>\n</g>\n<!-- 6 -->\n<g id=\"node7\" class=\"node\">\n<title>6</title>\n<polygon fill=\"#c1ffc1\" stroke=\"none\" points=\"191.5,-370.75 38.5,-370.75 38.5,-328.75 191.5,-328.75 191.5,-370.75\"/>\n<polygon fill=\"none\" stroke=\"black\" points=\"38.5,-328.75 38.5,-370.75 80.5,-370.75 80.5,-328.75 38.5,-328.75\"/>\n<text text-anchor=\"start\" x=\"46.75\" y=\"-351.5\" font-family=\"Linux libertine\" font-size=\"10.00\">ReLU</text>\n<text text-anchor=\"start\" x=\"43.38\" y=\"-340.25\" font-family=\"Linux libertine\" font-size=\"10.00\">depth:2</text>\n<polygon fill=\"none\" stroke=\"black\" points=\"80.5,-349.75 80.5,-370.75 123.5,-370.75 123.5,-349.75 80.5,-349.75\"/>\n<text text-anchor=\"start\" x=\"90\" y=\"-356.25\" font-family=\"Linux libertine\" font-size=\"10.00\">input:</text>\n<polygon fill=\"none\" stroke=\"black\" points=\"123.5,-349.75 123.5,-370.75 191.5,-370.75 191.5,-349.75 123.5,-349.75\"/>\n<text text-anchor=\"start\" x=\"128.25\" y=\"-356.25\" font-family=\"Linux libertine\" font-size=\"10.00\">(20, 40, 4, 1) </text>\n<polygon fill=\"none\" stroke=\"black\" points=\"80.5,-328.75 80.5,-349.75 123.5,-349.75 123.5,-328.75 80.5,-328.75\"/>\n<text text-anchor=\"start\" x=\"85.5\" y=\"-335.25\" font-family=\"Linux libertine\" font-size=\"10.00\">output: </text>\n<polygon fill=\"none\" stroke=\"black\" points=\"123.5,-328.75 123.5,-349.75 191.5,-349.75 191.5,-328.75 123.5,-328.75\"/>\n<text text-anchor=\"start\" x=\"128.25\" y=\"-335.25\" font-family=\"Linux libertine\" font-size=\"10.00\">(20, 40, 4, 1) </text>\n</g>\n<!-- 5&#45;&gt;6 -->\n<g id=\"edge6\" class=\"edge\">\n<title>5&#45;&gt;6</title>\n<path fill=\"none\" stroke=\"black\" d=\"M115,-406.78C115,-399.19 115,-390.35 115,-381.96\"/>\n<polygon fill=\"black\" stroke=\"black\" points=\"118.5,-382.1 115,-372.1 111.5,-382.1 118.5,-382.1\"/>\n</g>\n<!-- 7 -->\n<g id=\"node8\" class=\"node\">\n<title>7</title>\n<polygon fill=\"#c1ffc1\" stroke=\"none\" points=\"191.5,-282.5 38.5,-282.5 38.5,-240.5 191.5,-240.5 191.5,-282.5\"/>\n<polygon fill=\"none\" stroke=\"black\" points=\"38.5,-240.5 38.5,-282.5 80.5,-282.5 80.5,-240.5 38.5,-240.5\"/>\n<text text-anchor=\"start\" x=\"44.5\" y=\"-263.25\" font-family=\"Linux libertine\" font-size=\"10.00\">Flatten</text>\n<text text-anchor=\"start\" x=\"43.38\" y=\"-252\" font-family=\"Linux libertine\" font-size=\"10.00\">depth:2</text>\n<polygon fill=\"none\" stroke=\"black\" points=\"80.5,-261.5 80.5,-282.5 123.5,-282.5 123.5,-261.5 80.5,-261.5\"/>\n<text text-anchor=\"start\" x=\"90\" y=\"-268\" font-family=\"Linux libertine\" font-size=\"10.00\">input:</text>\n<polygon fill=\"none\" stroke=\"black\" points=\"123.5,-261.5 123.5,-282.5 191.5,-282.5 191.5,-261.5 123.5,-261.5\"/>\n<text text-anchor=\"start\" x=\"128.25\" y=\"-268\" font-family=\"Linux libertine\" font-size=\"10.00\">(20, 40, 4, 1) </text>\n<polygon fill=\"none\" stroke=\"black\" points=\"80.5,-240.5 80.5,-261.5 123.5,-261.5 123.5,-240.5 80.5,-240.5\"/>\n<text text-anchor=\"start\" x=\"85.5\" y=\"-247\" font-family=\"Linux libertine\" font-size=\"10.00\">output: </text>\n<polygon fill=\"none\" stroke=\"black\" points=\"123.5,-240.5 123.5,-261.5 191.5,-261.5 191.5,-240.5 123.5,-240.5\"/>\n<text text-anchor=\"start\" x=\"136.88\" y=\"-247\" font-family=\"Linux libertine\" font-size=\"10.00\">(20, 160) </text>\n</g>\n<!-- 6&#45;&gt;7 -->\n<g id=\"edge7\" class=\"edge\">\n<title>6&#45;&gt;7</title>\n<path fill=\"none\" stroke=\"black\" d=\"M115,-329.18C115,-318.67 115,-305.46 115,-293.58\"/>\n<polygon fill=\"black\" stroke=\"black\" points=\"118.5,-293.81 115,-283.81 111.5,-293.81 118.5,-293.81\"/>\n</g>\n<!-- 8 -->\n<g id=\"node9\" class=\"node\">\n<title>8</title>\n<polygon fill=\"#c1ffc1\" stroke=\"none\" points=\"183,-204.5 47,-204.5 47,-162.5 183,-162.5 183,-204.5\"/>\n<polygon fill=\"none\" stroke=\"black\" points=\"47,-162.5 47,-204.5 89,-204.5 89,-162.5 47,-162.5\"/>\n<text text-anchor=\"start\" x=\"54.88\" y=\"-185.25\" font-family=\"Linux libertine\" font-size=\"10.00\">Linear</text>\n<text text-anchor=\"start\" x=\"51.88\" y=\"-174\" font-family=\"Linux libertine\" font-size=\"10.00\">depth:2</text>\n<polygon fill=\"none\" stroke=\"black\" points=\"89,-183.5 89,-204.5 132,-204.5 132,-183.5 89,-183.5\"/>\n<text text-anchor=\"start\" x=\"98.5\" y=\"-190\" font-family=\"Linux libertine\" font-size=\"10.00\">input:</text>\n<polygon fill=\"none\" stroke=\"black\" points=\"132,-183.5 132,-204.5 183,-204.5 183,-183.5 132,-183.5\"/>\n<text text-anchor=\"start\" x=\"136.88\" y=\"-190\" font-family=\"Linux libertine\" font-size=\"10.00\">(20, 160) </text>\n<polygon fill=\"none\" stroke=\"black\" points=\"89,-162.5 89,-183.5 132,-183.5 132,-162.5 89,-162.5\"/>\n<text text-anchor=\"start\" x=\"94\" y=\"-169\" font-family=\"Linux libertine\" font-size=\"10.00\">output: </text>\n<polygon fill=\"none\" stroke=\"black\" points=\"132,-162.5 132,-183.5 183,-183.5 183,-162.5 132,-162.5\"/>\n<text text-anchor=\"start\" x=\"136.88\" y=\"-169\" font-family=\"Linux libertine\" font-size=\"10.00\">(20, 100) </text>\n</g>\n<!-- 7&#45;&gt;8 -->\n<g id=\"edge8\" class=\"edge\">\n<title>7&#45;&gt;8</title>\n<path fill=\"none\" stroke=\"black\" d=\"M115,-240.53C115,-232.94 115,-224.1 115,-215.71\"/>\n<polygon fill=\"black\" stroke=\"black\" points=\"118.5,-215.85 115,-205.85 111.5,-215.85 118.5,-215.85\"/>\n</g>\n<!-- 9 -->\n<g id=\"node10\" class=\"node\">\n<title>9</title>\n<polygon fill=\"#c1ffc1\" stroke=\"none\" points=\"183,-126.5 47,-126.5 47,-84.5 183,-84.5 183,-126.5\"/>\n<polygon fill=\"none\" stroke=\"black\" points=\"47,-84.5 47,-126.5 89,-126.5 89,-84.5 47,-84.5\"/>\n<text text-anchor=\"start\" x=\"54.88\" y=\"-107.25\" font-family=\"Linux libertine\" font-size=\"10.00\">Linear</text>\n<text text-anchor=\"start\" x=\"51.88\" y=\"-96\" font-family=\"Linux libertine\" font-size=\"10.00\">depth:2</text>\n<polygon fill=\"none\" stroke=\"black\" points=\"89,-105.5 89,-126.5 132,-126.5 132,-105.5 89,-105.5\"/>\n<text text-anchor=\"start\" x=\"98.5\" y=\"-112\" font-family=\"Linux libertine\" font-size=\"10.00\">input:</text>\n<polygon fill=\"none\" stroke=\"black\" points=\"132,-105.5 132,-126.5 183,-126.5 183,-105.5 132,-105.5\"/>\n<text text-anchor=\"start\" x=\"136.88\" y=\"-112\" font-family=\"Linux libertine\" font-size=\"10.00\">(20, 100) </text>\n<polygon fill=\"none\" stroke=\"black\" points=\"89,-84.5 89,-105.5 132,-105.5 132,-84.5 89,-84.5\"/>\n<text text-anchor=\"start\" x=\"94\" y=\"-91\" font-family=\"Linux libertine\" font-size=\"10.00\">output: </text>\n<polygon fill=\"none\" stroke=\"black\" points=\"132,-84.5 132,-105.5 183,-105.5 183,-84.5 132,-84.5\"/>\n<text text-anchor=\"start\" x=\"139.5\" y=\"-91\" font-family=\"Linux libertine\" font-size=\"10.00\">(20, 50) </text>\n</g>\n<!-- 8&#45;&gt;9 -->\n<g id=\"edge9\" class=\"edge\">\n<title>8&#45;&gt;9</title>\n<path fill=\"none\" stroke=\"black\" d=\"M115,-162.53C115,-154.94 115,-146.1 115,-137.71\"/>\n<polygon fill=\"black\" stroke=\"black\" points=\"118.5,-137.85 115,-127.85 111.5,-137.85 118.5,-137.85\"/>\n</g>\n<!-- 10 -->\n<g id=\"node11\" class=\"node\">\n<title>10</title>\n<polygon fill=\"lightyellow\" stroke=\"none\" points=\"170,-48.5 60,-48.5 60,-16 170,-16 170,-48.5\"/>\n<polygon fill=\"none\" stroke=\"black\" points=\"60,-16 60,-48.5 127,-48.5 127,-16 60,-16\"/>\n<text text-anchor=\"start\" x=\"65\" y=\"-34\" font-family=\"Linux libertine\" font-size=\"10.00\">output&#45;tensor</text>\n<text text-anchor=\"start\" x=\"77.38\" y=\"-22.75\" font-family=\"Linux libertine\" font-size=\"10.00\">depth:0</text>\n<polygon fill=\"none\" stroke=\"black\" points=\"127,-16 127,-48.5 170,-48.5 170,-16 127,-16\"/>\n<text text-anchor=\"start\" x=\"132\" y=\"-28.38\" font-family=\"Linux libertine\" font-size=\"10.00\">(20, 50)</text>\n</g>\n<!-- 9&#45;&gt;10 -->\n<g id=\"edge10\" class=\"edge\">\n<title>9&#45;&gt;10</title>\n<path fill=\"none\" stroke=\"black\" d=\"M115,-84.65C115,-76.91 115,-67.91 115,-59.63\"/>\n<polygon fill=\"black\" stroke=\"black\" points=\"118.5,-59.76 115,-49.76 111.5,-59.76 118.5,-59.76\"/>\n</g>\n</g>\n</svg>\n",
      "text/plain": "<graphviz.graphs.Digraph at 0x305166390>"
     },
     "execution_count": 283,
     "metadata": {},
     "output_type": "execute_result"
    }
   ],
   "source": [
    "\n",
    "#Summary: Plot The Model Structure & Sizes\n",
    "from torchview import draw_graph\n",
    "N = 20;C = 3;H=498;W = 13\n",
    "input_data = torch.randn(N,C,H,W)\n",
    "viz_model = PiczakRec(C,0,0,0,0,0,0,0)\n",
    "\n",
    "model_graph = draw_graph(viz_model,input_data,expand_nested=True, roll=True,graph_name='MLP',hide_inner_tensors=True,hide_module_functions=True)\n",
    "model_graph.visual_graph"
   ],
   "metadata": {
    "collapsed": false,
    "ExecuteTime": {
     "end_time": "2024-06-17T12:26:31.928109Z",
     "start_time": "2024-06-17T12:26:31.765434Z"
    }
   },
   "id": "721841eaa5742c15"
  },
  {
   "cell_type": "code",
   "execution_count": 212,
   "outputs": [
    {
     "data": {
      "image/svg+xml": "<?xml version=\"1.0\" encoding=\"UTF-8\" standalone=\"no\"?>\n<!DOCTYPE svg PUBLIC \"-//W3C//DTD SVG 1.1//EN\"\n \"http://www.w3.org/Graphics/SVG/1.1/DTD/svg11.dtd\">\n<!-- Generated by graphviz version 11.0.0 (0)\n -->\n<!-- Title: MLP Pages: 1 -->\n<svg width=\"240pt\" height=\"938pt\"\n viewBox=\"0.00 0.00 240.00 937.75\" xmlns=\"http://www.w3.org/2000/svg\" xmlns:xlink=\"http://www.w3.org/1999/xlink\">\n<g id=\"graph0\" class=\"graph\" transform=\"scale(1 1) rotate(0) translate(4 933.75)\">\n<title>MLP</title>\n<polygon fill=\"white\" stroke=\"none\" points=\"-4,4 -4,-933.75 236,-933.75 236,4 -4,4\"/>\n<g id=\"clust1\" class=\"cluster\">\n<title>cluster_2</title>\n<polygon fill=\"none\" stroke=\"black\" stroke-dasharray=\"5,2\" points=\"18,-682.5 18,-889.25 214,-889.25 214,-682.5 18,-682.5\"/>\n<text text-anchor=\"middle\" x=\"50.75\" y=\"-873.85\" font-family=\"Times,serif\" font-size=\"12.00\">Sequential</text>\n</g>\n<g id=\"clust2\" class=\"cluster\">\n<title>cluster_3</title>\n<polygon fill=\"none\" stroke=\"black\" stroke-dasharray=\"5,2\" points=\"26,-778.75 26,-859 206,-859 206,-778.75 26,-778.75\"/>\n<text text-anchor=\"middle\" x=\"53.12\" y=\"-843.6\" font-family=\"Times,serif\" font-size=\"12.00\">Conv2d</text>\n</g>\n<g id=\"clust3\" class=\"cluster\">\n<title>cluster_4</title>\n<polygon fill=\"none\" stroke=\"black\" stroke-dasharray=\"5,2\" points=\"26,-690.5 26,-770.75 206,-770.75 206,-690.5 26,-690.5\"/>\n<text text-anchor=\"middle\" x=\"49\" y=\"-755.35\" font-family=\"Times,serif\" font-size=\"12.00\">ReLU</text>\n</g>\n<g id=\"clust4\" class=\"cluster\">\n<title>cluster_5</title>\n<polygon fill=\"none\" stroke=\"black\" stroke-dasharray=\"5,2\" points=\"8,-379.5 8,-674.5 224,-674.5 224,-379.5 8,-379.5\"/>\n<text text-anchor=\"middle\" x=\"40.75\" y=\"-659.1\" font-family=\"Times,serif\" font-size=\"12.00\">Sequential</text>\n</g>\n<g id=\"clust5\" class=\"cluster\">\n<title>cluster_6</title>\n<polygon fill=\"none\" stroke=\"black\" stroke-dasharray=\"5,2\" points=\"26,-564 26,-644.25 206,-644.25 206,-564 26,-564\"/>\n<text text-anchor=\"middle\" x=\"53.12\" y=\"-628.85\" font-family=\"Times,serif\" font-size=\"12.00\">Conv2d</text>\n</g>\n<g id=\"clust6\" class=\"cluster\">\n<title>cluster_7</title>\n<polygon fill=\"none\" stroke=\"black\" stroke-dasharray=\"5,2\" points=\"26,-475.75 26,-556 206,-556 206,-475.75 26,-475.75\"/>\n<text text-anchor=\"middle\" x=\"49\" y=\"-540.6\" font-family=\"Times,serif\" font-size=\"12.00\">ReLU</text>\n</g>\n<g id=\"clust7\" class=\"cluster\">\n<title>cluster_8</title>\n<polygon fill=\"none\" stroke=\"black\" stroke-dasharray=\"5,2\" points=\"16,-387.5 16,-467.75 216,-467.75 216,-387.5 16,-387.5\"/>\n<text text-anchor=\"middle\" x=\"51.75\" y=\"-452.35\" font-family=\"Times,serif\" font-size=\"12.00\">MaxPool2d</text>\n</g>\n<g id=\"clust8\" class=\"cluster\">\n<title>cluster_9</title>\n<polygon fill=\"none\" stroke=\"black\" stroke-dasharray=\"5,2\" points=\"18,-8 18,-371.5 214,-371.5 214,-8 18,-8\"/>\n<text text-anchor=\"middle\" x=\"50.75\" y=\"-356.1\" font-family=\"Times,serif\" font-size=\"12.00\">Sequential</text>\n</g>\n<g id=\"clust9\" class=\"cluster\">\n<title>cluster_10</title>\n<polygon fill=\"none\" stroke=\"black\" stroke-dasharray=\"5,2\" points=\"26,-261 26,-341.25 206,-341.25 206,-261 26,-261\"/>\n<text text-anchor=\"middle\" x=\"50.12\" y=\"-325.85\" font-family=\"Times,serif\" font-size=\"12.00\">Flatten</text>\n</g>\n<g id=\"clust10\" class=\"cluster\">\n<title>cluster_11</title>\n<polygon fill=\"none\" stroke=\"black\" stroke-dasharray=\"5,2\" points=\"35,-172.75 35,-253 197,-253 197,-172.75 35,-172.75\"/>\n<text text-anchor=\"middle\" x=\"58.38\" y=\"-237.6\" font-family=\"Times,serif\" font-size=\"12.00\">Linear</text>\n</g>\n<g id=\"clust11\" class=\"cluster\">\n<title>cluster_12</title>\n<polygon fill=\"none\" stroke=\"black\" stroke-dasharray=\"5,2\" points=\"40,-16 40,-164.75 192,-164.75 192,-16 40,-16\"/>\n<text text-anchor=\"middle\" x=\"63.38\" y=\"-149.35\" font-family=\"Times,serif\" font-size=\"12.00\">Linear</text>\n</g>\n<!-- 0 -->\n<g id=\"node1\" class=\"node\">\n<title>0</title>\n<polygon fill=\"lightyellow\" stroke=\"none\" points=\"184.5,-929.75 47.5,-929.75 47.5,-897.25 184.5,-897.25 184.5,-929.75\"/>\n<polygon fill=\"none\" stroke=\"black\" points=\"47.5,-897.25 47.5,-929.75 108.5,-929.75 108.5,-897.25 47.5,-897.25\"/>\n<text text-anchor=\"start\" x=\"52.5\" y=\"-915.25\" font-family=\"Linux libertine\" font-size=\"10.00\">input&#45;tensor</text>\n<text text-anchor=\"start\" x=\"61.88\" y=\"-904\" font-family=\"Linux libertine\" font-size=\"10.00\">depth:0</text>\n<polygon fill=\"none\" stroke=\"black\" points=\"108.5,-897.25 108.5,-929.75 184.5,-929.75 184.5,-897.25 108.5,-897.25\"/>\n<text text-anchor=\"start\" x=\"113.5\" y=\"-909.62\" font-family=\"Linux libertine\" font-size=\"10.00\">(20, 3, 498, 13)</text>\n</g>\n<!-- 1 -->\n<g id=\"node2\" class=\"node\">\n<title>1</title>\n<polygon fill=\"aliceblue\" stroke=\"none\" points=\"198,-828.75 34,-828.75 34,-786.75 198,-786.75 198,-828.75\"/>\n<polygon fill=\"none\" stroke=\"black\" points=\"34,-786.75 34,-828.75 76,-828.75 76,-786.75 34,-786.75\"/>\n<text text-anchor=\"start\" x=\"39.25\" y=\"-809.5\" font-family=\"Linux libertine\" font-size=\"10.00\">conv2d</text>\n<text text-anchor=\"start\" x=\"38.88\" y=\"-798.25\" font-family=\"Linux libertine\" font-size=\"10.00\">depth:3</text>\n<polygon fill=\"none\" stroke=\"black\" points=\"76,-807.75 76,-828.75 119,-828.75 119,-807.75 76,-807.75\"/>\n<text text-anchor=\"start\" x=\"85.5\" y=\"-814.25\" font-family=\"Linux libertine\" font-size=\"10.00\">input:</text>\n<polygon fill=\"none\" stroke=\"black\" points=\"119,-807.75 119,-828.75 198,-828.75 198,-807.75 119,-807.75\"/>\n<text text-anchor=\"start\" x=\"124\" y=\"-814.25\" font-family=\"Linux libertine\" font-size=\"10.00\">(20, 3, 498, 13) </text>\n<polygon fill=\"none\" stroke=\"black\" points=\"76,-786.75 76,-807.75 119,-807.75 119,-786.75 76,-786.75\"/>\n<text text-anchor=\"start\" x=\"81\" y=\"-793.25\" font-family=\"Linux libertine\" font-size=\"10.00\">output: </text>\n<polygon fill=\"none\" stroke=\"black\" points=\"119,-786.75 119,-807.75 198,-807.75 198,-786.75 119,-786.75\"/>\n<text text-anchor=\"start\" x=\"124\" y=\"-793.25\" font-family=\"Linux libertine\" font-size=\"10.00\">(20, 80, 442, 8) </text>\n</g>\n<!-- 0&#45;&gt;1 -->\n<g id=\"edge1\" class=\"edge\">\n<title>0&#45;&gt;1</title>\n<path fill=\"none\" stroke=\"black\" d=\"M116,-897.64C116,-882.67 116,-859.14 116,-840.04\"/>\n<polygon fill=\"black\" stroke=\"black\" points=\"119.5,-840.07 116,-830.07 112.5,-840.07 119.5,-840.07\"/>\n</g>\n<!-- 2 -->\n<g id=\"node3\" class=\"node\">\n<title>2</title>\n<polygon fill=\"aliceblue\" stroke=\"none\" points=\"198,-740.5 34,-740.5 34,-698.5 198,-698.5 198,-740.5\"/>\n<polygon fill=\"none\" stroke=\"black\" points=\"34,-698.5 34,-740.5 76,-740.5 76,-698.5 34,-698.5\"/>\n<text text-anchor=\"start\" x=\"47.12\" y=\"-721.25\" font-family=\"Linux libertine\" font-size=\"10.00\">relu</text>\n<text text-anchor=\"start\" x=\"38.88\" y=\"-710\" font-family=\"Linux libertine\" font-size=\"10.00\">depth:3</text>\n<polygon fill=\"none\" stroke=\"black\" points=\"76,-719.5 76,-740.5 119,-740.5 119,-719.5 76,-719.5\"/>\n<text text-anchor=\"start\" x=\"85.5\" y=\"-726\" font-family=\"Linux libertine\" font-size=\"10.00\">input:</text>\n<polygon fill=\"none\" stroke=\"black\" points=\"119,-719.5 119,-740.5 198,-740.5 198,-719.5 119,-719.5\"/>\n<text text-anchor=\"start\" x=\"124\" y=\"-726\" font-family=\"Linux libertine\" font-size=\"10.00\">(20, 80, 442, 8) </text>\n<polygon fill=\"none\" stroke=\"black\" points=\"76,-698.5 76,-719.5 119,-719.5 119,-698.5 76,-698.5\"/>\n<text text-anchor=\"start\" x=\"81\" y=\"-705\" font-family=\"Linux libertine\" font-size=\"10.00\">output: </text>\n<polygon fill=\"none\" stroke=\"black\" points=\"119,-698.5 119,-719.5 198,-719.5 198,-698.5 119,-698.5\"/>\n<text text-anchor=\"start\" x=\"124\" y=\"-705\" font-family=\"Linux libertine\" font-size=\"10.00\">(20, 80, 442, 8) </text>\n</g>\n<!-- 1&#45;&gt;2 -->\n<g id=\"edge2\" class=\"edge\">\n<title>1&#45;&gt;2</title>\n<path fill=\"none\" stroke=\"black\" d=\"M116,-787.18C116,-776.67 116,-763.46 116,-751.58\"/>\n<polygon fill=\"black\" stroke=\"black\" points=\"119.5,-751.81 116,-741.81 112.5,-751.81 119.5,-751.81\"/>\n</g>\n<!-- 3 -->\n<g id=\"node4\" class=\"node\">\n<title>3</title>\n<polygon fill=\"aliceblue\" stroke=\"none\" points=\"198,-614 34,-614 34,-572 198,-572 198,-614\"/>\n<polygon fill=\"none\" stroke=\"black\" points=\"34,-572 34,-614 76,-614 76,-572 34,-572\"/>\n<text text-anchor=\"start\" x=\"39.25\" y=\"-594.75\" font-family=\"Linux libertine\" font-size=\"10.00\">conv2d</text>\n<text text-anchor=\"start\" x=\"38.88\" y=\"-583.5\" font-family=\"Linux libertine\" font-size=\"10.00\">depth:3</text>\n<polygon fill=\"none\" stroke=\"black\" points=\"76,-593 76,-614 119,-614 119,-593 76,-593\"/>\n<text text-anchor=\"start\" x=\"85.5\" y=\"-599.5\" font-family=\"Linux libertine\" font-size=\"10.00\">input:</text>\n<polygon fill=\"none\" stroke=\"black\" points=\"119,-593 119,-614 198,-614 198,-593 119,-593\"/>\n<text text-anchor=\"start\" x=\"124\" y=\"-599.5\" font-family=\"Linux libertine\" font-size=\"10.00\">(20, 80, 442, 8) </text>\n<polygon fill=\"none\" stroke=\"black\" points=\"76,-572 76,-593 119,-593 119,-572 76,-572\"/>\n<text text-anchor=\"start\" x=\"81\" y=\"-578.5\" font-family=\"Linux libertine\" font-size=\"10.00\">output: </text>\n<polygon fill=\"none\" stroke=\"black\" points=\"119,-572 119,-593 198,-593 198,-572 119,-572\"/>\n<text text-anchor=\"start\" x=\"124\" y=\"-578.5\" font-family=\"Linux libertine\" font-size=\"10.00\">(20, 80, 442, 6) </text>\n</g>\n<!-- 2&#45;&gt;3 -->\n<g id=\"edge3\" class=\"edge\">\n<title>2&#45;&gt;3</title>\n<path fill=\"none\" stroke=\"black\" d=\"M116,-698.77C116,-678.92 116,-648.02 116,-624.91\"/>\n<polygon fill=\"black\" stroke=\"black\" points=\"119.5,-625.15 116,-615.15 112.5,-625.15 119.5,-625.15\"/>\n</g>\n<!-- 4 -->\n<g id=\"node5\" class=\"node\">\n<title>4</title>\n<polygon fill=\"aliceblue\" stroke=\"none\" points=\"198,-525.75 34,-525.75 34,-483.75 198,-483.75 198,-525.75\"/>\n<polygon fill=\"none\" stroke=\"black\" points=\"34,-483.75 34,-525.75 76,-525.75 76,-483.75 34,-483.75\"/>\n<text text-anchor=\"start\" x=\"47.12\" y=\"-506.5\" font-family=\"Linux libertine\" font-size=\"10.00\">relu</text>\n<text text-anchor=\"start\" x=\"38.88\" y=\"-495.25\" font-family=\"Linux libertine\" font-size=\"10.00\">depth:3</text>\n<polygon fill=\"none\" stroke=\"black\" points=\"76,-504.75 76,-525.75 119,-525.75 119,-504.75 76,-504.75\"/>\n<text text-anchor=\"start\" x=\"85.5\" y=\"-511.25\" font-family=\"Linux libertine\" font-size=\"10.00\">input:</text>\n<polygon fill=\"none\" stroke=\"black\" points=\"119,-504.75 119,-525.75 198,-525.75 198,-504.75 119,-504.75\"/>\n<text text-anchor=\"start\" x=\"124\" y=\"-511.25\" font-family=\"Linux libertine\" font-size=\"10.00\">(20, 80, 442, 6) </text>\n<polygon fill=\"none\" stroke=\"black\" points=\"76,-483.75 76,-504.75 119,-504.75 119,-483.75 76,-483.75\"/>\n<text text-anchor=\"start\" x=\"81\" y=\"-490.25\" font-family=\"Linux libertine\" font-size=\"10.00\">output: </text>\n<polygon fill=\"none\" stroke=\"black\" points=\"119,-483.75 119,-504.75 198,-504.75 198,-483.75 119,-483.75\"/>\n<text text-anchor=\"start\" x=\"124\" y=\"-490.25\" font-family=\"Linux libertine\" font-size=\"10.00\">(20, 80, 442, 6) </text>\n</g>\n<!-- 3&#45;&gt;4 -->\n<g id=\"edge4\" class=\"edge\">\n<title>3&#45;&gt;4</title>\n<path fill=\"none\" stroke=\"black\" d=\"M116,-572.43C116,-561.92 116,-548.71 116,-536.83\"/>\n<polygon fill=\"black\" stroke=\"black\" points=\"119.5,-537.06 116,-527.06 112.5,-537.06 119.5,-537.06\"/>\n</g>\n<!-- 5 -->\n<g id=\"node6\" class=\"node\">\n<title>5</title>\n<polygon fill=\"aliceblue\" stroke=\"none\" points=\"208,-437.5 24,-437.5 24,-395.5 208,-395.5 208,-437.5\"/>\n<polygon fill=\"none\" stroke=\"black\" points=\"24,-395.5 24,-437.5 86,-437.5 86,-395.5 24,-395.5\"/>\n<text text-anchor=\"start\" x=\"28.75\" y=\"-418.25\" font-family=\"Linux libertine\" font-size=\"10.00\">max_pool2d</text>\n<text text-anchor=\"start\" x=\"38.88\" y=\"-407\" font-family=\"Linux libertine\" font-size=\"10.00\">depth:3</text>\n<polygon fill=\"none\" stroke=\"black\" points=\"86,-416.5 86,-437.5 129,-437.5 129,-416.5 86,-416.5\"/>\n<text text-anchor=\"start\" x=\"95.5\" y=\"-423\" font-family=\"Linux libertine\" font-size=\"10.00\">input:</text>\n<polygon fill=\"none\" stroke=\"black\" points=\"129,-416.5 129,-437.5 208,-437.5 208,-416.5 129,-416.5\"/>\n<text text-anchor=\"start\" x=\"134\" y=\"-423\" font-family=\"Linux libertine\" font-size=\"10.00\">(20, 80, 442, 6) </text>\n<polygon fill=\"none\" stroke=\"black\" points=\"86,-395.5 86,-416.5 129,-416.5 129,-395.5 86,-395.5\"/>\n<text text-anchor=\"start\" x=\"91\" y=\"-402\" font-family=\"Linux libertine\" font-size=\"10.00\">output: </text>\n<polygon fill=\"none\" stroke=\"black\" points=\"129,-395.5 129,-416.5 208,-416.5 208,-395.5 129,-395.5\"/>\n<text text-anchor=\"start\" x=\"134\" y=\"-402\" font-family=\"Linux libertine\" font-size=\"10.00\">(20, 80, 442, 2) </text>\n</g>\n<!-- 4&#45;&gt;5 -->\n<g id=\"edge5\" class=\"edge\">\n<title>4&#45;&gt;5</title>\n<path fill=\"none\" stroke=\"black\" d=\"M116,-484.18C116,-473.67 116,-460.46 116,-448.58\"/>\n<polygon fill=\"black\" stroke=\"black\" points=\"119.5,-448.81 116,-438.81 112.5,-448.81 119.5,-448.81\"/>\n</g>\n<!-- 6 -->\n<g id=\"node7\" class=\"node\">\n<title>6</title>\n<polygon fill=\"aliceblue\" stroke=\"none\" points=\"198,-311 34,-311 34,-269 198,-269 198,-311\"/>\n<polygon fill=\"none\" stroke=\"black\" points=\"34,-269 34,-311 76,-311 76,-269 34,-269\"/>\n<text text-anchor=\"start\" x=\"41.5\" y=\"-291.75\" font-family=\"Linux libertine\" font-size=\"10.00\">flatten</text>\n<text text-anchor=\"start\" x=\"38.88\" y=\"-280.5\" font-family=\"Linux libertine\" font-size=\"10.00\">depth:3</text>\n<polygon fill=\"none\" stroke=\"black\" points=\"76,-290 76,-311 119,-311 119,-290 76,-290\"/>\n<text text-anchor=\"start\" x=\"85.5\" y=\"-296.5\" font-family=\"Linux libertine\" font-size=\"10.00\">input:</text>\n<polygon fill=\"none\" stroke=\"black\" points=\"119,-290 119,-311 198,-311 198,-290 119,-290\"/>\n<text text-anchor=\"start\" x=\"124\" y=\"-296.5\" font-family=\"Linux libertine\" font-size=\"10.00\">(20, 80, 442, 2) </text>\n<polygon fill=\"none\" stroke=\"black\" points=\"76,-269 76,-290 119,-290 119,-269 76,-269\"/>\n<text text-anchor=\"start\" x=\"81\" y=\"-275.5\" font-family=\"Linux libertine\" font-size=\"10.00\">output: </text>\n<polygon fill=\"none\" stroke=\"black\" points=\"119,-269 119,-290 198,-290 198,-269 119,-269\"/>\n<text text-anchor=\"start\" x=\"132.62\" y=\"-275.5\" font-family=\"Linux libertine\" font-size=\"10.00\">(20, 70720) </text>\n</g>\n<!-- 5&#45;&gt;6 -->\n<g id=\"edge6\" class=\"edge\">\n<title>5&#45;&gt;6</title>\n<path fill=\"none\" stroke=\"black\" d=\"M116,-395.77C116,-375.92 116,-345.02 116,-321.91\"/>\n<polygon fill=\"black\" stroke=\"black\" points=\"119.5,-322.15 116,-312.15 112.5,-322.15 119.5,-322.15\"/>\n</g>\n<!-- 7 -->\n<g id=\"node8\" class=\"node\">\n<title>7</title>\n<polygon fill=\"aliceblue\" stroke=\"none\" points=\"189,-222.75 43,-222.75 43,-180.75 189,-180.75 189,-222.75\"/>\n<polygon fill=\"none\" stroke=\"black\" points=\"43,-180.75 43,-222.75 85,-222.75 85,-180.75 43,-180.75\"/>\n<text text-anchor=\"start\" x=\"52.38\" y=\"-203.5\" font-family=\"Linux libertine\" font-size=\"10.00\">linear</text>\n<text text-anchor=\"start\" x=\"47.88\" y=\"-192.25\" font-family=\"Linux libertine\" font-size=\"10.00\">depth:3</text>\n<polygon fill=\"none\" stroke=\"black\" points=\"85,-201.75 85,-222.75 128,-222.75 128,-201.75 85,-201.75\"/>\n<text text-anchor=\"start\" x=\"94.5\" y=\"-208.25\" font-family=\"Linux libertine\" font-size=\"10.00\">input:</text>\n<polygon fill=\"none\" stroke=\"black\" points=\"128,-201.75 128,-222.75 189,-222.75 189,-201.75 128,-201.75\"/>\n<text text-anchor=\"start\" x=\"132.62\" y=\"-208.25\" font-family=\"Linux libertine\" font-size=\"10.00\">(20, 70720) </text>\n<polygon fill=\"none\" stroke=\"black\" points=\"85,-180.75 85,-201.75 128,-201.75 128,-180.75 85,-180.75\"/>\n<text text-anchor=\"start\" x=\"90\" y=\"-187.25\" font-family=\"Linux libertine\" font-size=\"10.00\">output: </text>\n<polygon fill=\"none\" stroke=\"black\" points=\"128,-180.75 128,-201.75 189,-201.75 189,-180.75 128,-180.75\"/>\n<text text-anchor=\"start\" x=\"137.88\" y=\"-187.25\" font-family=\"Linux libertine\" font-size=\"10.00\">(20, 500) </text>\n</g>\n<!-- 6&#45;&gt;7 -->\n<g id=\"edge7\" class=\"edge\">\n<title>6&#45;&gt;7</title>\n<path fill=\"none\" stroke=\"black\" d=\"M116,-269.43C116,-258.92 116,-245.71 116,-233.83\"/>\n<polygon fill=\"black\" stroke=\"black\" points=\"119.5,-234.06 116,-224.06 112.5,-234.06 119.5,-234.06\"/>\n</g>\n<!-- 8 -->\n<g id=\"node9\" class=\"node\">\n<title>8</title>\n<polygon fill=\"aliceblue\" stroke=\"none\" points=\"184,-134.5 48,-134.5 48,-92.5 184,-92.5 184,-134.5\"/>\n<polygon fill=\"none\" stroke=\"black\" points=\"48,-92.5 48,-134.5 90,-134.5 90,-92.5 48,-92.5\"/>\n<text text-anchor=\"start\" x=\"57.38\" y=\"-115.25\" font-family=\"Linux libertine\" font-size=\"10.00\">linear</text>\n<text text-anchor=\"start\" x=\"52.88\" y=\"-104\" font-family=\"Linux libertine\" font-size=\"10.00\">depth:3</text>\n<polygon fill=\"none\" stroke=\"black\" points=\"90,-113.5 90,-134.5 133,-134.5 133,-113.5 90,-113.5\"/>\n<text text-anchor=\"start\" x=\"99.5\" y=\"-120\" font-family=\"Linux libertine\" font-size=\"10.00\">input:</text>\n<polygon fill=\"none\" stroke=\"black\" points=\"133,-113.5 133,-134.5 184,-134.5 184,-113.5 133,-113.5\"/>\n<text text-anchor=\"start\" x=\"137.88\" y=\"-120\" font-family=\"Linux libertine\" font-size=\"10.00\">(20, 500) </text>\n<polygon fill=\"none\" stroke=\"black\" points=\"90,-92.5 90,-113.5 133,-113.5 133,-92.5 90,-92.5\"/>\n<text text-anchor=\"start\" x=\"95\" y=\"-99\" font-family=\"Linux libertine\" font-size=\"10.00\">output: </text>\n<polygon fill=\"none\" stroke=\"black\" points=\"133,-92.5 133,-113.5 184,-113.5 184,-92.5 133,-92.5\"/>\n<text text-anchor=\"start\" x=\"140.5\" y=\"-99\" font-family=\"Linux libertine\" font-size=\"10.00\">(20, 50) </text>\n</g>\n<!-- 7&#45;&gt;8 -->\n<g id=\"edge8\" class=\"edge\">\n<title>7&#45;&gt;8</title>\n<path fill=\"none\" stroke=\"black\" d=\"M116,-181.18C116,-170.67 116,-157.46 116,-145.58\"/>\n<polygon fill=\"black\" stroke=\"black\" points=\"119.5,-145.81 116,-135.81 112.5,-145.81 119.5,-145.81\"/>\n</g>\n<!-- 9 -->\n<g id=\"node10\" class=\"node\">\n<title>9</title>\n<polygon fill=\"lightyellow\" stroke=\"none\" points=\"171,-56.5 61,-56.5 61,-24 171,-24 171,-56.5\"/>\n<polygon fill=\"none\" stroke=\"black\" points=\"61,-24 61,-56.5 128,-56.5 128,-24 61,-24\"/>\n<text text-anchor=\"start\" x=\"66\" y=\"-42\" font-family=\"Linux libertine\" font-size=\"10.00\">output&#45;tensor</text>\n<text text-anchor=\"start\" x=\"78.38\" y=\"-30.75\" font-family=\"Linux libertine\" font-size=\"10.00\">depth:0</text>\n<polygon fill=\"none\" stroke=\"black\" points=\"128,-24 128,-56.5 171,-56.5 171,-24 128,-24\"/>\n<text text-anchor=\"start\" x=\"133\" y=\"-36.38\" font-family=\"Linux libertine\" font-size=\"10.00\">(20, 50)</text>\n</g>\n<!-- 8&#45;&gt;9 -->\n<g id=\"edge9\" class=\"edge\">\n<title>8&#45;&gt;9</title>\n<path fill=\"none\" stroke=\"black\" d=\"M116,-92.65C116,-84.91 116,-75.91 116,-67.63\"/>\n<polygon fill=\"black\" stroke=\"black\" points=\"119.5,-67.76 116,-57.76 112.5,-67.76 119.5,-67.76\"/>\n</g>\n</g>\n</svg>\n",
      "text/plain": "<graphviz.graphs.Digraph at 0x3867c1490>"
     },
     "execution_count": 212,
     "metadata": {},
     "output_type": "execute_result"
    }
   ],
   "source": [
    "model_graph = draw_graph(viz_model,input_data,expand_nested=True, roll=True,graph_name='MLP',hide_inner_tensors=True,hide_module_functions=False)\n",
    "model_graph.visual_graph"
   ],
   "metadata": {
    "collapsed": false,
    "ExecuteTime": {
     "end_time": "2024-06-17T11:50:11.028009Z",
     "start_time": "2024-06-17T11:50:10.854380Z"
    }
   },
   "id": "8921d8777315dc75"
  },
  {
   "cell_type": "code",
   "execution_count": 213,
   "outputs": [],
   "source": [
    "#acc_funcc = Accuracy(task=\"multiclass\", num_classes=3)\n",
    "#acc_funcc(torch.Tensor([1,2,3,3]),torch.Tensor([1,2,3,9]))*100"
   ],
   "metadata": {
    "collapsed": false,
    "ExecuteTime": {
     "end_time": "2024-06-17T11:50:12.318851Z",
     "start_time": "2024-06-17T11:50:12.311663Z"
    }
   },
   "id": "96c737ebbd1b3b79"
  },
  {
   "cell_type": "code",
   "execution_count": 213,
   "outputs": [],
   "source": [],
   "metadata": {
    "collapsed": false,
    "ExecuteTime": {
     "end_time": "2024-06-17T11:50:13.740773Z",
     "start_time": "2024-06-17T11:50:13.735912Z"
    }
   },
   "id": "d4410655f408d012"
  },
  {
   "cell_type": "code",
   "execution_count": 259,
   "outputs": [
    {
     "name": "stdout",
     "output_type": "stream",
     "text": [
      "=======================================================================================================================================================================================================================\n",
      "Layer (type:depth-idx)                   Input Shape               Output Shape              Kernel Shape              Param #                   Param %                   Mult-Adds                 Trainable\n",
      "=======================================================================================================================================================================================================================\n",
      "PiczakRec                                [20, 3, 498, 13]          [20, 50]                  --                        --                             --                   --                        True\n",
      "├─Sequential: 1-1                        [20, 3, 498, 13]          [20, 80, 442, 8]          --                        --                             --                   --                        True\n",
      "│    └─Conv2d: 2-1                       [20, 3, 498, 13]          [20, 80, 442, 8]          [57, 6]                   82,160                      0.23%                   5,810,355,200             True\n",
      "│    └─ReLU: 2-2                         [20, 80, 442, 8]          [20, 80, 442, 8]          --                        --                             --                   --                        --\n",
      "├─Sequential: 1-2                        [20, 80, 442, 8]          [20, 80, 442, 2]          --                        --                             --                   --                        True\n",
      "│    └─Conv2d: 2-3                       [20, 80, 442, 8]          [20, 80, 442, 6]          [1, 3]                    19,280                      0.05%                   1,022,611,200             True\n",
      "│    └─ReLU: 2-4                         [20, 80, 442, 6]          [20, 80, 442, 6]          --                        --                             --                   --                        --\n",
      "│    └─MaxPool2d: 2-5                    [20, 80, 442, 6]          [20, 80, 442, 2]          [1, 3]                    --                             --                   --                        --\n",
      "├─Sequential: 1-3                        [20, 80, 442, 2]          [20, 50]                  --                        --                             --                   --                        True\n",
      "│    └─Flatten: 2-6                      [20, 80, 442, 2]          [20, 70720]               --                        --                             --                   --                        --\n",
      "│    └─Linear: 2-7                       [20, 70720]               [20, 500]                 --                        35,360,500                 99.64%                   707,210,000               True\n",
      "│    └─Linear: 2-8                       [20, 500]                 [20, 50]                  --                        25,050                      0.07%                   501,000                   True\n",
      "=======================================================================================================================================================================================================================\n",
      "Total params: 35,486,990\n",
      "Trainable params: 35,486,990\n",
      "Non-trainable params: 0\n",
      "Total mult-adds (Units.GIGABYTES): 7.54\n",
      "=======================================================================================================================================================================================================================\n",
      "Input size (MB): 1.55\n",
      "Forward/backward pass size (MB): 79.29\n",
      "Params size (MB): 141.95\n",
      "Estimated Total Size (MB): 222.80\n",
      "=======================================================================================================================================================================================================================\n"
     ]
    }
   ],
   "source": [
    "from torchinfo import summary\n",
    "print(summary(viz_model, input_size=(N,C,H,W), col_names =[\"input_size\",\"output_size\",\"kernel_size\",\"num_params\",\"params_percent\",\"mult_adds\",\"trainable\"]))"
   ],
   "metadata": {
    "collapsed": false,
    "ExecuteTime": {
     "end_time": "2024-06-17T12:19:41.077452Z",
     "start_time": "2024-06-17T12:19:40.977060Z"
    }
   },
   "id": "a603f7cb69b64dad"
  },
  {
   "cell_type": "code",
   "execution_count": null,
   "outputs": [],
   "source": [],
   "metadata": {
    "collapsed": false,
    "ExecuteTime": {
     "start_time": "2024-06-17T11:45:47.335198Z"
    }
   },
   "id": "8ef03ccce7341e78"
  },
  {
   "cell_type": "markdown",
   "source": [
    "# THIS TO TO CALCULATE SIZES - OUTPUT OF LAYERS\n"
   ],
   "metadata": {
    "collapsed": false
   },
   "id": "4636dbe132a09f17"
  },
  {
   "cell_type": "code",
   "execution_count": 260,
   "outputs": [],
   "source": [
    "from torchshape import tensorshape"
   ],
   "metadata": {
    "collapsed": false,
    "ExecuteTime": {
     "end_time": "2024-06-17T12:21:15.116139Z",
     "start_time": "2024-06-17T12:21:15.096362Z"
    }
   },
   "id": "baeed80537e48458"
  },
  {
   "cell_type": "code",
   "execution_count": 215,
   "outputs": [
    {
     "name": "stdout",
     "output_type": "stream",
     "text": [
      "N\tC\tH\tW\t\n",
      "1\t80\t442\t8\t\n",
      "N\tC\tH\tW\t\n",
      "1\t80\t439\t2\t\n",
      "N\tC\tH\tW\t\n",
      "1\t80\t439\t0\t\n",
      "N\tC\tH\tW\t\n",
      "1\t80\t439\t0\t\n",
      "H\tW\t\n",
      "1\t439\n"
     ]
    }
   ],
   "source": [
    "op = nn.Conv2d(in_channels=1,out_channels=80,kernel_size=(57,6),padding=0)\n",
    "outshape = tensorshape(op, in_shape = (1,1,498,13))\n",
    "print(f\"N\\tC\\tH\\tW\\t\");print(f\"{outshape[0]}\\t{outshape[1]}\\t{outshape[2]}\\t{outshape[3]}\\t\")\n",
    "\n",
    "op1 = nn.MaxPool2d(kernel_size=(4,3),stride=(1,3))\n",
    "outshape = tensorshape(op=op1, in_shape = outshape)\n",
    "print(f\"N\\tC\\tH\\tW\\t\"); print(f\"{outshape[0]}\\t{outshape[1]}\\t{outshape[2]}\\t{outshape[3]}\\t\")\n",
    "\n",
    "op = nn.Conv2d(in_channels=80,out_channels=80,kernel_size=(1,3),padding=0,stride = 1)\n",
    "outshape = tensorshape(op, in_shape = outshape)\n",
    "print(f\"N\\tC\\tH\\tW\\t\");print(f\"{outshape[0]}\\t{outshape[1]}\\t{outshape[2]}\\t{outshape[3]}\\t\")\n",
    "\n",
    "op1 = nn.MaxPool2d(kernel_size=(1,3),stride=(1,3))\n",
    "outshape = tensorshape(op=op1, in_shape = outshape)\n",
    "print(f\"N\\tC\\tH\\tW\\t\");print(f\"{outshape[0]}\\t{outshape[1]}\\t{outshape[2]}\\t{outshape[3]}\\t\")\n",
    "\n",
    "op2 = nn.Flatten()\n",
    "outshape = tensorshape(op=op2, in_shape = (1,1,439,1))\n",
    "print(f\"H\\tW\\t\");print(f\"{outshape[0]}\\t{outshape[1]}\")"
   ],
   "metadata": {
    "collapsed": false,
    "ExecuteTime": {
     "end_time": "2024-06-17T11:56:38.891013Z",
     "start_time": "2024-06-17T11:56:38.852390Z"
    }
   },
   "id": "e64635810be10a09"
  },
  {
   "cell_type": "code",
   "execution_count": 261,
   "outputs": [
    {
     "data": {
      "text/plain": "(1, 40, 491, 13)"
     },
     "execution_count": 261,
     "metadata": {},
     "output_type": "execute_result"
    }
   ],
   "source": [
    "tensorshape(op = nn.Conv2d(in_channels=inputSize,out_channels=40,kernel_size=(8,1),padding=0),in_shape=(1,3,498,13))\n"
   ],
   "metadata": {
    "collapsed": false,
    "ExecuteTime": {
     "end_time": "2024-06-17T12:21:26.566441Z",
     "start_time": "2024-06-17T12:21:26.541286Z"
    }
   },
   "id": "841c168006d3fe53"
  },
  {
   "cell_type": "code",
   "execution_count": 263,
   "outputs": [
    {
     "data": {
      "text/plain": "(1, 40, 484, 13)"
     },
     "execution_count": 263,
     "metadata": {},
     "output_type": "execute_result"
    }
   ],
   "source": [
    "\n",
    "tensorshape(nn.Conv2d(in_channels=40,out_channels=40,kernel_size=(8,1),padding=0),in_shape = (1,40,491,13))"
   ],
   "metadata": {
    "collapsed": false,
    "ExecuteTime": {
     "end_time": "2024-06-17T12:22:14.408381Z",
     "start_time": "2024-06-17T12:22:14.374127Z"
    }
   },
   "id": "35d138c3bef89cae"
  },
  {
   "cell_type": "code",
   "execution_count": 267,
   "outputs": [
    {
     "data": {
      "text/plain": "(1, 40, 4, 1)"
     },
     "execution_count": 267,
     "metadata": {},
     "output_type": "execute_result"
    }
   ],
   "source": [
    "tensorshape(nn.MaxPool2d(1,160),in_shape = (1,40,484,13))"
   ],
   "metadata": {
    "collapsed": false,
    "ExecuteTime": {
     "end_time": "2024-06-17T12:23:41.418949Z",
     "start_time": "2024-06-17T12:23:41.385995Z"
    }
   },
   "id": "e2e8ac6cc189311"
  },
  {
   "cell_type": "code",
   "execution_count": 268,
   "outputs": [
    {
     "data": {
      "text/plain": "(1, 160)"
     },
     "execution_count": 268,
     "metadata": {},
     "output_type": "execute_result"
    }
   ],
   "source": [
    "tensorshape(nn.Flatten(),in_shape = (1,40,4,1))"
   ],
   "metadata": {
    "collapsed": false,
    "ExecuteTime": {
     "end_time": "2024-06-17T12:23:54.110193Z",
     "start_time": "2024-06-17T12:23:54.085059Z"
    }
   },
   "id": "12b6b7048accced9"
  },
  {
   "cell_type": "code",
   "execution_count": null,
   "outputs": [],
   "source": [],
   "metadata": {
    "collapsed": false
   },
   "id": "d495f9dacf6b6019"
  }
 ],
 "metadata": {
  "kernelspec": {
   "display_name": "Python 3",
   "language": "python",
   "name": "python3"
  },
  "language_info": {
   "codemirror_mode": {
    "name": "ipython",
    "version": 2
   },
   "file_extension": ".py",
   "mimetype": "text/x-python",
   "name": "python",
   "nbconvert_exporter": "python",
   "pygments_lexer": "ipython2",
   "version": "2.7.6"
  }
 },
 "nbformat": 4,
 "nbformat_minor": 5
}
