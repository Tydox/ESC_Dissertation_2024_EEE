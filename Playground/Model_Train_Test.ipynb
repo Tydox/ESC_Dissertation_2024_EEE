{
 "cells": [
  {
   "cell_type": "code",
   "execution_count": 769,
   "id": "initial_id",
   "metadata": {
    "collapsed": true,
    "ExecuteTime": {
     "end_time": "2024-06-15T19:12:55.969134Z",
     "start_time": "2024-06-15T19:12:55.945019Z"
    }
   },
   "outputs": [],
   "source": []
  },
  {
   "cell_type": "code",
   "execution_count": 792,
   "outputs": [],
   "source": [
    "#Loader function for Pytorch Dataset Folder thingy\n",
    "def load_data(path: str):\n",
    "    #print(f\"Loading file: {path}\")\n",
    "    tensor = torch.load(path)\n",
    "    #tensor = tensor.float()\n",
    "    #print(f\"Loaded tensor type: {type(tensor)} {tensor.type()}\")\n",
    "    return tensor\n",
    "\n",
    "\n",
    "#ERROR DOESNT FULLY WORK WITH DATASET - IDK WHY - I GAVE UP FOR NOW\n",
    "#FIXME THIS DOES WORK AS A REGULAR REMAP AND I USE THIS FOR PRINTING DATA\n",
    "#NOTE TO SELF: DO NOT DELETE THIS FUNCTION\n",
    "# Define a custom transform to convert labels from float to int\n",
    "def label_remap(label):\n",
    "    label_mapping = {\n",
    "            0: 47,\n",
    "            1: 23,\n",
    "            2: 27,\n",
    "            3: 34,\n",
    "            4: 43,\n",
    "            5: 5,\n",
    "            6: 41,\n",
    "            7: 14,\n",
    "            8: 46,\n",
    "            9: 22,\n",
    "            10: 37,\n",
    "            11: 38,\n",
    "            12: 24,\n",
    "            13: 3,\n",
    "            14: 12,\n",
    "            15: 13,\n",
    "            16: 9,\n",
    "            17: 20,\n",
    "            18: 0,\n",
    "            19: 33,\n",
    "            20: 30,\n",
    "            21: 29,\n",
    "            22: 44,\n",
    "            23: 48,\n",
    "            24: 25,\n",
    "            25: 4,\n",
    "            26: 39,\n",
    "            27: 49,\n",
    "            28: 40,\n",
    "            29: 6,\n",
    "            30: 7,\n",
    "            31: 32,\n",
    "            32: 26,\n",
    "            33: 31,\n",
    "            34: 2,\n",
    "            35: 17,\n",
    "            36: 10,\n",
    "            37: 1,\n",
    "            38: 11,\n",
    "            39: 8,\n",
    "            40: 42,\n",
    "            41: 21,\n",
    "            42: 28,\n",
    "            43: 19,\n",
    "            44: 18,\n",
    "            45: 45,\n",
    "            46: 36,\n",
    "            47: 35,\n",
    "            48: 15,\n",
    "            49: 16\n",
    "    }\n",
    "    return torch.tensor(int(label_mapping[label]))\n",
    "\n",
    "\n",
    "#Summary: Print All Samples in Dataloader\n",
    "#Summary: Data Label OG = this is the published index labling, dog = 4\n",
    "#Summary; because pytorch sorts the data, dog = 18 in Dataloader,\n",
    "#Summary: so if i want to double check that the labels are correct, I have to use label_remap() function to convert the pytorch label number to the original\n",
    "#Summary: this doesnt really matter, all the code below was to just do a double check that everything is correct\n",
    "\n",
    "def print_data_loader(_dataloader, _stop,class_names):\n",
    "    _idx = f\"{'#':<{4}} | \"\n",
    "    _dshape = f\"{'Data Shape:[c,  t,   w]':<{24}} | \"\n",
    "    _lshape = f\"{'Label Shape':<{15}} | \"\n",
    "    _ddtype = f\"{'Data DataType':<{13}} | \"\n",
    "    _dlabel1 = f\"{'Data Label OG':<{13}} | \"\n",
    "    _dlabel2 = f\"{'Data Label Py':<{13}} | \"\n",
    "    _dlabel3 = f\"{'Data Label ':<{20}} | \"\n",
    "    _ldtype = f\"{'Label Type':<{22}} | \"\n",
    "    _dpath = f\"{'Data Path + Label PyTorch Value':<{60}} | \"\n",
    "\n",
    "    print(f\"{_idx}{_dshape}{_lshape}{_ddtype}{_dlabel1}{_dlabel2}{_dlabel3}{_dpath}{_ldtype}\")\n",
    "\n",
    "    #Note: CREATE AN ITERATOR FOR DATALOADER\n",
    "    _data_iter = iter(_dataloader)\n",
    "    #next(_data_iter)\n",
    "    counter = 1  #counter when to stop for loop\n",
    "    #NOTE: GO OVER ALL SAMPLES IN ITERATOR\n",
    "    for (_data, _label) in _data_iter:\n",
    "        #_data_iter = iter(test_dataloader)\n",
    "        _rnd_idx = _data_iter._sampler_iter.gi_frame.f_locals['idx']\n",
    "        _sample_idx = _data_iter._dataset.indices[_rnd_idx]\n",
    "        #numm = _data_iter._index_sampler.sampler.data_source.indices[num] #incorrect location\n",
    "        _path = test_dataset.dataset.samples[_sample_idx]\n",
    "\n",
    "        #NOTE: This is for debug to check that it is the same samples values\n",
    "        #_amy_data = my_data_set[NUM2][0]\n",
    "        #_amy_dataog =  _data[0]\n",
    "        #diff =sum(sum(_amy_data - _amy_dataog)) \n",
    "        #print(diff)\n",
    "        #print(_path)\n",
    "        _idx = f\"{counter:<{4}} | \"\n",
    "        _dshape = f\"{str(_data.shape):<{24}} | \"  # = [batch_size, color_channels, height, width]\"\n",
    "        _lshape = f\"{str(_label.shape):<{15}} | \"\n",
    "        _ddtype = f\"{str(_data.dtype):<{13}} | \"\n",
    "        _dlabel1 = f\"{str(label_remap(int(_label[0]))):<{13}} | \"\n",
    "        _dlabel2 = f\"{str(_label):<{13}} | \"\n",
    "        _dlabel3 = f\"{str(class_names[_label]):<{20}} | \"\n",
    "        _ldtype = f\"{str(type(_label)):<{22}} | \"\n",
    "        _dpath = f\"{str(_path).split('/', 6)[6]:<{60}} | \"\n",
    "\n",
    "        print(f\"{_idx}{_dshape}{_lshape}{_ddtype}{_dlabel1}{_dlabel2}{_dlabel3}{_dpath}{_ldtype}\")\n",
    "\n",
    "        if counter == _stop:\n",
    "            break\n",
    "        else:\n",
    "            counter = counter + 1\n",
    "\n"
   ],
   "metadata": {
    "collapsed": false,
    "ExecuteTime": {
     "end_time": "2024-06-15T19:37:15.888039Z",
     "start_time": "2024-06-15T19:37:15.882649Z"
    }
   },
   "id": "55baaa3bcda72ffd"
  },
  {
   "cell_type": "markdown",
   "source": [
    "# ALL CODE ABOVE IS FUNCTIONS FROM MFCC_DATA_IMPORT"
   ],
   "metadata": {
    "collapsed": false
   },
   "id": "edb21a47bc95f30a"
  },
  {
   "cell_type": "code",
   "execution_count": 793,
   "outputs": [],
   "source": [
    "import os\n",
    "OutputFolder =\"/Users/daniel/Desktop/Github/ESC_Dissertation_2024_EEE/MFCC/tensors/\"\n",
    "# Step 1: Create a dataset from the new organized folder\n",
    "\n",
    "from torchvision import transforms\n",
    "#data_transform = transforms.Compose([transforms.ToTensor()])\n",
    "# Define a custom transform to add the extra dimension\n",
    "test_transform = transforms.Compose([\n",
    "    transforms.Lambda(lambda x: x.unsqueeze(0))  # Adds an extra dimension, making it [1, C, H, W]\n",
    "])\n",
    "import torch\n",
    "from torchvision import datasets\n",
    "\n",
    "my_data_set = datasets.DatasetFolder(\n",
    "        root = OutputFolder,\n",
    "        loader = load_data,\n",
    "        transform = test_transform,  #our transformation for data\n",
    "        target_transform = None,\n",
    "        extensions = ('.pt',)\n",
    ")\n",
    "#my_data_set.class_to_idx\n",
    "#Step 2\n",
    "# Determine the sizes for training and testing splits\n",
    "# And Split the dataset\n",
    "\n",
    "from torch.utils.data import random_split\n",
    "\n",
    "train_size = int(0.8 * len(my_data_set))\n",
    "test_size = len(my_data_set) - train_size\n",
    "\n",
    "train_dataset, test_dataset = random_split(my_data_set, [train_size, test_size])\n"
   ],
   "metadata": {
    "collapsed": false,
    "ExecuteTime": {
     "end_time": "2024-06-15T19:37:16.904655Z",
     "start_time": "2024-06-15T19:37:16.784448Z"
    }
   },
   "id": "e97881811308182d"
  },
  {
   "cell_type": "code",
   "execution_count": 794,
   "outputs": [],
   "source": [
    "#step 3\n",
    "# Turn train\\test Datasets into train\\test DataLoaders\n",
    "\n",
    "#import os\n",
    "#NUM_OF_WORKERS = os.cpu_count() #this is used on collab when I want to use all max cpu power\n",
    "from torch.utils.data import DataLoader\n",
    "\n",
    "BATCH_SIZE = 20\n",
    "train_dataloader = DataLoader(dataset = train_dataset,\n",
    "                              batch_size = BATCH_SIZE,  # how many samples per batch?\n",
    "                              #num_workers=1,#ERROR THIS DOESNT WORK ON LAPTOP BUT WORKS ON COLLAB # how many CPU subprocesses to use for data loading? (higher = more)\n",
    "                              shuffle = True)  # shuffle the data?\n",
    "\n",
    "test_dataloader = DataLoader(dataset = test_dataset,\n",
    "                             batch_size = BATCH_SIZE,  # how many samples per batch?\n",
    "                             #num_workers=1,#ERROR THIS DOESNT WORK ON LAPTOP BUT WORKS ON COLLAB # how many CPU subprocesses to use for data loading? (higher = more)\n",
    "                             shuffle = True)  # shuffle the data?"
   ],
   "metadata": {
    "collapsed": false,
    "ExecuteTime": {
     "end_time": "2024-06-15T19:37:16.904793Z",
     "start_time": "2024-06-15T19:37:16.798108Z"
    }
   },
   "id": "9f7f586a6ec2bbb6"
  },
  {
   "cell_type": "code",
   "execution_count": 795,
   "outputs": [
    {
     "name": "stdout",
     "output_type": "stream",
     "text": [
      "'Class Label': Label Number \n",
      "{'airplane': 0, 'breathing': 1, 'brushing_teeth': 2, 'can_opening': 3, 'car_horn': 4, 'cat': 5, 'chainsaw': 6, 'chirping_birds': 7, 'church_bells': 8, 'clapping': 9, 'clock_alarm': 10, 'clock_tick': 11, 'coughing': 12, 'cow': 13, 'crackling_fire': 14, 'crickets': 15, 'crow': 16, 'crying_baby': 17, 'dog': 18, 'door_wood_creaks': 19, 'door_wood_knock': 20, 'drinking_sipping': 21, 'engine': 22, 'fireworks': 23, 'footsteps': 24, 'frog': 25, 'glass_breaking': 26, 'hand_saw': 27, 'helicopter': 28, 'hen': 29, 'insects': 30, 'keyboard_typing': 31, 'laughing': 32, 'mouse_click': 33, 'pig': 34, 'pouring_water': 35, 'rain': 36, 'rooster': 37, 'sea_waves': 38, 'sheep': 39, 'siren': 40, 'sneezing': 41, 'snoring': 42, 'thunderstorm': 43, 'toilet_flush': 44, 'train': 45, 'vacuum_cleaner': 46, 'washing_machine': 47, 'water_drops': 48, 'wind': 49}\n"
     ]
    }
   ],
   "source": [
    "class_names = my_data_set.classes\n",
    "class_dict = my_data_set.class_to_idx\n",
    "print(f\"'Class Label': Label Number \\n{class_dict}\")"
   ],
   "metadata": {
    "collapsed": false,
    "ExecuteTime": {
     "end_time": "2024-06-15T19:37:16.904907Z",
     "start_time": "2024-06-15T19:37:16.800660Z"
    }
   },
   "id": "ae10b1acb2c9da55"
  },
  {
   "cell_type": "code",
   "execution_count": 796,
   "outputs": [
    {
     "name": "stdout",
     "output_type": "stream",
     "text": [
      "Train DataLoader Samples:\t80,\t\tTest DataLoader Samples:\t20.\n",
      "Train DataSet Samples:\t\t1600,\t\tTest DataSet Samples:\t\t400.\n"
     ]
    }
   ],
   "source": [
    "print(f\"Train DataLoader Samples:\\t{len(train_dataloader)},\\t\\tTest DataLoader Samples:\\t{len(test_dataloader)}.\")\n",
    "print(f\"Train DataSet Samples:\\t\\t{len(train_dataset)},\\t\\tTest DataSet Samples:\\t\\t{len(test_dataset)}.\")"
   ],
   "metadata": {
    "collapsed": false,
    "ExecuteTime": {
     "end_time": "2024-06-15T19:37:16.904962Z",
     "start_time": "2024-06-15T19:37:16.802999Z"
    }
   },
   "id": "d9d11625dbe18dbb"
  },
  {
   "cell_type": "code",
   "execution_count": 797,
   "outputs": [],
   "source": [
    "#print_data_loader(test_dataloader, 5,class_names )"
   ],
   "metadata": {
    "collapsed": false,
    "ExecuteTime": {
     "end_time": "2024-06-15T19:37:16.904989Z",
     "start_time": "2024-06-15T19:37:16.805252Z"
    }
   },
   "id": "d9209d1f27d7a9ec"
  },
  {
   "cell_type": "code",
   "execution_count": 798,
   "outputs": [],
   "source": [
    "#print_data_loader(train_dataloader, 5,class_names )"
   ],
   "metadata": {
    "collapsed": false,
    "ExecuteTime": {
     "end_time": "2024-06-15T19:37:17.954202Z",
     "start_time": "2024-06-15T19:37:17.834671Z"
    }
   },
   "id": "acc591d6dc60be1a"
  },
  {
   "cell_type": "markdown",
   "source": [
    "# CREATING A MODEL USING PYTORCH SEQUENIAL"
   ],
   "metadata": {
    "collapsed": false
   },
   "id": "3cfce6c3c2d50c01"
  },
  {
   "cell_type": "code",
   "execution_count": 799,
   "outputs": [
    {
     "name": "stdout",
     "output_type": "stream",
     "text": [
      "Using device: mps\n"
     ]
    }
   ],
   "source": [
    "# Import torch\n",
    "import torch\n",
    "\n",
    "# Setup device agnostic code\n",
    "#device agnostic code - automatically set what cpu\\gpu to use for best performance\n",
    "device = \"cuda\" if torch.cuda.is_available() else \"mps\" if torch.backends.mps.is_available() else \"cpu\"\n",
    "print(f\"Using device: {device}\")\n",
    "\n",
    "# Setup random seed\n",
    "RANDOM_SEED = 42"
   ],
   "metadata": {
    "collapsed": false,
    "ExecuteTime": {
     "end_time": "2024-06-15T19:37:17.967075Z",
     "start_time": "2024-06-15T19:37:17.836893Z"
    }
   },
   "id": "2ad523a37aaaac70"
  },
  {
   "cell_type": "code",
   "execution_count": 800,
   "outputs": [],
   "source": [
    "import torch\n",
    "from torch import nn\n",
    "from torchmetrics import Accuracy"
   ],
   "metadata": {
    "collapsed": false,
    "ExecuteTime": {
     "end_time": "2024-06-15T19:37:17.972394Z",
     "start_time": "2024-06-15T19:37:17.839740Z"
    }
   },
   "id": "e073483ccd58375e"
  },
  {
   "cell_type": "code",
   "execution_count": 801,
   "outputs": [],
   "source": [
    "\n",
    "class PiczakRec(nn.Module):\n",
    "    def __init__(self,inputSize,outputSize,hiddenNeurons,filtersize,poolingsize,padsize,stridesize,flattensize):\n",
    "        super().__init__()\n",
    "\n",
    "        self.nnBlock1 = nn.Sequential(\n",
    "                nn.Conv2d(in_channels=1,out_channels=80,kernel_size=(57,6),padding=0),\n",
    "                nn.ReLU(),\n",
    "                #nn.MaxPool2d(kernel_size=(4,3),stride=(1,3)),\n",
    "        )    \n",
    "        \n",
    "        self.nnBlock2 = nn.Sequential(\n",
    "                nn.Conv2d(in_channels=80,out_channels=80,kernel_size=(1,3),padding=0,stride = 1),\n",
    "                nn.ReLU(),\n",
    "                nn.MaxPool2d(kernel_size=(1,3),stride=(1,3))\n",
    "        )    \n",
    "        self.classifier = nn.Sequential(\n",
    "            nn.Flatten(),\n",
    "            nn.Linear(in_features=70720,out_features=5000),\n",
    "            nn.Linear(in_features=5000,out_features=5000),\n",
    "            nn.Linear(in_features=5000,out_features=50)\n",
    "        )\n",
    "        \n",
    "    def forward(self, x):\n",
    "        x = self.nnBlock1(x)\n",
    "        x = self.nnBlock2(x)\n",
    "        x = self.classifier(x)\n",
    "        return x\n",
    "            "
   ],
   "metadata": {
    "collapsed": false,
    "ExecuteTime": {
     "end_time": "2024-06-15T19:37:17.972799Z",
     "start_time": "2024-06-15T19:37:17.843223Z"
    }
   },
   "id": "d1103327ceb4f064"
  },
  {
   "cell_type": "code",
   "execution_count": 802,
   "outputs": [],
   "source": [
    "inputSize=1#how many color channels, in my case 1\n",
    "outputSize=50\n",
    "hiddenNeurons=1\n",
    "filtersize=3\n",
    "poolingsize=2\n",
    "padsize=0\n",
    "stridesize=1\n",
    "flattensize=3528\n",
    "model = PiczakRec(inputSize,outputSize,hiddenNeurons,filtersize,poolingsize,padsize,stridesize,flattensize)"
   ],
   "metadata": {
    "collapsed": false,
    "ExecuteTime": {
     "end_time": "2024-06-15T19:37:18.932870Z",
     "start_time": "2024-06-15T19:37:17.845673Z"
    }
   },
   "id": "4edfb44bcd12e35a"
  },
  {
   "cell_type": "code",
   "execution_count": 803,
   "outputs": [],
   "source": [
    "#model.state_dict()\n",
    "#next(model.modules())"
   ],
   "metadata": {
    "collapsed": false,
    "ExecuteTime": {
     "end_time": "2024-06-15T19:37:18.939366Z",
     "start_time": "2024-06-15T19:37:18.933247Z"
    }
   },
   "id": "6cbfda5aa4826fa8"
  },
  {
   "cell_type": "code",
   "execution_count": 804,
   "outputs": [],
   "source": [
    "model.eval()\n",
    "\n",
    "coeff,y = next(iter(test_dataloader))\n",
    "model_pred_logits = model(coeff).squeeze(dim=0) # make sure image is right shape + on right device\n",
    "model_pred_probs = torch.softmax(model_pred_logits, dim=1)\n",
    "model_pred_label = torch.argmax(model_pred_probs, dim=1)"
   ],
   "metadata": {
    "collapsed": false,
    "ExecuteTime": {
     "end_time": "2024-06-15T19:37:19.232374Z",
     "start_time": "2024-06-15T19:37:18.937482Z"
    }
   },
   "id": "d684de14845daf5e"
  },
  {
   "cell_type": "code",
   "execution_count": 805,
   "outputs": [
    {
     "data": {
      "text/plain": "torch.Size([20, 1, 498, 13])"
     },
     "execution_count": 805,
     "metadata": {},
     "output_type": "execute_result"
    }
   ],
   "source": [
    "coeff.shape"
   ],
   "metadata": {
    "collapsed": false,
    "ExecuteTime": {
     "end_time": "2024-06-15T19:37:19.240411Z",
     "start_time": "2024-06-15T19:37:19.233022Z"
    }
   },
   "id": "722b6f04c9807c15"
  },
  {
   "cell_type": "markdown",
   "source": [
    "# THIS TO TO CALCULATE SIZES - OUTPUT OF LAYERS"
   ],
   "metadata": {
    "collapsed": false
   },
   "id": "b578d49407909372"
  },
  {
   "cell_type": "code",
   "execution_count": 806,
   "outputs": [
    {
     "name": "stdout",
     "output_type": "stream",
     "text": [
      "N\tC\tH\tW\t\n",
      "1\t80\t442\t8\t\n"
     ]
    }
   ],
   "source": [
    "from torchshape import tensorshape\n",
    "\n",
    "op = nn.Conv2d(in_channels=1,out_channels=80,kernel_size=(57,6),padding=0)\n",
    "outshape = tensorshape(op, in_shape = (1,1,498,13))\n",
    "print(f\"N\\tC\\tH\\tW\\t\");print(f\"{outshape[0]}\\t{outshape[1]}\\t{outshape[2]}\\t{outshape[3]}\\t\")"
   ],
   "metadata": {
    "collapsed": false,
    "ExecuteTime": {
     "end_time": "2024-06-15T19:37:19.240613Z",
     "start_time": "2024-06-15T19:37:19.236354Z"
    }
   },
   "id": "dd6f0a34ff080783"
  },
  {
   "cell_type": "code",
   "execution_count": 807,
   "outputs": [
    {
     "name": "stdout",
     "output_type": "stream",
     "text": [
      "N\tC\tH\tW\t\n",
      "1\t80\t439\t2\t\n"
     ]
    }
   ],
   "source": [
    "op1 = nn.MaxPool2d(kernel_size=(4,3),stride=(1,3))\n",
    "outshape = tensorshape(op=op1, in_shape = outshape)\n",
    "print(f\"N\\tC\\tH\\tW\\t\"); print(f\"{outshape[0]}\\t{outshape[1]}\\t{outshape[2]}\\t{outshape[3]}\\t\")"
   ],
   "metadata": {
    "collapsed": false,
    "ExecuteTime": {
     "end_time": "2024-06-15T19:37:19.242603Z",
     "start_time": "2024-06-15T19:37:19.240512Z"
    }
   },
   "id": "e006ca0393e18609"
  },
  {
   "cell_type": "code",
   "execution_count": 808,
   "outputs": [
    {
     "name": "stdout",
     "output_type": "stream",
     "text": [
      "N\tC\tH\tW\t\n",
      "1\t80\t439\t0\t\n"
     ]
    }
   ],
   "source": [
    "op = nn.Conv2d(in_channels=80,out_channels=80,kernel_size=(1,3),padding=0,stride = 1)\n",
    "outshape = tensorshape(op, in_shape = outshape)\n",
    "print(f\"N\\tC\\tH\\tW\\t\");print(f\"{outshape[0]}\\t{outshape[1]}\\t{outshape[2]}\\t{outshape[3]}\\t\")"
   ],
   "metadata": {
    "collapsed": false,
    "ExecuteTime": {
     "end_time": "2024-06-15T19:37:19.251226Z",
     "start_time": "2024-06-15T19:37:19.242957Z"
    }
   },
   "id": "30e25a7a93b1fbab"
  },
  {
   "cell_type": "code",
   "execution_count": 809,
   "outputs": [
    {
     "name": "stdout",
     "output_type": "stream",
     "text": [
      "N\tC\tH\tW\t\n",
      "1\t80\t439\t0\t\n"
     ]
    }
   ],
   "source": [
    "op1 = nn.MaxPool2d(kernel_size=(1,3),stride=(1,3))\n",
    "outshape = tensorshape(op=op1, in_shape = outshape)\n",
    "print(f\"N\\tC\\tH\\tW\\t\");print(f\"{outshape[0]}\\t{outshape[1]}\\t{outshape[2]}\\t{outshape[3]}\\t\")"
   ],
   "metadata": {
    "collapsed": false,
    "ExecuteTime": {
     "end_time": "2024-06-15T19:37:20.319992Z",
     "start_time": "2024-06-15T19:37:20.207394Z"
    }
   },
   "id": "f7f145b97d710c07"
  },
  {
   "cell_type": "code",
   "execution_count": 810,
   "outputs": [
    {
     "name": "stdout",
     "output_type": "stream",
     "text": [
      "H\tW\t\n",
      "1\t439\n"
     ]
    }
   ],
   "source": [
    "op2 = nn.Flatten()\n",
    "outshape = tensorshape(op=op2, in_shape = (1,1,439,1))\n",
    "print(f\"H\\tW\\t\");print(f\"{outshape[0]}\\t{outshape[1]}\")"
   ],
   "metadata": {
    "collapsed": false,
    "ExecuteTime": {
     "end_time": "2024-06-15T19:37:20.320401Z",
     "start_time": "2024-06-15T19:37:20.210996Z"
    }
   },
   "id": "1b52ee6b315e83a0"
  },
  {
   "cell_type": "code",
   "execution_count": 811,
   "outputs": [
    {
     "data": {
      "text/plain": "  0%|          | 0/100 [00:00<?, ?it/s]",
      "application/vnd.jupyter.widget-view+json": {
       "version_major": 2,
       "version_minor": 0,
       "model_id": "c2f2c306a467453d9208a7569171af4a"
      }
     },
     "metadata": {},
     "output_type": "display_data"
    },
    {
     "data": {
      "text/plain": "  0%|          | 0/80 [00:00<?, ?it/s]",
      "application/vnd.jupyter.widget-view+json": {
       "version_major": 2,
       "version_minor": 0,
       "model_id": "22b8e979348b47fabe6e80a426ceeca0"
      }
     },
     "metadata": {},
     "output_type": "display_data"
    },
    {
     "name": "stdout",
     "output_type": "stream",
     "text": [
      "Epoch: 0 | Loss: 0.047 | Test loss: 3.997 | Train Acc: 0.0 | Test Acc: 0.0\n"
     ]
    },
    {
     "data": {
      "text/plain": "  0%|          | 0/80 [00:00<?, ?it/s]",
      "application/vnd.jupyter.widget-view+json": {
       "version_major": 2,
       "version_minor": 0,
       "model_id": "5f4f5a8068a74877875572c1360d7a6e"
      }
     },
     "metadata": {},
     "output_type": "display_data"
    },
    {
     "name": "stdout",
     "output_type": "stream",
     "text": [
      "Epoch: 1 | Loss: 0.049 | Test loss: 3.944 | Train Acc: 0.0 | Test Acc: 0.05000000074505806\n"
     ]
    },
    {
     "data": {
      "text/plain": "  0%|          | 0/80 [00:00<?, ?it/s]",
      "application/vnd.jupyter.widget-view+json": {
       "version_major": 2,
       "version_minor": 0,
       "model_id": "c1cbec29092144bea14aee6ecc30d55e"
      }
     },
     "metadata": {},
     "output_type": "display_data"
    },
    {
     "name": "stdout",
     "output_type": "stream",
     "text": [
      "Epoch: 2 | Loss: 0.049 | Test loss: 3.946 | Train Acc: 0.0 | Test Acc: 0.0\n"
     ]
    },
    {
     "data": {
      "text/plain": "  0%|          | 0/80 [00:00<?, ?it/s]",
      "application/vnd.jupyter.widget-view+json": {
       "version_major": 2,
       "version_minor": 0,
       "model_id": "5104e70017934be7a71f5e4e51d5453d"
      }
     },
     "metadata": {},
     "output_type": "display_data"
    },
    {
     "name": "stdout",
     "output_type": "stream",
     "text": [
      "Epoch: 3 | Loss: 0.046 | Test loss: 3.976 | Train Acc: 0.05000000074505806 | Test Acc: 0.0\n"
     ]
    },
    {
     "data": {
      "text/plain": "  0%|          | 0/80 [00:00<?, ?it/s]",
      "application/vnd.jupyter.widget-view+json": {
       "version_major": 2,
       "version_minor": 0,
       "model_id": "52c43beff1df44a0ba8373e61c2c8076"
      }
     },
     "metadata": {},
     "output_type": "display_data"
    },
    {
     "name": "stdout",
     "output_type": "stream",
     "text": [
      "Epoch: 4 | Loss: 0.050 | Test loss: 3.980 | Train Acc: 0.0 | Test Acc: 0.0\n"
     ]
    },
    {
     "data": {
      "text/plain": "  0%|          | 0/80 [00:00<?, ?it/s]",
      "application/vnd.jupyter.widget-view+json": {
       "version_major": 2,
       "version_minor": 0,
       "model_id": "746e6fd7cb174d0d9c991699d227ced4"
      }
     },
     "metadata": {},
     "output_type": "display_data"
    },
    {
     "name": "stdout",
     "output_type": "stream",
     "text": [
      "Epoch: 5 | Loss: 0.044 | Test loss: 4.025 | Train Acc: 0.0 | Test Acc: 0.0\n"
     ]
    },
    {
     "data": {
      "text/plain": "  0%|          | 0/80 [00:00<?, ?it/s]",
      "application/vnd.jupyter.widget-view+json": {
       "version_major": 2,
       "version_minor": 0,
       "model_id": "1c43d52f596f4f7f97415533555df85d"
      }
     },
     "metadata": {},
     "output_type": "display_data"
    },
    {
     "name": "stdout",
     "output_type": "stream",
     "text": [
      "Epoch: 6 | Loss: 0.047 | Test loss: 4.020 | Train Acc: 0.05000000074505806 | Test Acc: 0.05000000074505806\n"
     ]
    },
    {
     "data": {
      "text/plain": "  0%|          | 0/80 [00:00<?, ?it/s]",
      "application/vnd.jupyter.widget-view+json": {
       "version_major": 2,
       "version_minor": 0,
       "model_id": "c200371b9d594f8c8fac3db70ef91fde"
      }
     },
     "metadata": {},
     "output_type": "display_data"
    },
    {
     "name": "stdout",
     "output_type": "stream",
     "text": [
      "Epoch: 7 | Loss: 0.042 | Test loss: 4.077 | Train Acc: 0.05000000074505806 | Test Acc: 0.0\n"
     ]
    },
    {
     "data": {
      "text/plain": "  0%|          | 0/80 [00:00<?, ?it/s]",
      "application/vnd.jupyter.widget-view+json": {
       "version_major": 2,
       "version_minor": 0,
       "model_id": "c478fece83174587898abd2cba1592d1"
      }
     },
     "metadata": {},
     "output_type": "display_data"
    },
    {
     "name": "stdout",
     "output_type": "stream",
     "text": [
      "Epoch: 8 | Loss: 0.042 | Test loss: 4.071 | Train Acc: 0.10000000149011612 | Test Acc: 0.0\n"
     ]
    },
    {
     "data": {
      "text/plain": "  0%|          | 0/80 [00:00<?, ?it/s]",
      "application/vnd.jupyter.widget-view+json": {
       "version_major": 2,
       "version_minor": 0,
       "model_id": "d6fb71ecdad24de6abaab6feec5b7ed4"
      }
     },
     "metadata": {},
     "output_type": "display_data"
    },
    {
     "name": "stdout",
     "output_type": "stream",
     "text": [
      "Epoch: 9 | Loss: 0.045 | Test loss: 4.085 | Train Acc: 0.0 | Test Acc: 0.10000000149011612\n"
     ]
    },
    {
     "data": {
      "text/plain": "  0%|          | 0/80 [00:00<?, ?it/s]",
      "application/vnd.jupyter.widget-view+json": {
       "version_major": 2,
       "version_minor": 0,
       "model_id": "ca5436a7f7304fada3338460ec348971"
      }
     },
     "metadata": {},
     "output_type": "display_data"
    },
    {
     "name": "stdout",
     "output_type": "stream",
     "text": [
      "Epoch: 10 | Loss: 0.041 | Test loss: 4.113 | Train Acc: 0.05000000074505806 | Test Acc: 0.0\n"
     ]
    },
    {
     "data": {
      "text/plain": "  0%|          | 0/80 [00:00<?, ?it/s]",
      "application/vnd.jupyter.widget-view+json": {
       "version_major": 2,
       "version_minor": 0,
       "model_id": "59df751c523e4f94ad297ca6d4204d95"
      }
     },
     "metadata": {},
     "output_type": "display_data"
    },
    {
     "name": "stdout",
     "output_type": "stream",
     "text": [
      "Epoch: 11 | Loss: 0.045 | Test loss: 4.139 | Train Acc: 0.0 | Test Acc: 0.0\n"
     ]
    },
    {
     "data": {
      "text/plain": "  0%|          | 0/80 [00:00<?, ?it/s]",
      "application/vnd.jupyter.widget-view+json": {
       "version_major": 2,
       "version_minor": 0,
       "model_id": "97a99de65e864af389ada651e3064c8c"
      }
     },
     "metadata": {},
     "output_type": "display_data"
    },
    {
     "name": "stdout",
     "output_type": "stream",
     "text": [
      "Epoch: 12 | Loss: 0.045 | Test loss: 4.151 | Train Acc: 0.0 | Test Acc: 0.0\n"
     ]
    },
    {
     "data": {
      "text/plain": "  0%|          | 0/80 [00:00<?, ?it/s]",
      "application/vnd.jupyter.widget-view+json": {
       "version_major": 2,
       "version_minor": 0,
       "model_id": "79f33640474443fb8d71f25817ce5221"
      }
     },
     "metadata": {},
     "output_type": "display_data"
    },
    {
     "name": "stdout",
     "output_type": "stream",
     "text": [
      "Epoch: 13 | Loss: 0.038 | Test loss: 4.166 | Train Acc: 0.0 | Test Acc: 0.0\n"
     ]
    },
    {
     "data": {
      "text/plain": "  0%|          | 0/80 [00:00<?, ?it/s]",
      "application/vnd.jupyter.widget-view+json": {
       "version_major": 2,
       "version_minor": 0,
       "model_id": "bde45e88feae4a7fa6d43108890a3e40"
      }
     },
     "metadata": {},
     "output_type": "display_data"
    },
    {
     "name": "stdout",
     "output_type": "stream",
     "text": [
      "Epoch: 14 | Loss: 0.045 | Test loss: 4.165 | Train Acc: 0.0 | Test Acc: 0.0\n"
     ]
    },
    {
     "data": {
      "text/plain": "  0%|          | 0/80 [00:00<?, ?it/s]",
      "application/vnd.jupyter.widget-view+json": {
       "version_major": 2,
       "version_minor": 0,
       "model_id": "66d1a9b3d670426f9d193d1d8a41d8bd"
      }
     },
     "metadata": {},
     "output_type": "display_data"
    },
    {
     "name": "stdout",
     "output_type": "stream",
     "text": [
      "Epoch: 15 | Loss: 0.038 | Test loss: 4.167 | Train Acc: 0.0 | Test Acc: 0.0\n"
     ]
    },
    {
     "data": {
      "text/plain": "  0%|          | 0/80 [00:00<?, ?it/s]",
      "application/vnd.jupyter.widget-view+json": {
       "version_major": 2,
       "version_minor": 0,
       "model_id": "8b071bc0e94d4c9292cebed494dab5b1"
      }
     },
     "metadata": {},
     "output_type": "display_data"
    },
    {
     "name": "stdout",
     "output_type": "stream",
     "text": [
      "Epoch: 16 | Loss: 0.045 | Test loss: 4.199 | Train Acc: 0.05000000074505806 | Test Acc: 0.0\n"
     ]
    },
    {
     "data": {
      "text/plain": "  0%|          | 0/80 [00:00<?, ?it/s]",
      "application/vnd.jupyter.widget-view+json": {
       "version_major": 2,
       "version_minor": 0,
       "model_id": "6ea332b2642a4261b0a03fff8f2e30cc"
      }
     },
     "metadata": {},
     "output_type": "display_data"
    },
    {
     "name": "stdout",
     "output_type": "stream",
     "text": [
      "Epoch: 17 | Loss: 0.045 | Test loss: 4.223 | Train Acc: 0.0 | Test Acc: 0.05000000074505806\n"
     ]
    },
    {
     "data": {
      "text/plain": "  0%|          | 0/80 [00:00<?, ?it/s]",
      "application/vnd.jupyter.widget-view+json": {
       "version_major": 2,
       "version_minor": 0,
       "model_id": "3359019d08fc429f9e8ae69ebea4bb1d"
      }
     },
     "metadata": {},
     "output_type": "display_data"
    },
    {
     "name": "stdout",
     "output_type": "stream",
     "text": [
      "Epoch: 18 | Loss: 0.038 | Test loss: 4.229 | Train Acc: 0.0 | Test Acc: 0.05000000074505806\n"
     ]
    },
    {
     "data": {
      "text/plain": "  0%|          | 0/80 [00:00<?, ?it/s]",
      "application/vnd.jupyter.widget-view+json": {
       "version_major": 2,
       "version_minor": 0,
       "model_id": "4e66712663654686a8bb6aaa4ed91f77"
      }
     },
     "metadata": {},
     "output_type": "display_data"
    },
    {
     "name": "stdout",
     "output_type": "stream",
     "text": [
      "Epoch: 19 | Loss: 0.044 | Test loss: 4.241 | Train Acc: 0.0 | Test Acc: 0.0\n"
     ]
    },
    {
     "data": {
      "text/plain": "  0%|          | 0/80 [00:00<?, ?it/s]",
      "application/vnd.jupyter.widget-view+json": {
       "version_major": 2,
       "version_minor": 0,
       "model_id": "8972fc42f83c4710879c44c0cfd2a727"
      }
     },
     "metadata": {},
     "output_type": "display_data"
    },
    {
     "name": "stdout",
     "output_type": "stream",
     "text": [
      "Epoch: 20 | Loss: 0.040 | Test loss: 4.234 | Train Acc: 0.10000000149011612 | Test Acc: 0.0\n"
     ]
    },
    {
     "data": {
      "text/plain": "  0%|          | 0/80 [00:00<?, ?it/s]",
      "application/vnd.jupyter.widget-view+json": {
       "version_major": 2,
       "version_minor": 0,
       "model_id": "2c6606a4ffcd435a844afe3730984615"
      }
     },
     "metadata": {},
     "output_type": "display_data"
    },
    {
     "name": "stdout",
     "output_type": "stream",
     "text": [
      "Epoch: 21 | Loss: 0.040 | Test loss: 4.236 | Train Acc: 0.0 | Test Acc: 0.0\n"
     ]
    },
    {
     "data": {
      "text/plain": "  0%|          | 0/80 [00:00<?, ?it/s]",
      "application/vnd.jupyter.widget-view+json": {
       "version_major": 2,
       "version_minor": 0,
       "model_id": "a24e82b02c5e4963ac80b93470075d04"
      }
     },
     "metadata": {},
     "output_type": "display_data"
    },
    {
     "name": "stdout",
     "output_type": "stream",
     "text": [
      "Epoch: 22 | Loss: 0.040 | Test loss: 4.270 | Train Acc: 0.0 | Test Acc: 0.05000000074505806\n"
     ]
    },
    {
     "data": {
      "text/plain": "  0%|          | 0/80 [00:00<?, ?it/s]",
      "application/vnd.jupyter.widget-view+json": {
       "version_major": 2,
       "version_minor": 0,
       "model_id": "d05836270d6a4332b3f266cabe709007"
      }
     },
     "metadata": {},
     "output_type": "display_data"
    },
    {
     "name": "stdout",
     "output_type": "stream",
     "text": [
      "Epoch: 23 | Loss: 0.039 | Test loss: 4.282 | Train Acc: 0.05000000074505806 | Test Acc: 0.0\n"
     ]
    },
    {
     "data": {
      "text/plain": "  0%|          | 0/80 [00:00<?, ?it/s]",
      "application/vnd.jupyter.widget-view+json": {
       "version_major": 2,
       "version_minor": 0,
       "model_id": "d8bcb0592cea4fb6b35aaa15d253077d"
      }
     },
     "metadata": {},
     "output_type": "display_data"
    },
    {
     "name": "stdout",
     "output_type": "stream",
     "text": [
      "Epoch: 24 | Loss: 0.041 | Test loss: 4.262 | Train Acc: 0.0 | Test Acc: 0.0\n"
     ]
    },
    {
     "data": {
      "text/plain": "  0%|          | 0/80 [00:00<?, ?it/s]",
      "application/vnd.jupyter.widget-view+json": {
       "version_major": 2,
       "version_minor": 0,
       "model_id": "d1b2823df8854fbaa945ebab95dd8bc2"
      }
     },
     "metadata": {},
     "output_type": "display_data"
    },
    {
     "name": "stdout",
     "output_type": "stream",
     "text": [
      "Epoch: 25 | Loss: 0.044 | Test loss: 4.301 | Train Acc: 0.05000000074505806 | Test Acc: 0.0\n"
     ]
    },
    {
     "data": {
      "text/plain": "  0%|          | 0/80 [00:00<?, ?it/s]",
      "application/vnd.jupyter.widget-view+json": {
       "version_major": 2,
       "version_minor": 0,
       "model_id": "6854f65c62d84513b1f814b3c11339bf"
      }
     },
     "metadata": {},
     "output_type": "display_data"
    },
    {
     "name": "stdout",
     "output_type": "stream",
     "text": [
      "Epoch: 26 | Loss: 0.044 | Test loss: 4.297 | Train Acc: 0.0 | Test Acc: 0.0\n"
     ]
    },
    {
     "data": {
      "text/plain": "  0%|          | 0/80 [00:00<?, ?it/s]",
      "application/vnd.jupyter.widget-view+json": {
       "version_major": 2,
       "version_minor": 0,
       "model_id": "63136e69ebc24fc480579445f1704b08"
      }
     },
     "metadata": {},
     "output_type": "display_data"
    },
    {
     "name": "stdout",
     "output_type": "stream",
     "text": [
      "Epoch: 27 | Loss: 0.043 | Test loss: 4.308 | Train Acc: 0.05000000074505806 | Test Acc: 0.0\n"
     ]
    },
    {
     "data": {
      "text/plain": "  0%|          | 0/80 [00:00<?, ?it/s]",
      "application/vnd.jupyter.widget-view+json": {
       "version_major": 2,
       "version_minor": 0,
       "model_id": "6305b95dc9a649c599f9117fc55e765a"
      }
     },
     "metadata": {},
     "output_type": "display_data"
    },
    {
     "name": "stdout",
     "output_type": "stream",
     "text": [
      "Epoch: 28 | Loss: 0.042 | Test loss: 4.290 | Train Acc: 0.0 | Test Acc: 0.05000000074505806\n"
     ]
    },
    {
     "data": {
      "text/plain": "  0%|          | 0/80 [00:00<?, ?it/s]",
      "application/vnd.jupyter.widget-view+json": {
       "version_major": 2,
       "version_minor": 0,
       "model_id": "9eb1beb5e47c4eea9bc4d7e90a9310b4"
      }
     },
     "metadata": {},
     "output_type": "display_data"
    },
    {
     "name": "stdout",
     "output_type": "stream",
     "text": [
      "Epoch: 29 | Loss: 0.045 | Test loss: 4.304 | Train Acc: 0.05000000074505806 | Test Acc: 0.0\n"
     ]
    },
    {
     "data": {
      "text/plain": "  0%|          | 0/80 [00:00<?, ?it/s]",
      "application/vnd.jupyter.widget-view+json": {
       "version_major": 2,
       "version_minor": 0,
       "model_id": "59f242dd8fde445fac2f7a317a86c02c"
      }
     },
     "metadata": {},
     "output_type": "display_data"
    },
    {
     "name": "stdout",
     "output_type": "stream",
     "text": [
      "Epoch: 30 | Loss: 0.035 | Test loss: 4.313 | Train Acc: 0.0 | Test Acc: 0.05000000074505806\n"
     ]
    },
    {
     "data": {
      "text/plain": "  0%|          | 0/80 [00:00<?, ?it/s]",
      "application/vnd.jupyter.widget-view+json": {
       "version_major": 2,
       "version_minor": 0,
       "model_id": "700cb0fb725a4b3bb89969300dc33e75"
      }
     },
     "metadata": {},
     "output_type": "display_data"
    },
    {
     "name": "stdout",
     "output_type": "stream",
     "text": [
      "Epoch: 31 | Loss: 0.044 | Test loss: 4.311 | Train Acc: 0.10000000149011612 | Test Acc: 0.05000000074505806\n"
     ]
    },
    {
     "data": {
      "text/plain": "  0%|          | 0/80 [00:00<?, ?it/s]",
      "application/vnd.jupyter.widget-view+json": {
       "version_major": 2,
       "version_minor": 0,
       "model_id": "ddf5118d9e4c481fb8f5cbcdbe54fb45"
      }
     },
     "metadata": {},
     "output_type": "display_data"
    },
    {
     "name": "stdout",
     "output_type": "stream",
     "text": [
      "Epoch: 32 | Loss: 0.041 | Test loss: 4.309 | Train Acc: 0.05000000074505806 | Test Acc: 0.0\n"
     ]
    },
    {
     "data": {
      "text/plain": "  0%|          | 0/80 [00:00<?, ?it/s]",
      "application/vnd.jupyter.widget-view+json": {
       "version_major": 2,
       "version_minor": 0,
       "model_id": "a7fcb4d0efc64acba12696c3a883614f"
      }
     },
     "metadata": {},
     "output_type": "display_data"
    },
    {
     "name": "stdout",
     "output_type": "stream",
     "text": [
      "Epoch: 33 | Loss: 0.041 | Test loss: 4.323 | Train Acc: 0.0 | Test Acc: 0.10000000149011612\n"
     ]
    },
    {
     "data": {
      "text/plain": "  0%|          | 0/80 [00:00<?, ?it/s]",
      "application/vnd.jupyter.widget-view+json": {
       "version_major": 2,
       "version_minor": 0,
       "model_id": "80fcccf9e94a4d8b8dbf1744e1fcaab8"
      }
     },
     "metadata": {},
     "output_type": "display_data"
    },
    {
     "name": "stdout",
     "output_type": "stream",
     "text": [
      "Epoch: 34 | Loss: 0.044 | Test loss: 4.329 | Train Acc: 0.0 | Test Acc: 0.0\n"
     ]
    },
    {
     "data": {
      "text/plain": "  0%|          | 0/80 [00:00<?, ?it/s]",
      "application/vnd.jupyter.widget-view+json": {
       "version_major": 2,
       "version_minor": 0,
       "model_id": "840570a950de4a1da6ef12ce0cb3fd63"
      }
     },
     "metadata": {},
     "output_type": "display_data"
    },
    {
     "name": "stdout",
     "output_type": "stream",
     "text": [
      "Epoch: 35 | Loss: 0.040 | Test loss: 4.348 | Train Acc: 0.0 | Test Acc: 0.0\n"
     ]
    },
    {
     "data": {
      "text/plain": "  0%|          | 0/80 [00:00<?, ?it/s]",
      "application/vnd.jupyter.widget-view+json": {
       "version_major": 2,
       "version_minor": 0,
       "model_id": "f7eab8d1595c451d8e0ceb7cdf6ca726"
      }
     },
     "metadata": {},
     "output_type": "display_data"
    },
    {
     "name": "stdout",
     "output_type": "stream",
     "text": [
      "Epoch: 36 | Loss: 0.042 | Test loss: 4.355 | Train Acc: 0.10000000149011612 | Test Acc: 0.05000000074505806\n"
     ]
    },
    {
     "data": {
      "text/plain": "  0%|          | 0/80 [00:00<?, ?it/s]",
      "application/vnd.jupyter.widget-view+json": {
       "version_major": 2,
       "version_minor": 0,
       "model_id": "c326c9c6b616476fb50d3d5f96312b0f"
      }
     },
     "metadata": {},
     "output_type": "display_data"
    },
    {
     "name": "stdout",
     "output_type": "stream",
     "text": [
      "Epoch: 37 | Loss: 0.039 | Test loss: 4.338 | Train Acc: 0.05000000074505806 | Test Acc: 0.0\n"
     ]
    },
    {
     "data": {
      "text/plain": "  0%|          | 0/80 [00:00<?, ?it/s]",
      "application/vnd.jupyter.widget-view+json": {
       "version_major": 2,
       "version_minor": 0,
       "model_id": "9451a3dee12041e5aeecccff7814a13f"
      }
     },
     "metadata": {},
     "output_type": "display_data"
    },
    {
     "name": "stdout",
     "output_type": "stream",
     "text": [
      "Epoch: 38 | Loss: 0.037 | Test loss: 4.358 | Train Acc: 0.10000000149011612 | Test Acc: 0.0\n"
     ]
    },
    {
     "data": {
      "text/plain": "  0%|          | 0/80 [00:00<?, ?it/s]",
      "application/vnd.jupyter.widget-view+json": {
       "version_major": 2,
       "version_minor": 0,
       "model_id": "4a34e44cba344a598527ffc62f2855aa"
      }
     },
     "metadata": {},
     "output_type": "display_data"
    },
    {
     "name": "stdout",
     "output_type": "stream",
     "text": [
      "Epoch: 39 | Loss: 0.039 | Test loss: 4.363 | Train Acc: 0.0 | Test Acc: 0.0\n"
     ]
    },
    {
     "data": {
      "text/plain": "  0%|          | 0/80 [00:00<?, ?it/s]",
      "application/vnd.jupyter.widget-view+json": {
       "version_major": 2,
       "version_minor": 0,
       "model_id": "18023b98944e443ea50b1e714c816534"
      }
     },
     "metadata": {},
     "output_type": "display_data"
    },
    {
     "name": "stdout",
     "output_type": "stream",
     "text": [
      "Epoch: 40 | Loss: 0.045 | Test loss: 4.341 | Train Acc: 0.10000000149011612 | Test Acc: 0.0\n"
     ]
    },
    {
     "data": {
      "text/plain": "  0%|          | 0/80 [00:00<?, ?it/s]",
      "application/vnd.jupyter.widget-view+json": {
       "version_major": 2,
       "version_minor": 0,
       "model_id": "aa01cc4f526c45a494e4cd0887ce8b9f"
      }
     },
     "metadata": {},
     "output_type": "display_data"
    },
    {
     "name": "stdout",
     "output_type": "stream",
     "text": [
      "Epoch: 41 | Loss: 0.041 | Test loss: 4.358 | Train Acc: 0.0 | Test Acc: 0.0\n"
     ]
    },
    {
     "data": {
      "text/plain": "  0%|          | 0/80 [00:00<?, ?it/s]",
      "application/vnd.jupyter.widget-view+json": {
       "version_major": 2,
       "version_minor": 0,
       "model_id": "953590e6ca3b4e3daede6dcded0c1429"
      }
     },
     "metadata": {},
     "output_type": "display_data"
    },
    {
     "name": "stdout",
     "output_type": "stream",
     "text": [
      "Epoch: 42 | Loss: 0.042 | Test loss: 4.373 | Train Acc: 0.0 | Test Acc: 0.0\n"
     ]
    },
    {
     "data": {
      "text/plain": "  0%|          | 0/80 [00:00<?, ?it/s]",
      "application/vnd.jupyter.widget-view+json": {
       "version_major": 2,
       "version_minor": 0,
       "model_id": "4c249882f0b34b70a70a69fa216a3eef"
      }
     },
     "metadata": {},
     "output_type": "display_data"
    },
    {
     "name": "stdout",
     "output_type": "stream",
     "text": [
      "Epoch: 43 | Loss: 0.040 | Test loss: 4.382 | Train Acc: 0.0 | Test Acc: 0.0\n"
     ]
    },
    {
     "data": {
      "text/plain": "  0%|          | 0/80 [00:00<?, ?it/s]",
      "application/vnd.jupyter.widget-view+json": {
       "version_major": 2,
       "version_minor": 0,
       "model_id": "c53ae69cec4d4a87a5a8399aec426ed0"
      }
     },
     "metadata": {},
     "output_type": "display_data"
    },
    {
     "name": "stdout",
     "output_type": "stream",
     "text": [
      "Epoch: 44 | Loss: 0.035 | Test loss: 4.355 | Train Acc: 0.0 | Test Acc: 0.0\n"
     ]
    },
    {
     "data": {
      "text/plain": "  0%|          | 0/80 [00:00<?, ?it/s]",
      "application/vnd.jupyter.widget-view+json": {
       "version_major": 2,
       "version_minor": 0,
       "model_id": "6fcfa25795204611aaa9bcfc54e2f8cc"
      }
     },
     "metadata": {},
     "output_type": "display_data"
    },
    {
     "ename": "KeyboardInterrupt",
     "evalue": "",
     "output_type": "error",
     "traceback": [
      "\u001B[0;31m---------------------------------------------------------------------------\u001B[0m",
      "\u001B[0;31mKeyboardInterrupt\u001B[0m                         Traceback (most recent call last)",
      "Cell \u001B[0;32mIn[811], line 33\u001B[0m\n\u001B[1;32m     29\u001B[0m \u001B[38;5;66;03m# Loss calculation\u001B[39;00m\n\u001B[1;32m     30\u001B[0m loss \u001B[38;5;241m=\u001B[39m loss_fn(logits, y)\n\u001B[0;32m---> 33\u001B[0m train_acc\u001B[38;5;241m.\u001B[39mappend(\u001B[43macc_func\u001B[49m\u001B[43m(\u001B[49m\u001B[43my\u001B[49m\u001B[43m,\u001B[49m\u001B[43my_hat\u001B[49m\u001B[43m)\u001B[49m) \u001B[38;5;66;03m#this slows down the runtime\u001B[39;00m\n\u001B[1;32m     34\u001B[0m train_loss \u001B[38;5;241m+\u001B[39m\u001B[38;5;241m=\u001B[39m loss\n\u001B[1;32m     35\u001B[0m \u001B[38;5;66;03m# Optimizer zero grad\u001B[39;00m\n",
      "File \u001B[0;32m~/anaconda3/lib/python3.11/site-packages/torch/nn/modules/module.py:1518\u001B[0m, in \u001B[0;36mModule._wrapped_call_impl\u001B[0;34m(self, *args, **kwargs)\u001B[0m\n\u001B[1;32m   1516\u001B[0m     \u001B[38;5;28;01mreturn\u001B[39;00m \u001B[38;5;28mself\u001B[39m\u001B[38;5;241m.\u001B[39m_compiled_call_impl(\u001B[38;5;241m*\u001B[39margs, \u001B[38;5;241m*\u001B[39m\u001B[38;5;241m*\u001B[39mkwargs)  \u001B[38;5;66;03m# type: ignore[misc]\u001B[39;00m\n\u001B[1;32m   1517\u001B[0m \u001B[38;5;28;01melse\u001B[39;00m:\n\u001B[0;32m-> 1518\u001B[0m     \u001B[38;5;28;01mreturn\u001B[39;00m \u001B[38;5;28;43mself\u001B[39;49m\u001B[38;5;241;43m.\u001B[39;49m\u001B[43m_call_impl\u001B[49m\u001B[43m(\u001B[49m\u001B[38;5;241;43m*\u001B[39;49m\u001B[43margs\u001B[49m\u001B[43m,\u001B[49m\u001B[43m \u001B[49m\u001B[38;5;241;43m*\u001B[39;49m\u001B[38;5;241;43m*\u001B[39;49m\u001B[43mkwargs\u001B[49m\u001B[43m)\u001B[49m\n",
      "File \u001B[0;32m~/anaconda3/lib/python3.11/site-packages/torch/nn/modules/module.py:1527\u001B[0m, in \u001B[0;36mModule._call_impl\u001B[0;34m(self, *args, **kwargs)\u001B[0m\n\u001B[1;32m   1522\u001B[0m \u001B[38;5;66;03m# If we don't have any hooks, we want to skip the rest of the logic in\u001B[39;00m\n\u001B[1;32m   1523\u001B[0m \u001B[38;5;66;03m# this function, and just call forward.\u001B[39;00m\n\u001B[1;32m   1524\u001B[0m \u001B[38;5;28;01mif\u001B[39;00m \u001B[38;5;129;01mnot\u001B[39;00m (\u001B[38;5;28mself\u001B[39m\u001B[38;5;241m.\u001B[39m_backward_hooks \u001B[38;5;129;01mor\u001B[39;00m \u001B[38;5;28mself\u001B[39m\u001B[38;5;241m.\u001B[39m_backward_pre_hooks \u001B[38;5;129;01mor\u001B[39;00m \u001B[38;5;28mself\u001B[39m\u001B[38;5;241m.\u001B[39m_forward_hooks \u001B[38;5;129;01mor\u001B[39;00m \u001B[38;5;28mself\u001B[39m\u001B[38;5;241m.\u001B[39m_forward_pre_hooks\n\u001B[1;32m   1525\u001B[0m         \u001B[38;5;129;01mor\u001B[39;00m _global_backward_pre_hooks \u001B[38;5;129;01mor\u001B[39;00m _global_backward_hooks\n\u001B[1;32m   1526\u001B[0m         \u001B[38;5;129;01mor\u001B[39;00m _global_forward_hooks \u001B[38;5;129;01mor\u001B[39;00m _global_forward_pre_hooks):\n\u001B[0;32m-> 1527\u001B[0m     \u001B[38;5;28;01mreturn\u001B[39;00m \u001B[43mforward_call\u001B[49m\u001B[43m(\u001B[49m\u001B[38;5;241;43m*\u001B[39;49m\u001B[43margs\u001B[49m\u001B[43m,\u001B[49m\u001B[43m \u001B[49m\u001B[38;5;241;43m*\u001B[39;49m\u001B[38;5;241;43m*\u001B[39;49m\u001B[43mkwargs\u001B[49m\u001B[43m)\u001B[49m\n\u001B[1;32m   1529\u001B[0m \u001B[38;5;28;01mtry\u001B[39;00m:\n\u001B[1;32m   1530\u001B[0m     result \u001B[38;5;241m=\u001B[39m \u001B[38;5;28;01mNone\u001B[39;00m\n",
      "File \u001B[0;32m~/anaconda3/lib/python3.11/site-packages/torchmetrics/metric.py:304\u001B[0m, in \u001B[0;36mMetric.forward\u001B[0;34m(self, *args, **kwargs)\u001B[0m\n\u001B[1;32m    302\u001B[0m     \u001B[38;5;28mself\u001B[39m\u001B[38;5;241m.\u001B[39m_forward_cache \u001B[38;5;241m=\u001B[39m \u001B[38;5;28mself\u001B[39m\u001B[38;5;241m.\u001B[39m_forward_full_state_update(\u001B[38;5;241m*\u001B[39margs, \u001B[38;5;241m*\u001B[39m\u001B[38;5;241m*\u001B[39mkwargs)\n\u001B[1;32m    303\u001B[0m \u001B[38;5;28;01melse\u001B[39;00m:\n\u001B[0;32m--> 304\u001B[0m     \u001B[38;5;28mself\u001B[39m\u001B[38;5;241m.\u001B[39m_forward_cache \u001B[38;5;241m=\u001B[39m \u001B[38;5;28;43mself\u001B[39;49m\u001B[38;5;241;43m.\u001B[39;49m\u001B[43m_forward_reduce_state_update\u001B[49m\u001B[43m(\u001B[49m\u001B[38;5;241;43m*\u001B[39;49m\u001B[43margs\u001B[49m\u001B[43m,\u001B[49m\u001B[43m \u001B[49m\u001B[38;5;241;43m*\u001B[39;49m\u001B[38;5;241;43m*\u001B[39;49m\u001B[43mkwargs\u001B[49m\u001B[43m)\u001B[49m\n\u001B[1;32m    306\u001B[0m \u001B[38;5;28;01mreturn\u001B[39;00m \u001B[38;5;28mself\u001B[39m\u001B[38;5;241m.\u001B[39m_forward_cache\n",
      "File \u001B[0;32m~/anaconda3/lib/python3.11/site-packages/torchmetrics/metric.py:373\u001B[0m, in \u001B[0;36mMetric._forward_reduce_state_update\u001B[0;34m(self, *args, **kwargs)\u001B[0m\n\u001B[1;32m    370\u001B[0m \u001B[38;5;28mself\u001B[39m\u001B[38;5;241m.\u001B[39m_enable_grad \u001B[38;5;241m=\u001B[39m \u001B[38;5;28;01mTrue\u001B[39;00m  \u001B[38;5;66;03m# allow grads for batch computation\u001B[39;00m\n\u001B[1;32m    372\u001B[0m \u001B[38;5;66;03m# calculate batch state and compute batch value\u001B[39;00m\n\u001B[0;32m--> 373\u001B[0m \u001B[38;5;28;43mself\u001B[39;49m\u001B[38;5;241;43m.\u001B[39;49m\u001B[43mupdate\u001B[49m\u001B[43m(\u001B[49m\u001B[38;5;241;43m*\u001B[39;49m\u001B[43margs\u001B[49m\u001B[43m,\u001B[49m\u001B[43m \u001B[49m\u001B[38;5;241;43m*\u001B[39;49m\u001B[38;5;241;43m*\u001B[39;49m\u001B[43mkwargs\u001B[49m\u001B[43m)\u001B[49m\n\u001B[1;32m    374\u001B[0m batch_val \u001B[38;5;241m=\u001B[39m \u001B[38;5;28mself\u001B[39m\u001B[38;5;241m.\u001B[39mcompute()\n\u001B[1;32m    376\u001B[0m \u001B[38;5;66;03m# reduce batch and global state\u001B[39;00m\n",
      "File \u001B[0;32m~/anaconda3/lib/python3.11/site-packages/torchmetrics/metric.py:466\u001B[0m, in \u001B[0;36mMetric._wrap_update.<locals>.wrapped_func\u001B[0;34m(*args, **kwargs)\u001B[0m\n\u001B[1;32m    464\u001B[0m \u001B[38;5;28;01mwith\u001B[39;00m torch\u001B[38;5;241m.\u001B[39mset_grad_enabled(\u001B[38;5;28mself\u001B[39m\u001B[38;5;241m.\u001B[39m_enable_grad):\n\u001B[1;32m    465\u001B[0m     \u001B[38;5;28;01mtry\u001B[39;00m:\n\u001B[0;32m--> 466\u001B[0m         \u001B[43mupdate\u001B[49m\u001B[43m(\u001B[49m\u001B[38;5;241;43m*\u001B[39;49m\u001B[43margs\u001B[49m\u001B[43m,\u001B[49m\u001B[43m \u001B[49m\u001B[38;5;241;43m*\u001B[39;49m\u001B[38;5;241;43m*\u001B[39;49m\u001B[43mkwargs\u001B[49m\u001B[43m)\u001B[49m\n\u001B[1;32m    467\u001B[0m     \u001B[38;5;28;01mexcept\u001B[39;00m \u001B[38;5;167;01mRuntimeError\u001B[39;00m \u001B[38;5;28;01mas\u001B[39;00m err:\n\u001B[1;32m    468\u001B[0m         \u001B[38;5;28;01mif\u001B[39;00m \u001B[38;5;124m\"\u001B[39m\u001B[38;5;124mExpected all tensors to be on\u001B[39m\u001B[38;5;124m\"\u001B[39m \u001B[38;5;129;01min\u001B[39;00m \u001B[38;5;28mstr\u001B[39m(err):\n",
      "File \u001B[0;32m~/anaconda3/lib/python3.11/site-packages/torchmetrics/classification/stat_scores.py:333\u001B[0m, in \u001B[0;36mMulticlassStatScores.update\u001B[0;34m(self, preds, target)\u001B[0m\n\u001B[1;32m    331\u001B[0m \u001B[38;5;250m\u001B[39m\u001B[38;5;124;03m\"\"\"Update state with predictions and targets.\"\"\"\u001B[39;00m\n\u001B[1;32m    332\u001B[0m \u001B[38;5;28;01mif\u001B[39;00m \u001B[38;5;28mself\u001B[39m\u001B[38;5;241m.\u001B[39mvalidate_args:\n\u001B[0;32m--> 333\u001B[0m     \u001B[43m_multiclass_stat_scores_tensor_validation\u001B[49m\u001B[43m(\u001B[49m\n\u001B[1;32m    334\u001B[0m \u001B[43m        \u001B[49m\u001B[43mpreds\u001B[49m\u001B[43m,\u001B[49m\u001B[43m \u001B[49m\u001B[43mtarget\u001B[49m\u001B[43m,\u001B[49m\u001B[43m \u001B[49m\u001B[38;5;28;43mself\u001B[39;49m\u001B[38;5;241;43m.\u001B[39;49m\u001B[43mnum_classes\u001B[49m\u001B[43m,\u001B[49m\u001B[43m \u001B[49m\u001B[38;5;28;43mself\u001B[39;49m\u001B[38;5;241;43m.\u001B[39;49m\u001B[43mmultidim_average\u001B[49m\u001B[43m,\u001B[49m\u001B[43m \u001B[49m\u001B[38;5;28;43mself\u001B[39;49m\u001B[38;5;241;43m.\u001B[39;49m\u001B[43mignore_index\u001B[49m\n\u001B[1;32m    335\u001B[0m \u001B[43m    \u001B[49m\u001B[43m)\u001B[49m\n\u001B[1;32m    336\u001B[0m preds, target \u001B[38;5;241m=\u001B[39m _multiclass_stat_scores_format(preds, target, \u001B[38;5;28mself\u001B[39m\u001B[38;5;241m.\u001B[39mtop_k)\n\u001B[1;32m    337\u001B[0m tp, fp, tn, fn \u001B[38;5;241m=\u001B[39m _multiclass_stat_scores_update(\n\u001B[1;32m    338\u001B[0m     preds, target, \u001B[38;5;28mself\u001B[39m\u001B[38;5;241m.\u001B[39mnum_classes, \u001B[38;5;28mself\u001B[39m\u001B[38;5;241m.\u001B[39mtop_k, \u001B[38;5;28mself\u001B[39m\u001B[38;5;241m.\u001B[39maverage, \u001B[38;5;28mself\u001B[39m\u001B[38;5;241m.\u001B[39mmultidim_average, \u001B[38;5;28mself\u001B[39m\u001B[38;5;241m.\u001B[39mignore_index\n\u001B[1;32m    339\u001B[0m )\n",
      "File \u001B[0;32m~/anaconda3/lib/python3.11/site-packages/torchmetrics/functional/classification/stat_scores.py:309\u001B[0m, in \u001B[0;36m_multiclass_stat_scores_tensor_validation\u001B[0;34m(preds, target, num_classes, multidim_average, ignore_index)\u001B[0m\n\u001B[1;32m    307\u001B[0m check_value \u001B[38;5;241m=\u001B[39m num_classes \u001B[38;5;28;01mif\u001B[39;00m ignore_index \u001B[38;5;129;01mis\u001B[39;00m \u001B[38;5;28;01mNone\u001B[39;00m \u001B[38;5;28;01melse\u001B[39;00m num_classes \u001B[38;5;241m+\u001B[39m \u001B[38;5;241m1\u001B[39m\n\u001B[1;32m    308\u001B[0m \u001B[38;5;28;01mfor\u001B[39;00m t, name \u001B[38;5;129;01min\u001B[39;00m ((target, \u001B[38;5;124m\"\u001B[39m\u001B[38;5;124mtarget\u001B[39m\u001B[38;5;124m\"\u001B[39m),) \u001B[38;5;241m+\u001B[39m ((preds, \u001B[38;5;124m\"\u001B[39m\u001B[38;5;124mpreds\u001B[39m\u001B[38;5;124m\"\u001B[39m),) \u001B[38;5;28;01mif\u001B[39;00m \u001B[38;5;129;01mnot\u001B[39;00m preds\u001B[38;5;241m.\u001B[39mis_floating_point() \u001B[38;5;28;01melse\u001B[39;00m ():  \u001B[38;5;66;03m# noqa: RUF005\u001B[39;00m\n\u001B[0;32m--> 309\u001B[0m     num_unique_values \u001B[38;5;241m=\u001B[39m \u001B[38;5;28mlen\u001B[39m(\u001B[43mtorch\u001B[49m\u001B[38;5;241;43m.\u001B[39;49m\u001B[43munique\u001B[49m\u001B[43m(\u001B[49m\u001B[43mt\u001B[49m\u001B[43m)\u001B[49m)\n\u001B[1;32m    310\u001B[0m     \u001B[38;5;28;01mif\u001B[39;00m num_unique_values \u001B[38;5;241m>\u001B[39m check_value:\n\u001B[1;32m    311\u001B[0m         \u001B[38;5;28;01mraise\u001B[39;00m \u001B[38;5;167;01mRuntimeError\u001B[39;00m(\n\u001B[1;32m    312\u001B[0m             \u001B[38;5;124mf\u001B[39m\u001B[38;5;124m\"\u001B[39m\u001B[38;5;124mDetected more unique values in `\u001B[39m\u001B[38;5;132;01m{\u001B[39;00mname\u001B[38;5;132;01m}\u001B[39;00m\u001B[38;5;124m` than expected. Expected only \u001B[39m\u001B[38;5;132;01m{\u001B[39;00mcheck_value\u001B[38;5;132;01m}\u001B[39;00m\u001B[38;5;124m but found\u001B[39m\u001B[38;5;124m\"\u001B[39m\n\u001B[1;32m    313\u001B[0m             \u001B[38;5;124mf\u001B[39m\u001B[38;5;124m\"\u001B[39m\u001B[38;5;124m \u001B[39m\u001B[38;5;132;01m{\u001B[39;00mnum_unique_values\u001B[38;5;132;01m}\u001B[39;00m\u001B[38;5;124m in `target`.\u001B[39m\u001B[38;5;124m\"\u001B[39m\n\u001B[1;32m    314\u001B[0m         )\n",
      "File \u001B[0;32m~/anaconda3/lib/python3.11/site-packages/torch/_jit_internal.py:488\u001B[0m, in \u001B[0;36mboolean_dispatch.<locals>.fn\u001B[0;34m(*args, **kwargs)\u001B[0m\n\u001B[1;32m    486\u001B[0m     \u001B[38;5;28;01mreturn\u001B[39;00m if_true(\u001B[38;5;241m*\u001B[39margs, \u001B[38;5;241m*\u001B[39m\u001B[38;5;241m*\u001B[39mkwargs)\n\u001B[1;32m    487\u001B[0m \u001B[38;5;28;01melse\u001B[39;00m:\n\u001B[0;32m--> 488\u001B[0m     \u001B[38;5;28;01mreturn\u001B[39;00m \u001B[43mif_false\u001B[49m\u001B[43m(\u001B[49m\u001B[38;5;241;43m*\u001B[39;49m\u001B[43margs\u001B[49m\u001B[43m,\u001B[49m\u001B[43m \u001B[49m\u001B[38;5;241;43m*\u001B[39;49m\u001B[38;5;241;43m*\u001B[39;49m\u001B[43mkwargs\u001B[49m\u001B[43m)\u001B[49m\n",
      "File \u001B[0;32m~/anaconda3/lib/python3.11/site-packages/torch/_jit_internal.py:488\u001B[0m, in \u001B[0;36mboolean_dispatch.<locals>.fn\u001B[0;34m(*args, **kwargs)\u001B[0m\n\u001B[1;32m    486\u001B[0m     \u001B[38;5;28;01mreturn\u001B[39;00m if_true(\u001B[38;5;241m*\u001B[39margs, \u001B[38;5;241m*\u001B[39m\u001B[38;5;241m*\u001B[39mkwargs)\n\u001B[1;32m    487\u001B[0m \u001B[38;5;28;01melse\u001B[39;00m:\n\u001B[0;32m--> 488\u001B[0m     \u001B[38;5;28;01mreturn\u001B[39;00m \u001B[43mif_false\u001B[49m\u001B[43m(\u001B[49m\u001B[38;5;241;43m*\u001B[39;49m\u001B[43margs\u001B[49m\u001B[43m,\u001B[49m\u001B[43m \u001B[49m\u001B[38;5;241;43m*\u001B[39;49m\u001B[38;5;241;43m*\u001B[39;49m\u001B[43mkwargs\u001B[49m\u001B[43m)\u001B[49m\n",
      "File \u001B[0;32m~/anaconda3/lib/python3.11/site-packages/torch/functional.py:976\u001B[0m, in \u001B[0;36m_return_output\u001B[0;34m(input, sorted, return_inverse, return_counts, dim)\u001B[0m\n\u001B[1;32m    973\u001B[0m \u001B[38;5;28;01mif\u001B[39;00m has_torch_function_unary(\u001B[38;5;28minput\u001B[39m):\n\u001B[1;32m    974\u001B[0m     \u001B[38;5;28;01mreturn\u001B[39;00m _unique_impl(\u001B[38;5;28minput\u001B[39m, \u001B[38;5;28msorted\u001B[39m, return_inverse, return_counts, dim)\n\u001B[0;32m--> 976\u001B[0m output, _, _ \u001B[38;5;241m=\u001B[39m \u001B[43m_unique_impl\u001B[49m\u001B[43m(\u001B[49m\u001B[38;5;28;43minput\u001B[39;49m\u001B[43m,\u001B[49m\u001B[43m \u001B[49m\u001B[38;5;28;43msorted\u001B[39;49m\u001B[43m,\u001B[49m\u001B[43m \u001B[49m\u001B[43mreturn_inverse\u001B[49m\u001B[43m,\u001B[49m\u001B[43m \u001B[49m\u001B[43mreturn_counts\u001B[49m\u001B[43m,\u001B[49m\u001B[43m \u001B[49m\u001B[43mdim\u001B[49m\u001B[43m)\u001B[49m\n\u001B[1;32m    977\u001B[0m \u001B[38;5;28;01mreturn\u001B[39;00m output\n",
      "File \u001B[0;32m~/anaconda3/lib/python3.11/site-packages/torch/functional.py:890\u001B[0m, in \u001B[0;36m_unique_impl\u001B[0;34m(input, sorted, return_inverse, return_counts, dim)\u001B[0m\n\u001B[1;32m    882\u001B[0m     output, inverse_indices, counts \u001B[38;5;241m=\u001B[39m _VF\u001B[38;5;241m.\u001B[39munique_dim(\n\u001B[1;32m    883\u001B[0m         \u001B[38;5;28minput\u001B[39m,\n\u001B[1;32m    884\u001B[0m         dim,\n\u001B[0;32m   (...)\u001B[0m\n\u001B[1;32m    887\u001B[0m         return_counts\u001B[38;5;241m=\u001B[39mreturn_counts,\n\u001B[1;32m    888\u001B[0m     )\n\u001B[1;32m    889\u001B[0m \u001B[38;5;28;01melse\u001B[39;00m:\n\u001B[0;32m--> 890\u001B[0m     output, inverse_indices, counts \u001B[38;5;241m=\u001B[39m \u001B[43mtorch\u001B[49m\u001B[38;5;241;43m.\u001B[39;49m\u001B[43m_unique2\u001B[49m\u001B[43m(\u001B[49m\n\u001B[1;32m    891\u001B[0m \u001B[43m        \u001B[49m\u001B[38;5;28;43minput\u001B[39;49m\u001B[43m,\u001B[49m\n\u001B[1;32m    892\u001B[0m \u001B[43m        \u001B[49m\u001B[38;5;28;43msorted\u001B[39;49m\u001B[38;5;241;43m=\u001B[39;49m\u001B[38;5;28;43msorted\u001B[39;49m\u001B[43m,\u001B[49m\n\u001B[1;32m    893\u001B[0m \u001B[43m        \u001B[49m\u001B[43mreturn_inverse\u001B[49m\u001B[38;5;241;43m=\u001B[39;49m\u001B[43mreturn_inverse\u001B[49m\u001B[43m,\u001B[49m\n\u001B[1;32m    894\u001B[0m \u001B[43m        \u001B[49m\u001B[43mreturn_counts\u001B[49m\u001B[38;5;241;43m=\u001B[39;49m\u001B[43mreturn_counts\u001B[49m\u001B[43m,\u001B[49m\n\u001B[1;32m    895\u001B[0m \u001B[43m    \u001B[49m\u001B[43m)\u001B[49m\n\u001B[1;32m    896\u001B[0m \u001B[38;5;28;01mreturn\u001B[39;00m output, inverse_indices, counts\n",
      "\u001B[0;31mKeyboardInterrupt\u001B[0m: "
     ]
    }
   ],
   "source": [
    "acc_func = Accuracy(task=\"multiclass\", num_classes=50).to(device)\n",
    "\n",
    "\n",
    "from tqdm.auto import tqdm \n",
    "\n",
    "model = model.to(device)\n",
    "# Create a loss function and optimizer\n",
    "loss_fn = nn.CrossEntropyLoss()\n",
    "optimizer = torch.optim.SGD(model.parameters(), lr=0.0001)\n",
    "train_acc = []\n",
    "test_acc = []\n",
    "### Training loop\n",
    "epochs = 100\n",
    "for epoch in tqdm(range(epochs)):\n",
    "  train_loss = 0\n",
    "  for batch, (X, y) in enumerate(tqdm(train_dataloader)):\n",
    "    model.train()\n",
    "    # Put data on CPU\n",
    "    X = X.to(device)\n",
    "    y = y.to(device)\n",
    "    # Forward pass\n",
    "    if torch.isnan(X).any() or torch.isinf(X).any():\n",
    "        print(\"Data contains NaN or Inf values.\")\n",
    "\n",
    "    logits = model(X)\n",
    "    y_pred = torch.softmax(logits,dim=1)#;print(y_pred.shape)\n",
    "    y_hat = torch.argmax(y_pred,dim=1) #;print(y_hat.shape);print(y_hat)\n",
    "    \n",
    "    # Loss calculation\n",
    "    loss = loss_fn(logits, y)\n",
    "    \n",
    "    \n",
    "    train_acc.append(acc_func(y,y_hat)) #this slows down the runtime\n",
    "    train_loss += loss\n",
    "    # Optimizer zero grad\n",
    "    optimizer.zero_grad()\n",
    "    # Loss backward\n",
    "    loss.backward()\n",
    "    # Step the optimizer\n",
    "    optimizer.step()\n",
    "  # Adjust train loss for number of batches\n",
    "    train_loss /= len(train_dataloader)\n",
    "    #print(f\"Epoch: {epoch} | Loss: {train_loss:.3f} | Acc: {train_acc}\") \n",
    "  ### Testing loop\n",
    "    test_loss_total = 0\n",
    "\n",
    "  # Put model in eval mode \n",
    "  model.eval()\n",
    "\n",
    "  # Turn on inference mode\n",
    "  with torch.inference_mode():\n",
    "    for batch, (X_test, y_test) in enumerate(test_dataloader):\n",
    "      # Make sure test data on CPU\n",
    "      X_test, y_test = X_test.to(device), y_test.to(device)\n",
    "      test_pred = model(X_test)\n",
    "\n",
    "      logits = model(X_test)\n",
    "      test_loss = loss_fn(logits, y_test)\n",
    "      y_pred = torch.softmax(logits,dim=1)#;print(y_pred.shape)\n",
    "      y_hat = torch.argmax(y_pred,dim=1)\n",
    "      test_acc.append(acc_func(y,y_hat)) #this slows down the runtime\n",
    "\n",
    "      \n",
    "      test_loss_total += test_loss\n",
    "     \n",
    "    test_loss_total /= len(test_dataloader)\n",
    "\n",
    "  # Print out what's happening\n",
    "  print(f\"Epoch: {epoch} | Loss: {train_loss:.3f} | Test loss: {test_loss_total:.3f} | Train Acc: {train_acc[epoch]} | Test Acc: {test_acc[epoch]}\")\n"
   ],
   "metadata": {
    "collapsed": false,
    "ExecuteTime": {
     "end_time": "2024-06-15T19:47:10.928951Z",
     "start_time": "2024-06-15T19:37:20.216274Z"
    }
   },
   "id": "6e03ff4858895a60"
  },
  {
   "cell_type": "code",
   "execution_count": null,
   "outputs": [],
   "source": [],
   "metadata": {
    "collapsed": false,
    "ExecuteTime": {
     "start_time": "2024-06-15T19:47:10.928646Z"
    }
   },
   "id": "768f2c8af611ad81"
  },
  {
   "cell_type": "code",
   "execution_count": null,
   "outputs": [],
   "source": [],
   "metadata": {
    "collapsed": false,
    "ExecuteTime": {
     "start_time": "2024-06-15T19:08:07.911435Z"
    }
   },
   "id": "cca600b7195bad57"
  },
  {
   "cell_type": "code",
   "execution_count": null,
   "outputs": [],
   "source": [],
   "metadata": {
    "collapsed": false,
    "ExecuteTime": {
     "end_time": "2024-06-16T10:06:48.976471Z",
     "start_time": "2024-06-16T10:06:48.969054Z"
    }
   },
   "id": "a7e9d44c10649ec4"
  },
  {
   "cell_type": "code",
   "execution_count": 1,
   "outputs": [
    {
     "ename": "ModuleNotFoundError",
     "evalue": "No module named 'tensorboard'",
     "output_type": "error",
     "traceback": [
      "\u001B[0;31m---------------------------------------------------------------------------\u001B[0m",
      "\u001B[0;31mModuleNotFoundError\u001B[0m                       Traceback (most recent call last)",
      "Cell \u001B[0;32mIn[1], line 1\u001B[0m\n\u001B[0;32m----> 1\u001B[0m \u001B[38;5;28;01mfrom\u001B[39;00m \u001B[38;5;21;01mtorch\u001B[39;00m\u001B[38;5;21;01m.\u001B[39;00m\u001B[38;5;21;01mutils\u001B[39;00m\u001B[38;5;21;01m.\u001B[39;00m\u001B[38;5;21;01mtensorboard\u001B[39;00m \u001B[38;5;28;01mimport\u001B[39;00m SummaryWriter\n\u001B[1;32m      3\u001B[0m \u001B[38;5;66;03m# default `log_dir` is \"runs\" - we'll be more specific here\u001B[39;00m\n\u001B[1;32m      4\u001B[0m writer \u001B[38;5;241m=\u001B[39m SummaryWriter(\u001B[38;5;124m'\u001B[39m\u001B[38;5;124mruns/model1_test_trash\u001B[39m\u001B[38;5;124m'\u001B[39m)\n",
      "File \u001B[0;32m~/anaconda3/lib/python3.11/site-packages/torch/utils/tensorboard/__init__.py:1\u001B[0m\n\u001B[0;32m----> 1\u001B[0m \u001B[38;5;28;01mimport\u001B[39;00m \u001B[38;5;21;01mtensorboard\u001B[39;00m\n\u001B[1;32m      2\u001B[0m \u001B[38;5;28;01mfrom\u001B[39;00m \u001B[38;5;21;01mpackaging\u001B[39;00m\u001B[38;5;21;01m.\u001B[39;00m\u001B[38;5;21;01mversion\u001B[39;00m \u001B[38;5;28;01mimport\u001B[39;00m Version\n\u001B[1;32m      4\u001B[0m \u001B[38;5;28;01mif\u001B[39;00m \u001B[38;5;129;01mnot\u001B[39;00m \u001B[38;5;28mhasattr\u001B[39m(tensorboard, \u001B[38;5;124m\"\u001B[39m\u001B[38;5;124m__version__\u001B[39m\u001B[38;5;124m\"\u001B[39m) \u001B[38;5;129;01mor\u001B[39;00m Version(\n\u001B[1;32m      5\u001B[0m     tensorboard\u001B[38;5;241m.\u001B[39m__version__\n\u001B[1;32m      6\u001B[0m ) \u001B[38;5;241m<\u001B[39m Version(\u001B[38;5;124m\"\u001B[39m\u001B[38;5;124m1.15\u001B[39m\u001B[38;5;124m\"\u001B[39m):\n",
      "\u001B[0;31mModuleNotFoundError\u001B[0m: No module named 'tensorboard'"
     ]
    }
   ],
   "source": [
    "from torch.utils.tensorboard import SummaryWriter\n",
    "\n",
    "# default `log_dir` is \"runs\" - we'll be more specific here\n",
    "writer = SummaryWriter('runs/model1_test_trash')"
   ],
   "metadata": {
    "collapsed": false,
    "ExecuteTime": {
     "end_time": "2024-06-16T10:07:01.581934Z",
     "start_time": "2024-06-16T10:07:00.175497Z"
    }
   },
   "id": "24424be8f3c6f260"
  },
  {
   "cell_type": "code",
   "execution_count": 2,
   "outputs": [
    {
     "ename": "ModuleNotFoundError",
     "evalue": "No module named 'tensorboard'",
     "output_type": "error",
     "traceback": [
      "\u001B[0;31m---------------------------------------------------------------------------\u001B[0m",
      "\u001B[0;31mModuleNotFoundError\u001B[0m                       Traceback (most recent call last)",
      "Cell \u001B[0;32mIn[2], line 1\u001B[0m\n\u001B[0;32m----> 1\u001B[0m \u001B[38;5;28;01mimport\u001B[39;00m \u001B[38;5;21;01mtorch\u001B[39;00m\u001B[38;5;21;01m.\u001B[39;00m\u001B[38;5;21;01mutils\u001B[39;00m\u001B[38;5;21;01m.\u001B[39;00m\u001B[38;5;21;01mtensorboard\u001B[39;00m\n",
      "File \u001B[0;32m~/anaconda3/lib/python3.11/site-packages/torch/utils/tensorboard/__init__.py:1\u001B[0m\n\u001B[0;32m----> 1\u001B[0m \u001B[38;5;28;01mimport\u001B[39;00m \u001B[38;5;21;01mtensorboard\u001B[39;00m\n\u001B[1;32m      2\u001B[0m \u001B[38;5;28;01mfrom\u001B[39;00m \u001B[38;5;21;01mpackaging\u001B[39;00m\u001B[38;5;21;01m.\u001B[39;00m\u001B[38;5;21;01mversion\u001B[39;00m \u001B[38;5;28;01mimport\u001B[39;00m Version\n\u001B[1;32m      4\u001B[0m \u001B[38;5;28;01mif\u001B[39;00m \u001B[38;5;129;01mnot\u001B[39;00m \u001B[38;5;28mhasattr\u001B[39m(tensorboard, \u001B[38;5;124m\"\u001B[39m\u001B[38;5;124m__version__\u001B[39m\u001B[38;5;124m\"\u001B[39m) \u001B[38;5;129;01mor\u001B[39;00m Version(\n\u001B[1;32m      5\u001B[0m     tensorboard\u001B[38;5;241m.\u001B[39m__version__\n\u001B[1;32m      6\u001B[0m ) \u001B[38;5;241m<\u001B[39m Version(\u001B[38;5;124m\"\u001B[39m\u001B[38;5;124m1.15\u001B[39m\u001B[38;5;124m\"\u001B[39m):\n",
      "\u001B[0;31mModuleNotFoundError\u001B[0m: No module named 'tensorboard'"
     ]
    }
   ],
   "source": [
    "import torch.utils.tensorboard"
   ],
   "metadata": {
    "collapsed": false,
    "ExecuteTime": {
     "end_time": "2024-06-16T10:12:05.708792Z",
     "start_time": "2024-06-16T10:12:05.670586Z"
    }
   },
   "id": "cc9b68e40e95d5e9"
  },
  {
   "cell_type": "code",
   "execution_count": null,
   "outputs": [],
   "source": [],
   "metadata": {
    "collapsed": false
   },
   "id": "24b47ab974fa72e4"
  }
 ],
 "metadata": {
  "kernelspec": {
   "display_name": "Python 3",
   "language": "python",
   "name": "python3"
  },
  "language_info": {
   "codemirror_mode": {
    "name": "ipython",
    "version": 2
   },
   "file_extension": ".py",
   "mimetype": "text/x-python",
   "name": "python",
   "nbconvert_exporter": "python",
   "pygments_lexer": "ipython2",
   "version": "2.7.6"
  }
 },
 "nbformat": 4,
 "nbformat_minor": 5
}
