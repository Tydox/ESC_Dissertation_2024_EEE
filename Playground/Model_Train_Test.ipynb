{
 "cells": [
  {
   "cell_type": "code",
   "execution_count": 92,
   "id": "initial_id",
   "metadata": {
    "collapsed": true,
    "ExecuteTime": {
     "end_time": "2024-06-16T12:42:23.007199Z",
     "start_time": "2024-06-16T12:42:23.002545Z"
    }
   },
   "outputs": [],
   "source": [
    "# note: text\n",
    "# fixed: text\n",
    "# fix me: text\n",
    "# error: text\n",
    "# summary: text"
   ]
  },
  {
   "cell_type": "code",
   "execution_count": 93,
   "outputs": [],
   "source": [
    "#Loader function for Pytorch Dataset Folder thingy\n",
    "def load_data(path: str):\n",
    "    #print(f\"Loading file: {path}\")\n",
    "    tensor = torch.load(path)\n",
    "    #tensor = tensor.float()\n",
    "    #print(f\"Loaded tensor type: {type(tensor)} {tensor.type()}\")\n",
    "    return tensor\n",
    "\n",
    "\n",
    "#ERROR DOESNT FULLY WORK WITH DATASET - IDK WHY - I GAVE UP FOR NOW\n",
    "#FIXME THIS DOES WORK AS A REGULAR REMAP AND I USE THIS FOR PRINTING DATA\n",
    "#NOTE TO SELF: DO NOT DELETE THIS FUNCTION\n",
    "# Define a custom transform to convert labels from float to int\n",
    "def label_remap(label):\n",
    "    label_mapping = {\n",
    "            0: 47,\n",
    "            1: 23,\n",
    "            2: 27,\n",
    "            3: 34,\n",
    "            4: 43,\n",
    "            5: 5,\n",
    "            6: 41,\n",
    "            7: 14,\n",
    "            8: 46,\n",
    "            9: 22,\n",
    "            10: 37,\n",
    "            11: 38,\n",
    "            12: 24,\n",
    "            13: 3,\n",
    "            14: 12,\n",
    "            15: 13,\n",
    "            16: 9,\n",
    "            17: 20,\n",
    "            18: 0,\n",
    "            19: 33,\n",
    "            20: 30,\n",
    "            21: 29,\n",
    "            22: 44,\n",
    "            23: 48,\n",
    "            24: 25,\n",
    "            25: 4,\n",
    "            26: 39,\n",
    "            27: 49,\n",
    "            28: 40,\n",
    "            29: 6,\n",
    "            30: 7,\n",
    "            31: 32,\n",
    "            32: 26,\n",
    "            33: 31,\n",
    "            34: 2,\n",
    "            35: 17,\n",
    "            36: 10,\n",
    "            37: 1,\n",
    "            38: 11,\n",
    "            39: 8,\n",
    "            40: 42,\n",
    "            41: 21,\n",
    "            42: 28,\n",
    "            43: 19,\n",
    "            44: 18,\n",
    "            45: 45,\n",
    "            46: 36,\n",
    "            47: 35,\n",
    "            48: 15,\n",
    "            49: 16\n",
    "    }\n",
    "    return torch.tensor(int(label_mapping[label]))\n",
    "\n",
    "\n",
    "#Summary: Print All Samples in Dataloader\n",
    "#Summary: Data Label OG = this is the published index labling, dog = 4\n",
    "#Summary; because pytorch sorts the data, dog = 18 in Dataloader,\n",
    "#Summary: so if i want to double check that the labels are correct, I have to use label_remap() function to convert the pytorch label number to the original\n",
    "#Summary: this doesnt really matter, all the code below was to just do a double check that everything is correct\n",
    "\n",
    "def print_data_loader(_dataloader, _stop,class_names):\n",
    "    _idx = f\"{'#':<{4}} | \"\n",
    "    _dshape = f\"{'Data Shape:[c,  t,   w]':<{24}} | \"\n",
    "    _lshape = f\"{'Label Shape':<{15}} | \"\n",
    "    _ddtype = f\"{'Data DataType':<{13}} | \"\n",
    "    _dlabel1 = f\"{'Data Label OG':<{13}} | \"\n",
    "    _dlabel2 = f\"{'Data Label Py':<{13}} | \"\n",
    "    _dlabel3 = f\"{'Data Label ':<{20}} | \"\n",
    "    _ldtype = f\"{'Label Type':<{22}} | \"\n",
    "    _dpath = f\"{'Data Path + Label PyTorch Value':<{60}} | \"\n",
    "\n",
    "    print(f\"{_idx}{_dshape}{_lshape}{_ddtype}{_dlabel1}{_dlabel2}{_dlabel3}{_dpath}{_ldtype}\")\n",
    "\n",
    "    #Note: CREATE AN ITERATOR FOR DATALOADER\n",
    "    _data_iter = iter(_dataloader)\n",
    "    #next(_data_iter)\n",
    "    counter = 1  #counter when to stop for loop\n",
    "    #NOTE: GO OVER ALL SAMPLES IN ITERATOR\n",
    "    for (_data, _label) in _data_iter:\n",
    "        #_data_iter = iter(test_dataloader)\n",
    "        _rnd_idx = _data_iter._sampler_iter.gi_frame.f_locals['idx']\n",
    "        _sample_idx = _data_iter._dataset.indices[_rnd_idx]\n",
    "        #numm = _data_iter._index_sampler.sampler.data_source.indices[num] #incorrect location\n",
    "        _path = test_dataset.dataset.samples[_sample_idx]\n",
    "\n",
    "        #NOTE: This is for debug to check that it is the same samples values\n",
    "        #_amy_data = my_data_set[NUM2][0]\n",
    "        #_amy_dataog =  _data[0]\n",
    "        #diff =sum(sum(_amy_data - _amy_dataog)) \n",
    "        #print(diff)\n",
    "        #print(_path)\n",
    "        _idx = f\"{counter:<{4}} | \"\n",
    "        _dshape = f\"{str(_data.shape):<{24}} | \"  # = [batch_size, color_channels, height, width]\"\n",
    "        _lshape = f\"{str(_label.shape):<{15}} | \"\n",
    "        _ddtype = f\"{str(_data.dtype):<{13}} | \"\n",
    "        _dlabel1 = f\"{str(label_remap(int(_label[0]))):<{13}} | \"\n",
    "        _dlabel2 = f\"{str(_label):<{13}} | \"\n",
    "        _dlabel3 = f\"{str(class_names[_label]):<{20}} | \"\n",
    "        _ldtype = f\"{str(type(_label)):<{22}} | \"\n",
    "        _dpath = f\"{str(_path).split('/', 6)[6]:<{60}} | \"\n",
    "\n",
    "        print(f\"{_idx}{_dshape}{_lshape}{_ddtype}{_dlabel1}{_dlabel2}{_dlabel3}{_dpath}{_ldtype}\")\n",
    "\n",
    "        if counter == _stop:\n",
    "            break\n",
    "        else:\n",
    "            counter = counter + 1\n",
    "\n"
   ],
   "metadata": {
    "collapsed": false,
    "ExecuteTime": {
     "end_time": "2024-06-16T12:42:23.766959Z",
     "start_time": "2024-06-16T12:42:23.731114Z"
    }
   },
   "id": "55baaa3bcda72ffd"
  },
  {
   "cell_type": "markdown",
   "source": [
    "# ALL CODE ABOVE IS FUNCTIONS FROM MFCC_DATA_IMPORT"
   ],
   "metadata": {
    "collapsed": false
   },
   "id": "edb21a47bc95f30a"
  },
  {
   "cell_type": "code",
   "execution_count": 94,
   "outputs": [],
   "source": [
    "import os\n",
    "OutputFolder =\"/Users/daniel/Desktop/Github/ESC_Dissertation_2024_EEE/MFCC/tensors/\"\n",
    "# Step 1: Create a dataset from the new organized folder\n",
    "\n",
    "from torchvision import transforms\n",
    "#data_transform = transforms.Compose([transforms.ToTensor()])\n",
    "# Define a custom transform to add the extra dimension\n",
    "test_transform = transforms.Compose([\n",
    "    transforms.Lambda(lambda x: x.unsqueeze(0))  # Adds an extra dimension, making it [1, C, H, W]\n",
    "])\n",
    "import torch\n",
    "from torchvision import datasets\n",
    "\n",
    "my_data_set = datasets.DatasetFolder(\n",
    "        root = OutputFolder,\n",
    "        loader = load_data,\n",
    "        transform = test_transform,  #our transformation for data\n",
    "        target_transform = None,\n",
    "        extensions = ('.pt',)\n",
    ")\n",
    "#my_data_set.class_to_idx\n",
    "#Step 2\n",
    "# Determine the sizes for training and testing splits\n",
    "# And Split the dataset\n",
    "\n",
    "from torch.utils.data import random_split\n",
    "\n",
    "train_size = int(0.7 * len(my_data_set))\n",
    "test_size = len(my_data_set) - train_size\n",
    "\n",
    "train_dataset, test_dataset = random_split(my_data_set, [train_size, test_size])\n"
   ],
   "metadata": {
    "collapsed": false,
    "ExecuteTime": {
     "end_time": "2024-06-16T12:42:23.767448Z",
     "start_time": "2024-06-16T12:42:23.738195Z"
    }
   },
   "id": "e97881811308182d"
  },
  {
   "cell_type": "code",
   "execution_count": 95,
   "outputs": [],
   "source": [
    "#step 3\n",
    "# Turn train\\test Datasets into train\\test DataLoaders\n",
    "\n",
    "#import os\n",
    "#NUM_OF_WORKERS = os.cpu_count() #this is used on collab when I want to use all max cpu power\n",
    "from torch.utils.data import DataLoader\n",
    "\n",
    "BATCH_SIZE = 20\n",
    "train_dataloader = DataLoader(dataset = train_dataset,\n",
    "                              batch_size = BATCH_SIZE,  # how many samples per batch?\n",
    "                              #num_workers=1,#ERROR THIS DOESNT WORK ON LAPTOP BUT WORKS ON COLLAB # how many CPU subprocesses to use for data loading? (higher = more)\n",
    "                              shuffle = True)  # shuffle the data?\n",
    "\n",
    "test_dataloader = DataLoader(dataset = test_dataset,\n",
    "                             batch_size = BATCH_SIZE,  # how many samples per batch?\n",
    "                             #num_workers=1,#ERROR THIS DOESNT WORK ON LAPTOP BUT WORKS ON COLLAB # how many CPU subprocesses to use for data loading? (higher = more)\n",
    "                             shuffle = True)  # shuffle the data?"
   ],
   "metadata": {
    "collapsed": false,
    "ExecuteTime": {
     "end_time": "2024-06-16T12:42:23.767497Z",
     "start_time": "2024-06-16T12:42:23.745753Z"
    }
   },
   "id": "9f7f586a6ec2bbb6"
  },
  {
   "cell_type": "code",
   "execution_count": 96,
   "outputs": [
    {
     "name": "stdout",
     "output_type": "stream",
     "text": [
      "'Class Label': Label Number \n",
      "{'airplane': 0, 'breathing': 1, 'brushing_teeth': 2, 'can_opening': 3, 'car_horn': 4, 'cat': 5, 'chainsaw': 6, 'chirping_birds': 7, 'church_bells': 8, 'clapping': 9, 'clock_alarm': 10, 'clock_tick': 11, 'coughing': 12, 'cow': 13, 'crackling_fire': 14, 'crickets': 15, 'crow': 16, 'crying_baby': 17, 'dog': 18, 'door_wood_creaks': 19, 'door_wood_knock': 20, 'drinking_sipping': 21, 'engine': 22, 'fireworks': 23, 'footsteps': 24, 'frog': 25, 'glass_breaking': 26, 'hand_saw': 27, 'helicopter': 28, 'hen': 29, 'insects': 30, 'keyboard_typing': 31, 'laughing': 32, 'mouse_click': 33, 'pig': 34, 'pouring_water': 35, 'rain': 36, 'rooster': 37, 'sea_waves': 38, 'sheep': 39, 'siren': 40, 'sneezing': 41, 'snoring': 42, 'thunderstorm': 43, 'toilet_flush': 44, 'train': 45, 'vacuum_cleaner': 46, 'washing_machine': 47, 'water_drops': 48, 'wind': 49}\n"
     ]
    }
   ],
   "source": [
    "class_names = my_data_set.classes\n",
    "class_dict = my_data_set.class_to_idx\n",
    "print(f\"'Class Label': Label Number \\n{class_dict}\")"
   ],
   "metadata": {
    "collapsed": false,
    "ExecuteTime": {
     "end_time": "2024-06-16T12:42:24.502279Z",
     "start_time": "2024-06-16T12:42:24.499478Z"
    }
   },
   "id": "ae10b1acb2c9da55"
  },
  {
   "cell_type": "code",
   "execution_count": 97,
   "outputs": [
    {
     "name": "stdout",
     "output_type": "stream",
     "text": [
      "Train DataLoader Samples:\t80,\t\tTest DataLoader Samples:\t20.\n",
      "Train DataSet Samples:\t\t1600,\t\tTest DataSet Samples:\t\t400.\n"
     ]
    }
   ],
   "source": [
    "print(f\"Train DataLoader Samples:\\t{len(train_dataloader)},\\t\\tTest DataLoader Samples:\\t{len(test_dataloader)}.\")\n",
    "print(f\"Train DataSet Samples:\\t\\t{len(train_dataset)},\\t\\tTest DataSet Samples:\\t\\t{len(test_dataset)}.\")"
   ],
   "metadata": {
    "collapsed": false,
    "ExecuteTime": {
     "end_time": "2024-06-16T12:42:24.504682Z",
     "start_time": "2024-06-16T12:42:24.501989Z"
    }
   },
   "id": "d9d11625dbe18dbb"
  },
  {
   "cell_type": "code",
   "execution_count": 98,
   "outputs": [],
   "source": [
    "#print_data_loader(test_dataloader, 5,class_names ) # DOESNT WORK WHEN BATCH SIZE IS > 1"
   ],
   "metadata": {
    "collapsed": false,
    "ExecuteTime": {
     "end_time": "2024-06-16T12:42:24.512696Z",
     "start_time": "2024-06-16T12:42:24.504616Z"
    }
   },
   "id": "d9209d1f27d7a9ec"
  },
  {
   "cell_type": "code",
   "execution_count": 99,
   "outputs": [],
   "source": [
    "#print_data_loader(train_dataloader, 5,class_names )"
   ],
   "metadata": {
    "collapsed": false,
    "ExecuteTime": {
     "end_time": "2024-06-16T12:42:24.512856Z",
     "start_time": "2024-06-16T12:42:24.506487Z"
    }
   },
   "id": "acc591d6dc60be1a"
  },
  {
   "cell_type": "markdown",
   "source": [
    "# CREATING A MODEL USING PYTORCH SEQUENIAL"
   ],
   "metadata": {
    "collapsed": false
   },
   "id": "3cfce6c3c2d50c01"
  },
  {
   "cell_type": "code",
   "execution_count": 100,
   "outputs": [
    {
     "name": "stdout",
     "output_type": "stream",
     "text": [
      "Using device: mps\n"
     ]
    }
   ],
   "source": [
    "# Import torch\n",
    "import torch\n",
    "\n",
    "# Setup device agnostic code\n",
    "#device agnostic code - automatically set what cpu\\gpu to use for best performance\n",
    "device = \"cuda\" if torch.cuda.is_available() else \"mps\" if torch.backends.mps.is_available() else \"cpu\"\n",
    "print(f\"Using device: {device}\")\n",
    "\n",
    "# Setup random seed\n",
    "#RANDOM_SEED = 42"
   ],
   "metadata": {
    "collapsed": false,
    "ExecuteTime": {
     "end_time": "2024-06-16T12:42:25.220572Z",
     "start_time": "2024-06-16T12:42:25.217972Z"
    }
   },
   "id": "2ad523a37aaaac70"
  },
  {
   "cell_type": "code",
   "execution_count": 101,
   "outputs": [],
   "source": [
    "import torch\n",
    "from torch import nn\n",
    "from torchmetrics import Accuracy"
   ],
   "metadata": {
    "collapsed": false,
    "ExecuteTime": {
     "end_time": "2024-06-16T12:42:25.221819Z",
     "start_time": "2024-06-16T12:42:25.219900Z"
    }
   },
   "id": "e073483ccd58375e"
  },
  {
   "cell_type": "code",
   "execution_count": 151,
   "outputs": [],
   "source": [
    "\n",
    "class PiczakRec(nn.Module):\n",
    "    def __init__(self,inputSize,outputSize,hiddenNeurons,filtersize,poolingsize,padsize,stridesize,flattensize):\n",
    "        super().__init__()\n",
    "\n",
    "        self.nnBlock1 = nn.Sequential(\n",
    "                nn.Conv2d(in_channels=1,out_channels=80,kernel_size=(57,6),padding=0),\n",
    "                nn.ReLU(),\n",
    "                #nn.MaxPool2d(kernel_size=(4,3),stride=(1,3)),\n",
    "        )    \n",
    "        \n",
    "        self.nnBlock2 = nn.Sequential(\n",
    "                nn.Conv2d(in_channels=80,out_channels=80,kernel_size=(1,3),padding=0,stride = 1),\n",
    "                nn.ReLU(),\n",
    "                nn.MaxPool2d(kernel_size=(1,3),stride=(1,3))\n",
    "        )    \n",
    "        self.classifier = nn.Sequential(\n",
    "            nn.Flatten(),\n",
    "            nn.Linear(in_features=70720,out_features=500),\n",
    "            #nn.Linear(in_features=5000,out_features=5000),\n",
    "            nn.Linear(in_features=500,out_features=50)\n",
    "        )\n",
    "        \n",
    "    def forward(self, x):\n",
    "        x = self.nnBlock1(x)\n",
    "        x = self.nnBlock2(x)\n",
    "        x = self.classifier(x)\n",
    "        return x\n",
    "            "
   ],
   "metadata": {
    "collapsed": false,
    "ExecuteTime": {
     "end_time": "2024-06-16T16:07:34.815192Z",
     "start_time": "2024-06-16T16:07:34.793304Z"
    }
   },
   "id": "d1103327ceb4f064"
  },
  {
   "cell_type": "code",
   "execution_count": 152,
   "outputs": [],
   "source": [
    "inputSize=1#how many color channels, in my case 1\n",
    "outputSize=50\n",
    "hiddenNeurons=1\n",
    "filtersize=3\n",
    "poolingsize=2\n",
    "padsize=0\n",
    "stridesize=1\n",
    "flattensize=3528\n",
    "model = PiczakRec(inputSize,outputSize,hiddenNeurons,filtersize,poolingsize,padsize,stridesize,flattensize)"
   ],
   "metadata": {
    "collapsed": false,
    "ExecuteTime": {
     "end_time": "2024-06-16T16:07:35.774690Z",
     "start_time": "2024-06-16T16:07:35.669438Z"
    }
   },
   "id": "4edfb44bcd12e35a"
  },
  {
   "cell_type": "code",
   "execution_count": 104,
   "outputs": [],
   "source": [
    "#model.state_dict()\n",
    "#next(model.modules())"
   ],
   "metadata": {
    "collapsed": false,
    "ExecuteTime": {
     "end_time": "2024-06-16T12:42:27.077429Z",
     "start_time": "2024-06-16T12:42:27.070505Z"
    }
   },
   "id": "6cbfda5aa4826fa8"
  },
  {
   "cell_type": "code",
   "execution_count": 105,
   "outputs": [],
   "source": [
    "model.eval()\n",
    "\n",
    "coeff,y = next(iter(test_dataloader))\n",
    "model_pred_logits = model(coeff).squeeze(dim=0) # make sure image is right shape + on right device\n",
    "model_pred_probs = torch.softmax(model_pred_logits, dim=1)\n",
    "model_pred_label = torch.argmax(model_pred_probs, dim=1)"
   ],
   "metadata": {
    "collapsed": false,
    "ExecuteTime": {
     "end_time": "2024-06-16T12:42:27.327358Z",
     "start_time": "2024-06-16T12:42:27.073938Z"
    }
   },
   "id": "d684de14845daf5e"
  },
  {
   "cell_type": "code",
   "execution_count": 106,
   "outputs": [
    {
     "data": {
      "text/plain": "torch.Size([20, 1, 498, 13])"
     },
     "execution_count": 106,
     "metadata": {},
     "output_type": "execute_result"
    }
   ],
   "source": [
    "coeff.shape"
   ],
   "metadata": {
    "collapsed": false,
    "ExecuteTime": {
     "end_time": "2024-06-16T12:42:27.330395Z",
     "start_time": "2024-06-16T12:42:27.327628Z"
    }
   },
   "id": "722b6f04c9807c15"
  },
  {
   "cell_type": "markdown",
   "source": [
    "# THIS TO TO CALCULATE SIZES - OUTPUT OF LAYERS"
   ],
   "metadata": {
    "collapsed": false
   },
   "id": "b578d49407909372"
  },
  {
   "cell_type": "code",
   "execution_count": 107,
   "outputs": [
    {
     "name": "stdout",
     "output_type": "stream",
     "text": [
      "N\tC\tH\tW\t\n",
      "1\t80\t442\t8\t\n"
     ]
    }
   ],
   "source": [
    "from torchshape import tensorshape\n",
    "\n",
    "op = nn.Conv2d(in_channels=1,out_channels=80,kernel_size=(57,6),padding=0)\n",
    "outshape = tensorshape(op, in_shape = (1,1,498,13))\n",
    "print(f\"N\\tC\\tH\\tW\\t\");print(f\"{outshape[0]}\\t{outshape[1]}\\t{outshape[2]}\\t{outshape[3]}\\t\")"
   ],
   "metadata": {
    "collapsed": false,
    "ExecuteTime": {
     "end_time": "2024-06-16T12:42:27.339384Z",
     "start_time": "2024-06-16T12:42:27.331182Z"
    }
   },
   "id": "dd6f0a34ff080783"
  },
  {
   "cell_type": "code",
   "execution_count": 108,
   "outputs": [
    {
     "name": "stdout",
     "output_type": "stream",
     "text": [
      "N\tC\tH\tW\t\n",
      "1\t80\t439\t2\t\n"
     ]
    }
   ],
   "source": [
    "op1 = nn.MaxPool2d(kernel_size=(4,3),stride=(1,3))\n",
    "outshape = tensorshape(op=op1, in_shape = outshape)\n",
    "print(f\"N\\tC\\tH\\tW\\t\"); print(f\"{outshape[0]}\\t{outshape[1]}\\t{outshape[2]}\\t{outshape[3]}\\t\")"
   ],
   "metadata": {
    "collapsed": false,
    "ExecuteTime": {
     "end_time": "2024-06-16T12:42:27.339515Z",
     "start_time": "2024-06-16T12:42:27.333817Z"
    }
   },
   "id": "e006ca0393e18609"
  },
  {
   "cell_type": "code",
   "execution_count": 109,
   "outputs": [
    {
     "name": "stdout",
     "output_type": "stream",
     "text": [
      "N\tC\tH\tW\t\n",
      "1\t80\t439\t0\t\n"
     ]
    }
   ],
   "source": [
    "op = nn.Conv2d(in_channels=80,out_channels=80,kernel_size=(1,3),padding=0,stride = 1)\n",
    "outshape = tensorshape(op, in_shape = outshape)\n",
    "print(f\"N\\tC\\tH\\tW\\t\");print(f\"{outshape[0]}\\t{outshape[1]}\\t{outshape[2]}\\t{outshape[3]}\\t\")"
   ],
   "metadata": {
    "collapsed": false,
    "ExecuteTime": {
     "end_time": "2024-06-16T12:42:27.339628Z",
     "start_time": "2024-06-16T12:42:27.336472Z"
    }
   },
   "id": "30e25a7a93b1fbab"
  },
  {
   "cell_type": "code",
   "execution_count": 110,
   "outputs": [
    {
     "name": "stdout",
     "output_type": "stream",
     "text": [
      "N\tC\tH\tW\t\n",
      "1\t80\t439\t0\t\n"
     ]
    }
   ],
   "source": [
    "op1 = nn.MaxPool2d(kernel_size=(1,3),stride=(1,3))\n",
    "outshape = tensorshape(op=op1, in_shape = outshape)\n",
    "print(f\"N\\tC\\tH\\tW\\t\");print(f\"{outshape[0]}\\t{outshape[1]}\\t{outshape[2]}\\t{outshape[3]}\\t\")"
   ],
   "metadata": {
    "collapsed": false,
    "ExecuteTime": {
     "end_time": "2024-06-16T12:42:28.428915Z",
     "start_time": "2024-06-16T12:42:28.426247Z"
    }
   },
   "id": "f7f145b97d710c07"
  },
  {
   "cell_type": "code",
   "execution_count": 111,
   "outputs": [
    {
     "name": "stdout",
     "output_type": "stream",
     "text": [
      "H\tW\t\n",
      "1\t439\n"
     ]
    }
   ],
   "source": [
    "op2 = nn.Flatten()\n",
    "outshape = tensorshape(op=op2, in_shape = (1,1,439,1))\n",
    "print(f\"H\\tW\\t\");print(f\"{outshape[0]}\\t{outshape[1]}\")"
   ],
   "metadata": {
    "collapsed": false,
    "ExecuteTime": {
     "end_time": "2024-06-16T12:42:28.431550Z",
     "start_time": "2024-06-16T12:42:28.429237Z"
    }
   },
   "id": "1b52ee6b315e83a0"
  },
  {
   "cell_type": "code",
   "execution_count": 111,
   "outputs": [],
   "source": [],
   "metadata": {
    "collapsed": false,
    "ExecuteTime": {
     "end_time": "2024-06-16T12:42:29.235863Z",
     "start_time": "2024-06-16T12:42:29.234422Z"
    }
   },
   "id": "768f2c8af611ad81"
  },
  {
   "cell_type": "code",
   "execution_count": 111,
   "outputs": [],
   "source": [],
   "metadata": {
    "collapsed": false,
    "ExecuteTime": {
     "end_time": "2024-06-16T12:42:30.166629Z",
     "start_time": "2024-06-16T12:42:30.164164Z"
    }
   },
   "id": "cca600b7195bad57"
  },
  {
   "cell_type": "markdown",
   "source": [
    "# INIT TENSORBOARD & SETUP\n",
    "Dashboard: [http://localhost:6006](http://localhost:6006)\n",
    "\n"
   ],
   "metadata": {
    "collapsed": false
   },
   "id": "b790c99c63949a3e"
  },
  {
   "cell_type": "code",
   "execution_count": 112,
   "outputs": [
    {
     "name": "stdout",
     "output_type": "stream",
     "text": [
      "The tensorboard extension is already loaded. To reload it, use:\n",
      "  %reload_ext tensorboard\n"
     ]
    },
    {
     "data": {
      "text/plain": "Launching TensorBoard..."
     },
     "metadata": {},
     "output_type": "display_data"
    },
    {
     "data": {
      "text/plain": "<IPython.core.display.HTML object>",
      "text/html": "\n      <iframe id=\"tensorboard-frame-3b242becde18a151\" width=\"100%\" height=\"800\" frameborder=\"0\">\n      </iframe>\n      <script>\n        (function() {\n          const frame = document.getElementById(\"tensorboard-frame-3b242becde18a151\");\n          const url = new URL(\"/\", window.location);\n          const port = 6006;\n          if (port) {\n            url.port = port;\n          }\n          frame.src = url;\n        })();\n      </script>\n    "
     },
     "metadata": {},
     "output_type": "display_data"
    }
   ],
   "source": [
    "import torch.utils.tensorboard\n",
    "# Load the TensorBoard notebook extension\n",
    "%load_ext tensorboard\n",
    "# Stand Tensorboard\n",
    "%tensorboard --logdir=runs --reload_multifile True"
   ],
   "metadata": {
    "collapsed": false,
    "ExecuteTime": {
     "end_time": "2024-06-16T12:42:33.392791Z",
     "start_time": "2024-06-16T12:42:33.378632Z"
    }
   },
   "id": "a7e9d44c10649ec4"
  },
  {
   "cell_type": "code",
   "execution_count": 113,
   "outputs": [],
   "source": [
    "#Create a SummyWriter which is LOG FILE DATABASE for our model\n",
    "#CHANGE THE NAME BASED ON THE MODEL WE USE - DONT FORGET\n",
    "from torch.utils.tensorboard import SummaryWriter\n",
    "# default `log_dir` is \"runs\" - we'll be more specific here\n",
    "#_MODEL_NAME_ = \"model1_test_trash\"\n",
    "#writer = SummaryWriter(\"runs/\" + _MODEL_NAME_)"
   ],
   "metadata": {
    "collapsed": false,
    "ExecuteTime": {
     "end_time": "2024-06-16T12:42:52.678606Z",
     "start_time": "2024-06-16T12:42:52.673031Z"
    }
   },
   "id": "24424be8f3c6f260"
  },
  {
   "cell_type": "code",
   "execution_count": 113,
   "outputs": [],
   "source": [],
   "metadata": {
    "collapsed": false,
    "ExecuteTime": {
     "end_time": "2024-06-16T12:42:53.389253Z",
     "start_time": "2024-06-16T12:42:53.387996Z"
    }
   },
   "id": "cc9b68e40e95d5e9"
  },
  {
   "cell_type": "code",
   "execution_count": 153,
   "outputs": [
    {
     "data": {
      "text/plain": "  0%|          | 0/50 [00:00<?, ?it/s]",
      "application/vnd.jupyter.widget-view+json": {
       "version_major": 2,
       "version_minor": 0,
       "model_id": "500ccfa94e4a42b9a8cb23611e9d5440"
      }
     },
     "metadata": {},
     "output_type": "display_data"
    },
    {
     "data": {
      "text/plain": "  0%|          | 0/80 [00:00<?, ?it/s]",
      "application/vnd.jupyter.widget-view+json": {
       "version_major": 2,
       "version_minor": 0,
       "model_id": "3bd97be3a22c488396c46573a8d812e0"
      }
     },
     "metadata": {},
     "output_type": "display_data"
    },
    {
     "name": "stdout",
     "output_type": "stream",
     "text": [
      "Epoch: 0 | Loss: 7.560 | Test loss: 4.191 | Train Acc: 3.9374985694885254 | Test Acc: 4.500000953674316\n"
     ]
    },
    {
     "data": {
      "text/plain": "  0%|          | 0/80 [00:00<?, ?it/s]",
      "application/vnd.jupyter.widget-view+json": {
       "version_major": 2,
       "version_minor": 0,
       "model_id": "35a8ec46090f4068ad7b7eedacc7672c"
      }
     },
     "metadata": {},
     "output_type": "display_data"
    },
    {
     "name": "stdout",
     "output_type": "stream",
     "text": [
      "Epoch: 1 | Loss: 3.811 | Test loss: 4.150 | Train Acc: 5.874999046325684 | Test Acc: 1.75\n"
     ]
    },
    {
     "data": {
      "text/plain": "  0%|          | 0/80 [00:00<?, ?it/s]",
      "application/vnd.jupyter.widget-view+json": {
       "version_major": 2,
       "version_minor": 0,
       "model_id": "7770744fbb1c49938d041838b61d62ac"
      }
     },
     "metadata": {},
     "output_type": "display_data"
    },
    {
     "name": "stdout",
     "output_type": "stream",
     "text": [
      "Epoch: 2 | Loss: 3.603 | Test loss: 4.149 | Train Acc: 8.124999046325684 | Test Acc: 1.0\n"
     ]
    },
    {
     "data": {
      "text/plain": "  0%|          | 0/80 [00:00<?, ?it/s]",
      "application/vnd.jupyter.widget-view+json": {
       "version_major": 2,
       "version_minor": 0,
       "model_id": "a5656d699416418fa64c4169d129a14e"
      }
     },
     "metadata": {},
     "output_type": "display_data"
    },
    {
     "name": "stdout",
     "output_type": "stream",
     "text": [
      "Epoch: 3 | Loss: 3.502 | Test loss: 4.175 | Train Acc: 11.750001907348633 | Test Acc: 3.750000476837158\n"
     ]
    },
    {
     "data": {
      "text/plain": "  0%|          | 0/80 [00:00<?, ?it/s]",
      "application/vnd.jupyter.widget-view+json": {
       "version_major": 2,
       "version_minor": 0,
       "model_id": "aee5379750f24bc6bc6dc46a41ce6e07"
      }
     },
     "metadata": {},
     "output_type": "display_data"
    },
    {
     "name": "stdout",
     "output_type": "stream",
     "text": [
      "Epoch: 4 | Loss: 3.424 | Test loss: 4.194 | Train Acc: 13.874999046325684 | Test Acc: 0.5\n"
     ]
    },
    {
     "data": {
      "text/plain": "  0%|          | 0/80 [00:00<?, ?it/s]",
      "application/vnd.jupyter.widget-view+json": {
       "version_major": 2,
       "version_minor": 0,
       "model_id": "83bbd637119c4bfdba8a65a3a5c4d472"
      }
     },
     "metadata": {},
     "output_type": "display_data"
    },
    {
     "name": "stdout",
     "output_type": "stream",
     "text": [
      "Epoch: 5 | Loss: 3.372 | Test loss: 4.223 | Train Acc: 15.125001907348633 | Test Acc: 0.75\n"
     ]
    },
    {
     "data": {
      "text/plain": "  0%|          | 0/80 [00:00<?, ?it/s]",
      "application/vnd.jupyter.widget-view+json": {
       "version_major": 2,
       "version_minor": 0,
       "model_id": "ae3e57d940ab4d8eb1019a07f480eae7"
      }
     },
     "metadata": {},
     "output_type": "display_data"
    },
    {
     "name": "stdout",
     "output_type": "stream",
     "text": [
      "Epoch: 6 | Loss: 3.336 | Test loss: 4.238 | Train Acc: 16.0 | Test Acc: 0.75\n"
     ]
    },
    {
     "data": {
      "text/plain": "  0%|          | 0/80 [00:00<?, ?it/s]",
      "application/vnd.jupyter.widget-view+json": {
       "version_major": 2,
       "version_minor": 0,
       "model_id": "fd55218a03674101b0f38cb34bc5df7a"
      }
     },
     "metadata": {},
     "output_type": "display_data"
    },
    {
     "name": "stdout",
     "output_type": "stream",
     "text": [
      "Epoch: 7 | Loss: 3.307 | Test loss: 4.284 | Train Acc: 17.124998092651367 | Test Acc: 3.000000476837158\n"
     ]
    },
    {
     "data": {
      "text/plain": "  0%|          | 0/80 [00:00<?, ?it/s]",
      "application/vnd.jupyter.widget-view+json": {
       "version_major": 2,
       "version_minor": 0,
       "model_id": "e7f34c67ff1c453fb785ca3368442aae"
      }
     },
     "metadata": {},
     "output_type": "display_data"
    },
    {
     "name": "stdout",
     "output_type": "stream",
     "text": [
      "Epoch: 8 | Loss: 3.280 | Test loss: 4.287 | Train Acc: 17.624998092651367 | Test Acc: 3.2500007152557373\n"
     ]
    },
    {
     "data": {
      "text/plain": "  0%|          | 0/80 [00:00<?, ?it/s]",
      "application/vnd.jupyter.widget-view+json": {
       "version_major": 2,
       "version_minor": 0,
       "model_id": "fa20f00e76764632bfe32eebb9d8c3e3"
      }
     },
     "metadata": {},
     "output_type": "display_data"
    },
    {
     "name": "stdout",
     "output_type": "stream",
     "text": [
      "Epoch: 9 | Loss: 3.266 | Test loss: 4.324 | Train Acc: 17.375 | Test Acc: 3.500000476837158\n"
     ]
    },
    {
     "data": {
      "text/plain": "  0%|          | 0/80 [00:00<?, ?it/s]",
      "application/vnd.jupyter.widget-view+json": {
       "version_major": 2,
       "version_minor": 0,
       "model_id": "223d65e86a3a476bb293afa416c1bbc5"
      }
     },
     "metadata": {},
     "output_type": "display_data"
    },
    {
     "name": "stdout",
     "output_type": "stream",
     "text": [
      "Epoch: 10 | Loss: 3.246 | Test loss: 4.337 | Train Acc: 17.75 | Test Acc: 4.000000476837158\n"
     ]
    },
    {
     "data": {
      "text/plain": "  0%|          | 0/80 [00:00<?, ?it/s]",
      "application/vnd.jupyter.widget-view+json": {
       "version_major": 2,
       "version_minor": 0,
       "model_id": "e6a2828618ad4f52bf90444dace9f96b"
      }
     },
     "metadata": {},
     "output_type": "display_data"
    },
    {
     "name": "stdout",
     "output_type": "stream",
     "text": [
      "Epoch: 11 | Loss: 3.228 | Test loss: 4.345 | Train Acc: 18.124998092651367 | Test Acc: 0.25\n"
     ]
    },
    {
     "data": {
      "text/plain": "  0%|          | 0/80 [00:00<?, ?it/s]",
      "application/vnd.jupyter.widget-view+json": {
       "version_major": 2,
       "version_minor": 0,
       "model_id": "a813106cf803409e8b0787e187d44fc3"
      }
     },
     "metadata": {},
     "output_type": "display_data"
    },
    {
     "name": "stdout",
     "output_type": "stream",
     "text": [
      "Epoch: 12 | Loss: 3.211 | Test loss: 4.332 | Train Acc: 18.937498092651367 | Test Acc: 7.250000476837158\n"
     ]
    },
    {
     "data": {
      "text/plain": "  0%|          | 0/80 [00:00<?, ?it/s]",
      "application/vnd.jupyter.widget-view+json": {
       "version_major": 2,
       "version_minor": 0,
       "model_id": "03ad3c2fdc454cafa96d9009c1dccb27"
      }
     },
     "metadata": {},
     "output_type": "display_data"
    },
    {
     "name": "stdout",
     "output_type": "stream",
     "text": [
      "Epoch: 13 | Loss: 3.197 | Test loss: 4.430 | Train Acc: 18.374998092651367 | Test Acc: 5.000000476837158\n"
     ]
    },
    {
     "data": {
      "text/plain": "  0%|          | 0/80 [00:00<?, ?it/s]",
      "application/vnd.jupyter.widget-view+json": {
       "version_major": 2,
       "version_minor": 0,
       "model_id": "5413d53dea174854a8c490caebe2da2c"
      }
     },
     "metadata": {},
     "output_type": "display_data"
    },
    {
     "name": "stdout",
     "output_type": "stream",
     "text": [
      "Epoch: 14 | Loss: 3.196 | Test loss: 4.352 | Train Acc: 18.0625 | Test Acc: 0.75\n"
     ]
    },
    {
     "data": {
      "text/plain": "  0%|          | 0/80 [00:00<?, ?it/s]",
      "application/vnd.jupyter.widget-view+json": {
       "version_major": 2,
       "version_minor": 0,
       "model_id": "12aa9a9984f84b42bc4d4214b6e37e56"
      }
     },
     "metadata": {},
     "output_type": "display_data"
    },
    {
     "name": "stdout",
     "output_type": "stream",
     "text": [
      "Epoch: 15 | Loss: 3.177 | Test loss: 4.362 | Train Acc: 18.374998092651367 | Test Acc: 3.500000476837158\n"
     ]
    },
    {
     "data": {
      "text/plain": "  0%|          | 0/80 [00:00<?, ?it/s]",
      "application/vnd.jupyter.widget-view+json": {
       "version_major": 2,
       "version_minor": 0,
       "model_id": "ced0a76fea09434fb0049a33b3a92f9f"
      }
     },
     "metadata": {},
     "output_type": "display_data"
    },
    {
     "name": "stdout",
     "output_type": "stream",
     "text": [
      "Epoch: 16 | Loss: 3.164 | Test loss: 4.375 | Train Acc: 19.0625 | Test Acc: 0.0\n"
     ]
    },
    {
     "data": {
      "text/plain": "  0%|          | 0/80 [00:00<?, ?it/s]",
      "application/vnd.jupyter.widget-view+json": {
       "version_major": 2,
       "version_minor": 0,
       "model_id": "3e89536505c04e2f8c2a891da771d31c"
      }
     },
     "metadata": {},
     "output_type": "display_data"
    },
    {
     "name": "stdout",
     "output_type": "stream",
     "text": [
      "Epoch: 17 | Loss: 3.154 | Test loss: 4.369 | Train Acc: 18.875001907348633 | Test Acc: 1.75\n"
     ]
    },
    {
     "data": {
      "text/plain": "  0%|          | 0/80 [00:00<?, ?it/s]",
      "application/vnd.jupyter.widget-view+json": {
       "version_major": 2,
       "version_minor": 0,
       "model_id": "1c7958a74d25479588f0a93abacc8a39"
      }
     },
     "metadata": {},
     "output_type": "display_data"
    },
    {
     "name": "stdout",
     "output_type": "stream",
     "text": [
      "Epoch: 18 | Loss: 3.148 | Test loss: 4.351 | Train Acc: 18.874996185302734 | Test Acc: 1.0\n"
     ]
    },
    {
     "data": {
      "text/plain": "  0%|          | 0/80 [00:00<?, ?it/s]",
      "application/vnd.jupyter.widget-view+json": {
       "version_major": 2,
       "version_minor": 0,
       "model_id": "0531cfaa9cb442e89cadd4755c60efa0"
      }
     },
     "metadata": {},
     "output_type": "display_data"
    },
    {
     "name": "stdout",
     "output_type": "stream",
     "text": [
      "Epoch: 19 | Loss: 3.134 | Test loss: 4.364 | Train Acc: 19.125 | Test Acc: 0.75\n"
     ]
    },
    {
     "data": {
      "text/plain": "  0%|          | 0/80 [00:00<?, ?it/s]",
      "application/vnd.jupyter.widget-view+json": {
       "version_major": 2,
       "version_minor": 0,
       "model_id": "cd219b7340904357ac37a7fe3377d820"
      }
     },
     "metadata": {},
     "output_type": "display_data"
    },
    {
     "name": "stdout",
     "output_type": "stream",
     "text": [
      "Epoch: 20 | Loss: 3.127 | Test loss: 4.372 | Train Acc: 19.249996185302734 | Test Acc: 0.5\n"
     ]
    },
    {
     "data": {
      "text/plain": "  0%|          | 0/80 [00:00<?, ?it/s]",
      "application/vnd.jupyter.widget-view+json": {
       "version_major": 2,
       "version_minor": 0,
       "model_id": "16e85b20f99244e2983e2ab137a64cb0"
      }
     },
     "metadata": {},
     "output_type": "display_data"
    },
    {
     "name": "stdout",
     "output_type": "stream",
     "text": [
      "Epoch: 21 | Loss: 3.116 | Test loss: 4.367 | Train Acc: 19.124998092651367 | Test Acc: 0.5\n"
     ]
    },
    {
     "data": {
      "text/plain": "  0%|          | 0/80 [00:00<?, ?it/s]",
      "application/vnd.jupyter.widget-view+json": {
       "version_major": 2,
       "version_minor": 0,
       "model_id": "fa55e81922a34819b60958908de98397"
      }
     },
     "metadata": {},
     "output_type": "display_data"
    },
    {
     "name": "stdout",
     "output_type": "stream",
     "text": [
      "Epoch: 22 | Loss: 3.109 | Test loss: 4.375 | Train Acc: 19.749996185302734 | Test Acc: 1.5\n"
     ]
    },
    {
     "data": {
      "text/plain": "  0%|          | 0/80 [00:00<?, ?it/s]",
      "application/vnd.jupyter.widget-view+json": {
       "version_major": 2,
       "version_minor": 0,
       "model_id": "0d3fadbe8d6b46ceb6eae683538169d6"
      }
     },
     "metadata": {},
     "output_type": "display_data"
    },
    {
     "name": "stdout",
     "output_type": "stream",
     "text": [
      "Epoch: 23 | Loss: 3.102 | Test loss: 4.397 | Train Acc: 19.999998092651367 | Test Acc: 5.500000953674316\n"
     ]
    },
    {
     "data": {
      "text/plain": "  0%|          | 0/80 [00:00<?, ?it/s]",
      "application/vnd.jupyter.widget-view+json": {
       "version_major": 2,
       "version_minor": 0,
       "model_id": "3266829718cf473ba341936f467dc6b2"
      }
     },
     "metadata": {},
     "output_type": "display_data"
    },
    {
     "name": "stdout",
     "output_type": "stream",
     "text": [
      "Epoch: 24 | Loss: 3.091 | Test loss: 4.375 | Train Acc: 19.812498092651367 | Test Acc: 1.0\n"
     ]
    },
    {
     "data": {
      "text/plain": "  0%|          | 0/80 [00:00<?, ?it/s]",
      "application/vnd.jupyter.widget-view+json": {
       "version_major": 2,
       "version_minor": 0,
       "model_id": "89c017fe1ea547439a438ff22cb747af"
      }
     },
     "metadata": {},
     "output_type": "display_data"
    },
    {
     "name": "stdout",
     "output_type": "stream",
     "text": [
      "Epoch: 25 | Loss: 3.083 | Test loss: 4.377 | Train Acc: 19.999996185302734 | Test Acc: 0.5\n"
     ]
    },
    {
     "data": {
      "text/plain": "  0%|          | 0/80 [00:00<?, ?it/s]",
      "application/vnd.jupyter.widget-view+json": {
       "version_major": 2,
       "version_minor": 0,
       "model_id": "977fb7c108c24c60a6b72cfeb8bc0293"
      }
     },
     "metadata": {},
     "output_type": "display_data"
    },
    {
     "name": "stdout",
     "output_type": "stream",
     "text": [
      "Epoch: 26 | Loss: 3.074 | Test loss: 4.369 | Train Acc: 20.187501907348633 | Test Acc: 1.25\n"
     ]
    },
    {
     "data": {
      "text/plain": "  0%|          | 0/80 [00:00<?, ?it/s]",
      "application/vnd.jupyter.widget-view+json": {
       "version_major": 2,
       "version_minor": 0,
       "model_id": "ee1d04caae0a4c6f838a1a9a8d72cd7b"
      }
     },
     "metadata": {},
     "output_type": "display_data"
    },
    {
     "name": "stdout",
     "output_type": "stream",
     "text": [
      "Epoch: 27 | Loss: 3.068 | Test loss: 4.371 | Train Acc: 20.625 | Test Acc: 4.750000476837158\n"
     ]
    },
    {
     "data": {
      "text/plain": "  0%|          | 0/80 [00:00<?, ?it/s]",
      "application/vnd.jupyter.widget-view+json": {
       "version_major": 2,
       "version_minor": 0,
       "model_id": "a07ced5aeaa64019bacc07453d8baa55"
      }
     },
     "metadata": {},
     "output_type": "display_data"
    },
    {
     "name": "stdout",
     "output_type": "stream",
     "text": [
      "Epoch: 28 | Loss: 3.063 | Test loss: 4.359 | Train Acc: 20.749998092651367 | Test Acc: 3.2500007152557373\n"
     ]
    },
    {
     "data": {
      "text/plain": "  0%|          | 0/80 [00:00<?, ?it/s]",
      "application/vnd.jupyter.widget-view+json": {
       "version_major": 2,
       "version_minor": 0,
       "model_id": "67351fc38e764a5ea483e86e76508eaf"
      }
     },
     "metadata": {},
     "output_type": "display_data"
    },
    {
     "name": "stdout",
     "output_type": "stream",
     "text": [
      "Epoch: 29 | Loss: 3.054 | Test loss: 4.355 | Train Acc: 20.562501907348633 | Test Acc: 0.75\n"
     ]
    },
    {
     "data": {
      "text/plain": "  0%|          | 0/80 [00:00<?, ?it/s]",
      "application/vnd.jupyter.widget-view+json": {
       "version_major": 2,
       "version_minor": 0,
       "model_id": "df7f043544e046d9a1a63682207fe9a2"
      }
     },
     "metadata": {},
     "output_type": "display_data"
    },
    {
     "name": "stdout",
     "output_type": "stream",
     "text": [
      "Epoch: 30 | Loss: 3.047 | Test loss: 4.351 | Train Acc: 20.875 | Test Acc: 2.500000238418579\n"
     ]
    },
    {
     "data": {
      "text/plain": "  0%|          | 0/80 [00:00<?, ?it/s]",
      "application/vnd.jupyter.widget-view+json": {
       "version_major": 2,
       "version_minor": 0,
       "model_id": "6147ac1adc7344bcbfacda3837d29a1d"
      }
     },
     "metadata": {},
     "output_type": "display_data"
    },
    {
     "name": "stdout",
     "output_type": "stream",
     "text": [
      "Epoch: 31 | Loss: 3.040 | Test loss: 4.349 | Train Acc: 21.1875 | Test Acc: 1.0\n"
     ]
    },
    {
     "data": {
      "text/plain": "  0%|          | 0/80 [00:00<?, ?it/s]",
      "application/vnd.jupyter.widget-view+json": {
       "version_major": 2,
       "version_minor": 0,
       "model_id": "e3cc2341817a4f9a8d033f0e902d0280"
      }
     },
     "metadata": {},
     "output_type": "display_data"
    },
    {
     "name": "stdout",
     "output_type": "stream",
     "text": [
      "Epoch: 32 | Loss: 3.036 | Test loss: 4.344 | Train Acc: 21.25 | Test Acc: 0.5\n"
     ]
    },
    {
     "data": {
      "text/plain": "  0%|          | 0/80 [00:00<?, ?it/s]",
      "application/vnd.jupyter.widget-view+json": {
       "version_major": 2,
       "version_minor": 0,
       "model_id": "592fb7eab82040f793f2d06e76084890"
      }
     },
     "metadata": {},
     "output_type": "display_data"
    },
    {
     "name": "stdout",
     "output_type": "stream",
     "text": [
      "Epoch: 33 | Loss: 3.025 | Test loss: 4.321 | Train Acc: 21.3125 | Test Acc: 1.750000238418579\n"
     ]
    },
    {
     "data": {
      "text/plain": "  0%|          | 0/80 [00:00<?, ?it/s]",
      "application/vnd.jupyter.widget-view+json": {
       "version_major": 2,
       "version_minor": 0,
       "model_id": "aa6ba89b47454006b78352e2cfaef928"
      }
     },
     "metadata": {},
     "output_type": "display_data"
    },
    {
     "name": "stdout",
     "output_type": "stream",
     "text": [
      "Epoch: 34 | Loss: 3.016 | Test loss: 4.315 | Train Acc: 21.749996185302734 | Test Acc: 1.25\n"
     ]
    },
    {
     "data": {
      "text/plain": "  0%|          | 0/80 [00:00<?, ?it/s]",
      "application/vnd.jupyter.widget-view+json": {
       "version_major": 2,
       "version_minor": 0,
       "model_id": "30e960303c5e4b748c1d32cb854ea9f2"
      }
     },
     "metadata": {},
     "output_type": "display_data"
    },
    {
     "name": "stdout",
     "output_type": "stream",
     "text": [
      "Epoch: 35 | Loss: 3.008 | Test loss: 4.332 | Train Acc: 21.937496185302734 | Test Acc: 1.0\n"
     ]
    },
    {
     "data": {
      "text/plain": "  0%|          | 0/80 [00:00<?, ?it/s]",
      "application/vnd.jupyter.widget-view+json": {
       "version_major": 2,
       "version_minor": 0,
       "model_id": "321392bdb07c4904bbaf3c51d6acf8bf"
      }
     },
     "metadata": {},
     "output_type": "display_data"
    },
    {
     "name": "stdout",
     "output_type": "stream",
     "text": [
      "Epoch: 36 | Loss: 3.003 | Test loss: 4.310 | Train Acc: 21.750001907348633 | Test Acc: 1.5\n"
     ]
    },
    {
     "data": {
      "text/plain": "  0%|          | 0/80 [00:00<?, ?it/s]",
      "application/vnd.jupyter.widget-view+json": {
       "version_major": 2,
       "version_minor": 0,
       "model_id": "66200ef3febe4e10a6c77dab289d45d0"
      }
     },
     "metadata": {},
     "output_type": "display_data"
    },
    {
     "name": "stdout",
     "output_type": "stream",
     "text": [
      "Epoch: 37 | Loss: 2.997 | Test loss: 4.318 | Train Acc: 22.062496185302734 | Test Acc: 0.75\n"
     ]
    },
    {
     "data": {
      "text/plain": "  0%|          | 0/80 [00:00<?, ?it/s]",
      "application/vnd.jupyter.widget-view+json": {
       "version_major": 2,
       "version_minor": 0,
       "model_id": "0335d193bcf04af78aed7b940941dfc0"
      }
     },
     "metadata": {},
     "output_type": "display_data"
    },
    {
     "name": "stdout",
     "output_type": "stream",
     "text": [
      "Epoch: 38 | Loss: 2.989 | Test loss: 4.312 | Train Acc: 22.124998092651367 | Test Acc: 1.25\n"
     ]
    },
    {
     "data": {
      "text/plain": "  0%|          | 0/80 [00:00<?, ?it/s]",
      "application/vnd.jupyter.widget-view+json": {
       "version_major": 2,
       "version_minor": 0,
       "model_id": "f204d1e26425456ea39774f450f42f22"
      }
     },
     "metadata": {},
     "output_type": "display_data"
    },
    {
     "name": "stdout",
     "output_type": "stream",
     "text": [
      "Epoch: 39 | Loss: 2.981 | Test loss: 4.315 | Train Acc: 22.37499237060547 | Test Acc: 1.25\n"
     ]
    },
    {
     "data": {
      "text/plain": "  0%|          | 0/80 [00:00<?, ?it/s]",
      "application/vnd.jupyter.widget-view+json": {
       "version_major": 2,
       "version_minor": 0,
       "model_id": "de915a8eae7b40eb9fd27cd735d58420"
      }
     },
     "metadata": {},
     "output_type": "display_data"
    },
    {
     "name": "stdout",
     "output_type": "stream",
     "text": [
      "Epoch: 40 | Loss: 2.968 | Test loss: 4.322 | Train Acc: 22.750003814697266 | Test Acc: 2.250000238418579\n"
     ]
    },
    {
     "data": {
      "text/plain": "  0%|          | 0/80 [00:00<?, ?it/s]",
      "application/vnd.jupyter.widget-view+json": {
       "version_major": 2,
       "version_minor": 0,
       "model_id": "221dd5f2a3d644e898cb520a1752154f"
      }
     },
     "metadata": {},
     "output_type": "display_data"
    },
    {
     "name": "stdout",
     "output_type": "stream",
     "text": [
      "Epoch: 41 | Loss: 2.970 | Test loss: 4.288 | Train Acc: 22.624996185302734 | Test Acc: 3.0\n"
     ]
    },
    {
     "data": {
      "text/plain": "  0%|          | 0/80 [00:00<?, ?it/s]",
      "application/vnd.jupyter.widget-view+json": {
       "version_major": 2,
       "version_minor": 0,
       "model_id": "3f4e43ee80364a58aaf1d13cd81d9d4f"
      }
     },
     "metadata": {},
     "output_type": "display_data"
    },
    {
     "name": "stdout",
     "output_type": "stream",
     "text": [
      "Epoch: 42 | Loss: 2.959 | Test loss: 4.291 | Train Acc: 23.375001907348633 | Test Acc: 9.75\n"
     ]
    },
    {
     "data": {
      "text/plain": "  0%|          | 0/80 [00:00<?, ?it/s]",
      "application/vnd.jupyter.widget-view+json": {
       "version_major": 2,
       "version_minor": 0,
       "model_id": "a31bc58a6298433f96f7200f4fc6fec8"
      }
     },
     "metadata": {},
     "output_type": "display_data"
    },
    {
     "name": "stdout",
     "output_type": "stream",
     "text": [
      "Epoch: 43 | Loss: 2.955 | Test loss: 4.298 | Train Acc: 22.874996185302734 | Test Acc: 3.500000476837158\n"
     ]
    },
    {
     "data": {
      "text/plain": "  0%|          | 0/80 [00:00<?, ?it/s]",
      "application/vnd.jupyter.widget-view+json": {
       "version_major": 2,
       "version_minor": 0,
       "model_id": "d4abba39f3a24ec8a7783bf479d85ebc"
      }
     },
     "metadata": {},
     "output_type": "display_data"
    },
    {
     "name": "stdout",
     "output_type": "stream",
     "text": [
      "Epoch: 44 | Loss: 2.944 | Test loss: 4.330 | Train Acc: 23.5624942779541 | Test Acc: 2.25\n"
     ]
    },
    {
     "data": {
      "text/plain": "  0%|          | 0/80 [00:00<?, ?it/s]",
      "application/vnd.jupyter.widget-view+json": {
       "version_major": 2,
       "version_minor": 0,
       "model_id": "22c6b50065e14aee812ca8961ed7ed4f"
      }
     },
     "metadata": {},
     "output_type": "display_data"
    },
    {
     "name": "stdout",
     "output_type": "stream",
     "text": [
      "Epoch: 45 | Loss: 2.935 | Test loss: 4.304 | Train Acc: 24.0625 | Test Acc: 2.75\n"
     ]
    },
    {
     "data": {
      "text/plain": "  0%|          | 0/80 [00:00<?, ?it/s]",
      "application/vnd.jupyter.widget-view+json": {
       "version_major": 2,
       "version_minor": 0,
       "model_id": "9142a180f6e5472a89434d536af8e7af"
      }
     },
     "metadata": {},
     "output_type": "display_data"
    },
    {
     "name": "stdout",
     "output_type": "stream",
     "text": [
      "Epoch: 46 | Loss: 2.931 | Test loss: 4.306 | Train Acc: 23.8749942779541 | Test Acc: 1.25\n"
     ]
    },
    {
     "data": {
      "text/plain": "  0%|          | 0/80 [00:00<?, ?it/s]",
      "application/vnd.jupyter.widget-view+json": {
       "version_major": 2,
       "version_minor": 0,
       "model_id": "585c98c67243472b965ee61731798153"
      }
     },
     "metadata": {},
     "output_type": "display_data"
    },
    {
     "name": "stdout",
     "output_type": "stream",
     "text": [
      "Epoch: 47 | Loss: 2.920 | Test loss: 4.301 | Train Acc: 24.124996185302734 | Test Acc: 1.750000238418579\n"
     ]
    },
    {
     "data": {
      "text/plain": "  0%|          | 0/80 [00:00<?, ?it/s]",
      "application/vnd.jupyter.widget-view+json": {
       "version_major": 2,
       "version_minor": 0,
       "model_id": "762464d46a6345bb98fa32762c45bb8b"
      }
     },
     "metadata": {},
     "output_type": "display_data"
    },
    {
     "name": "stdout",
     "output_type": "stream",
     "text": [
      "Epoch: 48 | Loss: 2.915 | Test loss: 4.311 | Train Acc: 24.312496185302734 | Test Acc: 2.0\n"
     ]
    },
    {
     "data": {
      "text/plain": "  0%|          | 0/80 [00:00<?, ?it/s]",
      "application/vnd.jupyter.widget-view+json": {
       "version_major": 2,
       "version_minor": 0,
       "model_id": "b57c8838903742c3b2b643bb469c40e6"
      }
     },
     "metadata": {},
     "output_type": "display_data"
    },
    {
     "name": "stdout",
     "output_type": "stream",
     "text": [
      "Epoch: 49 | Loss: 2.908 | Test loss: 4.287 | Train Acc: 23.812501907348633 | Test Acc: 4.250000953674316\n"
     ]
    }
   ],
   "source": [
    "# NOTE: SETUP METRICS USING TORCH LIBRARY - NOT SURE IF THIS MAKES IT EASIER OR NOT \n",
    "acc_func = Accuracy(task=\"multiclass\", num_classes=50).to(device)\n",
    "\n",
    "# NOTE: SETUP TQDM TO SHOW A PROGRESS BAR\n",
    "from tqdm.auto import tqdm \n",
    "\n",
    "#Summary 1: Create Model\n",
    "model = model.to(device)\n",
    "\n",
    "#Summary 2: Create Loss Function & Optimizer\n",
    "loss_fn = nn.CrossEntropyLoss()\n",
    "optimizer = torch.optim.SGD(model.parameters(), lr=0.0001)\n",
    "\n",
    "#Summary 3: Setup SummaryWriter\n",
    "from torch.utils.tensorboard import SummaryWriter\n",
    "_MODEL_NAME_ = \"model50_test_trash\" #NOTE: CHANGE ME\n",
    "writer = SummaryWriter(\"runs/\" + _MODEL_NAME_)\n",
    "\n",
    "### Training loop\n",
    "epochs = 50\n",
    "for epoch in tqdm(range(epochs)):\n",
    "\n",
    "    train_loss = 0\n",
    "    train_acc = 0\n",
    "    \n",
    "    #ii TRAINING loop\n",
    "    for batch, (X, y) in enumerate(tqdm(train_dataloader)):\n",
    "        #Note 0. Turn On Training Mode\n",
    "        model.train()\n",
    "        #Note 0.1. Put data on CPU\n",
    "        X = X.to(device)\n",
    "        y = y.to(device)\n",
    "\n",
    "        #Note 0.2. Check That Data has values - #ERROR This can be deleted quite honestly\n",
    "        if torch.isnan(X).any() or torch.isinf(X).any():\n",
    "            print(\"Data contains NaN or Inf values.\")\n",
    "\n",
    "        #Note 1. Forward pass\n",
    "        logits = model(X)\n",
    "        #Note 1.1 Convert Raw Logit Outputs to y predictions\n",
    "        y_pred = torch.softmax(logits, dim = 1)  #;print(y_pred.shape)\n",
    "        #Note 1.2 Convert y predictions to labels as y hat\n",
    "        y_hat = torch.argmax(y_pred, dim = 1)  #;print(y_hat.shape);print(y_hat)\n",
    "\n",
    "        #Note 2. Loss calculation\n",
    "        loss = loss_fn(logits, y)\n",
    "        #Note 2.1 Cumulatively add up the LOSS per epoch\n",
    "        train_loss += loss\n",
    "        #Note 2.1 Cumulatively add up the ACCURACY per epoch\n",
    "        train_acc += acc_func(y, y_hat)  #this slows down the runtime?\n",
    "\n",
    "        #Note 3. Optimizer zero grad - reset gradients\n",
    "        optimizer.zero_grad()\n",
    "        #Note 4. Loss backward - Backward propagation\n",
    "        loss.backward()\n",
    "        #Note 5. Step the optimizer - optimize\\upgade weight\\biases\\paramters of kernels\n",
    "        optimizer.step()\n",
    "\n",
    "    #Summary: Adjust TRAIN LOSS & ACCURACY for number of batches \n",
    "    #SUMMARY: Meaning -> Divide total TRAIN LOSS & ACC by length of TRAIN DATALOADER = (average loss per batch per epoch)\n",
    "    train_loss /= len(train_dataloader)\n",
    "    train_acc /= len(train_dataloader)\n",
    "\n",
    "    #ii TESTING loop\n",
    "    #Note 0. init Metric Params\n",
    "    test_loss = 0\n",
    "    test_acc = 0\n",
    "    \n",
    "    #Note 1. Put model in eval mode \n",
    "    model.eval()\n",
    "\n",
    "    #Note 1.1 Turn on inference mode - best way currently to do evaluation\n",
    "    with torch.inference_mode():\n",
    "        for batch, (X_test, y_test) in enumerate(test_dataloader):\n",
    "            #Note 2. Make sure test data on CPU\n",
    "            X_test, y_test = X_test.to(device), y_test.to(device)\n",
    "            #Note 3. Forward Pass\n",
    "            logits = model(X_test)\n",
    "            #Note 3.1 Convert Raw Logits (outputs) to y predictions\n",
    "            y_pred = torch.softmax(logits, dim = 1)  #;print(y_pred.shape)\n",
    "            #Note 3.2 Convert y predictions to y labels as y hat\n",
    "            y_hat = torch.argmax(y_pred, dim = 1)\n",
    "\n",
    "            \n",
    "            \n",
    "            #Note 4. Calculate The Loss\n",
    "            loss = loss_fn(logits, y_test)\n",
    "            #Note 4.1 Cumulatively add up the LOSS per epoch (all batches)\n",
    "            test_loss += loss\n",
    "            #Note 4.2 Cumulatively add up the ACCURACY per epoch (all batches)\n",
    "            test_acc += acc_func(y, y_hat)  #this slows down the runtime\n",
    "        \n",
    "        #Summary: Adjust TEST LOSS & ACCURACY for number of batches \n",
    "        #SUMMARY: Meaning -> Divide total TEST LOSS & ACC by length of TEST DATALOADER = (average loss per batch per epoch)\n",
    "        test_loss /= len(test_dataloader)\n",
    "        test_acc /= len(test_dataloader)\n",
    "\n",
    "    # Print out what's happening\n",
    "    print(f\"Epoch: {epoch} | Loss: {train_loss:.3f} | Test loss: {test_loss:.3f} | Train Acc: {train_acc * 100} | Test Acc: {test_acc * 100}\")\n",
    "    \n",
    "    #Note: Tensorboard Logging\n",
    "    #writer.add_scalar(\"Loss/Train\", train_loss, epoch)\n",
    "    #writer.add_scalar(\"Loss/Test\", test_loss, epoch)\n",
    "    #writer.add_scalar(\"Accuracy/Train\", train_acc*100, epoch)\n",
    "    #writer.add_scalar(tag = \"Accuracy/Test\", scalar_value = test_acc*100,global_step =  epoch)\n",
    "    \n",
    "    writer.add_scalars(\"Loss\",{'Train':train_loss},epoch)\n",
    "    writer.add_scalars(\"Loss\",{'Test':test_loss},epoch)\n",
    "\n",
    "    \n",
    "    writer.add_scalars(\"Accuracy\",{'Train':train_acc*100},epoch)\n",
    "    writer.add_scalars(\"Accuracy\",{'Test':test_acc*100},epoch)\n",
    "\n",
    "    writer.add_scalars(\"Train Loss/Accuracy\",{'Loss':train_loss},epoch)\n",
    "    writer.add_scalars(\"Train Loss/Accuracy\",{'Accuracy':train_acc*100},epoch)\n",
    "\n",
    "    writer.add_scalars(\"Test Loss/Accuracy\",{'Loss':test_loss},epoch)\n",
    "    writer.add_scalars(\"Test Loss/Accuracy\",{'Accuracy':test_acc*100},epoch)\n",
    "\n",
    "\n",
    "    #Call flush() method to make sure that all pending events have been written to disk.\n",
    "    writer.flush()\n",
    "\n",
    "writer.close()"
   ],
   "metadata": {
    "collapsed": false,
    "ExecuteTime": {
     "end_time": "2024-06-16T16:11:24.364939Z",
     "start_time": "2024-06-16T16:08:38.711416Z"
    }
   },
   "id": "6e03ff4858895a60"
  },
  {
   "cell_type": "code",
   "execution_count": 120,
   "outputs": [],
   "source": [
    "#Add Model Structure To TensorBoard\n",
    "coeff,y = next(iter(test_dataloader))\n",
    "writer.add_graph(model, coeff.to(device))\n",
    "#writer.close()"
   ],
   "metadata": {
    "collapsed": false,
    "ExecuteTime": {
     "end_time": "2024-06-16T14:48:44.710709Z",
     "start_time": "2024-06-16T14:48:44.249430Z"
    }
   },
   "id": "24b47ab974fa72e4"
  },
  {
   "cell_type": "code",
   "execution_count": 149,
   "outputs": [
    {
     "data": {
      "image/svg+xml": "<?xml version=\"1.0\" encoding=\"UTF-8\" standalone=\"no\"?>\n<!DOCTYPE svg PUBLIC \"-//W3C//DTD SVG 1.1//EN\"\n \"http://www.w3.org/Graphics/SVG/1.1/DTD/svg11.dtd\">\n<!-- Generated by graphviz version 11.0.0 (0)\n -->\n<!-- Title: MLP Pages: 1 -->\n<svg width=\"220pt\" height=\"772pt\"\n viewBox=\"0.00 0.00 220.00 771.75\" xmlns=\"http://www.w3.org/2000/svg\" xmlns:xlink=\"http://www.w3.org/1999/xlink\">\n<g id=\"graph0\" class=\"graph\" transform=\"scale(1 1) rotate(0) translate(4 767.75)\">\n<title>MLP</title>\n<polygon fill=\"white\" stroke=\"none\" points=\"-4,4 -4,-767.75 216,-767.75 216,4 -4,4\"/>\n<g id=\"clust1\" class=\"cluster\">\n<title>cluster_2</title>\n<polygon fill=\"none\" stroke=\"black\" stroke-dasharray=\"5,2\" points=\"15,-565 15,-723.25 197,-723.25 197,-565 15,-565\"/>\n<text text-anchor=\"middle\" x=\"47.75\" y=\"-707.85\" font-family=\"Times,serif\" font-size=\"12.00\">Sequential</text>\n</g>\n<g id=\"clust2\" class=\"cluster\">\n<title>cluster_3</title>\n<polygon fill=\"none\" stroke=\"black\" stroke-dasharray=\"5,2\" points=\"8,-320.75 8,-557 204,-557 204,-320.75 8,-320.75\"/>\n<text text-anchor=\"middle\" x=\"40.75\" y=\"-541.6\" font-family=\"Times,serif\" font-size=\"12.00\">Sequential</text>\n</g>\n<g id=\"clust3\" class=\"cluster\">\n<title>cluster_4</title>\n<polygon fill=\"none\" stroke=\"black\" stroke-dasharray=\"5,2\" points=\"16,-8 16,-312.75 196,-312.75 196,-8 16,-8\"/>\n<text text-anchor=\"middle\" x=\"48.75\" y=\"-297.35\" font-family=\"Times,serif\" font-size=\"12.00\">Sequential</text>\n</g>\n<!-- 0 -->\n<g id=\"node1\" class=\"node\">\n<title>0</title>\n<polygon fill=\"lightyellow\" stroke=\"none\" points=\"174.5,-763.75 37.5,-763.75 37.5,-731.25 174.5,-731.25 174.5,-763.75\"/>\n<polygon fill=\"none\" stroke=\"black\" points=\"37.5,-731.25 37.5,-763.75 98.5,-763.75 98.5,-731.25 37.5,-731.25\"/>\n<text text-anchor=\"start\" x=\"42.5\" y=\"-749.25\" font-family=\"Linux libertine\" font-size=\"10.00\">input&#45;tensor</text>\n<text text-anchor=\"start\" x=\"51.88\" y=\"-738\" font-family=\"Linux libertine\" font-size=\"10.00\">depth:0</text>\n<polygon fill=\"none\" stroke=\"black\" points=\"98.5,-731.25 98.5,-763.75 174.5,-763.75 174.5,-731.25 98.5,-731.25\"/>\n<text text-anchor=\"start\" x=\"103.5\" y=\"-743.62\" font-family=\"Linux libertine\" font-size=\"10.00\">(20, 1, 498, 13)</text>\n</g>\n<!-- 1 -->\n<g id=\"node2\" class=\"node\">\n<title>1</title>\n<polygon fill=\"#c1ffc1\" stroke=\"none\" points=\"188.5,-693 23.5,-693 23.5,-651 188.5,-651 188.5,-693\"/>\n<polygon fill=\"none\" stroke=\"black\" points=\"23.5,-651 23.5,-693 66.5,-693 66.5,-651 23.5,-651\"/>\n<text text-anchor=\"start\" x=\"28.12\" y=\"-673.75\" font-family=\"Linux libertine\" font-size=\"10.00\">Conv2d</text>\n<text text-anchor=\"start\" x=\"28.88\" y=\"-662.5\" font-family=\"Linux libertine\" font-size=\"10.00\">depth:2</text>\n<polygon fill=\"none\" stroke=\"black\" points=\"66.5,-672 66.5,-693 109.5,-693 109.5,-672 66.5,-672\"/>\n<text text-anchor=\"start\" x=\"76\" y=\"-678.5\" font-family=\"Linux libertine\" font-size=\"10.00\">input:</text>\n<polygon fill=\"none\" stroke=\"black\" points=\"109.5,-672 109.5,-693 188.5,-693 188.5,-672 109.5,-672\"/>\n<text text-anchor=\"start\" x=\"114.5\" y=\"-678.5\" font-family=\"Linux libertine\" font-size=\"10.00\">(20, 1, 498, 13) </text>\n<polygon fill=\"none\" stroke=\"black\" points=\"66.5,-651 66.5,-672 109.5,-672 109.5,-651 66.5,-651\"/>\n<text text-anchor=\"start\" x=\"71.5\" y=\"-657.5\" font-family=\"Linux libertine\" font-size=\"10.00\">output: </text>\n<polygon fill=\"none\" stroke=\"black\" points=\"109.5,-651 109.5,-672 188.5,-672 188.5,-651 109.5,-651\"/>\n<text text-anchor=\"start\" x=\"114.5\" y=\"-657.5\" font-family=\"Linux libertine\" font-size=\"10.00\">(20, 80, 442, 8) </text>\n</g>\n<!-- 0&#45;&gt;1 -->\n<g id=\"edge1\" class=\"edge\">\n<title>0&#45;&gt;1</title>\n<path fill=\"none\" stroke=\"black\" d=\"M106,-731.27C106,-723.47 106,-713.66 106,-704.33\"/>\n<polygon fill=\"black\" stroke=\"black\" points=\"109.5,-704.47 106,-694.47 102.5,-704.47 109.5,-704.47\"/>\n</g>\n<!-- 2 -->\n<g id=\"node3\" class=\"node\">\n<title>2</title>\n<polygon fill=\"#c1ffc1\" stroke=\"none\" points=\"188,-615 24,-615 24,-573 188,-573 188,-615\"/>\n<polygon fill=\"none\" stroke=\"black\" points=\"24,-573 24,-615 66,-615 66,-573 24,-573\"/>\n<text text-anchor=\"start\" x=\"32.25\" y=\"-595.75\" font-family=\"Linux libertine\" font-size=\"10.00\">ReLU</text>\n<text text-anchor=\"start\" x=\"28.88\" y=\"-584.5\" font-family=\"Linux libertine\" font-size=\"10.00\">depth:2</text>\n<polygon fill=\"none\" stroke=\"black\" points=\"66,-594 66,-615 109,-615 109,-594 66,-594\"/>\n<text text-anchor=\"start\" x=\"75.5\" y=\"-600.5\" font-family=\"Linux libertine\" font-size=\"10.00\">input:</text>\n<polygon fill=\"none\" stroke=\"black\" points=\"109,-594 109,-615 188,-615 188,-594 109,-594\"/>\n<text text-anchor=\"start\" x=\"114\" y=\"-600.5\" font-family=\"Linux libertine\" font-size=\"10.00\">(20, 80, 442, 8) </text>\n<polygon fill=\"none\" stroke=\"black\" points=\"66,-573 66,-594 109,-594 109,-573 66,-573\"/>\n<text text-anchor=\"start\" x=\"71\" y=\"-579.5\" font-family=\"Linux libertine\" font-size=\"10.00\">output: </text>\n<polygon fill=\"none\" stroke=\"black\" points=\"109,-573 109,-594 188,-594 188,-573 109,-573\"/>\n<text text-anchor=\"start\" x=\"114\" y=\"-579.5\" font-family=\"Linux libertine\" font-size=\"10.00\">(20, 80, 442, 8) </text>\n</g>\n<!-- 1&#45;&gt;2 -->\n<g id=\"edge2\" class=\"edge\">\n<title>1&#45;&gt;2</title>\n<path fill=\"none\" stroke=\"black\" d=\"M106,-651.03C106,-643.44 106,-634.6 106,-626.21\"/>\n<polygon fill=\"black\" stroke=\"black\" points=\"109.5,-626.35 106,-616.35 102.5,-626.35 109.5,-626.35\"/>\n</g>\n<!-- 3 -->\n<g id=\"node4\" class=\"node\">\n<title>3</title>\n<polygon fill=\"#c1ffc1\" stroke=\"none\" points=\"188.5,-526.75 23.5,-526.75 23.5,-484.75 188.5,-484.75 188.5,-526.75\"/>\n<polygon fill=\"none\" stroke=\"black\" points=\"23.5,-484.75 23.5,-526.75 66.5,-526.75 66.5,-484.75 23.5,-484.75\"/>\n<text text-anchor=\"start\" x=\"28.12\" y=\"-507.5\" font-family=\"Linux libertine\" font-size=\"10.00\">Conv2d</text>\n<text text-anchor=\"start\" x=\"28.88\" y=\"-496.25\" font-family=\"Linux libertine\" font-size=\"10.00\">depth:2</text>\n<polygon fill=\"none\" stroke=\"black\" points=\"66.5,-505.75 66.5,-526.75 109.5,-526.75 109.5,-505.75 66.5,-505.75\"/>\n<text text-anchor=\"start\" x=\"76\" y=\"-512.25\" font-family=\"Linux libertine\" font-size=\"10.00\">input:</text>\n<polygon fill=\"none\" stroke=\"black\" points=\"109.5,-505.75 109.5,-526.75 188.5,-526.75 188.5,-505.75 109.5,-505.75\"/>\n<text text-anchor=\"start\" x=\"114.5\" y=\"-512.25\" font-family=\"Linux libertine\" font-size=\"10.00\">(20, 80, 442, 8) </text>\n<polygon fill=\"none\" stroke=\"black\" points=\"66.5,-484.75 66.5,-505.75 109.5,-505.75 109.5,-484.75 66.5,-484.75\"/>\n<text text-anchor=\"start\" x=\"71.5\" y=\"-491.25\" font-family=\"Linux libertine\" font-size=\"10.00\">output: </text>\n<polygon fill=\"none\" stroke=\"black\" points=\"109.5,-484.75 109.5,-505.75 188.5,-505.75 188.5,-484.75 109.5,-484.75\"/>\n<text text-anchor=\"start\" x=\"114.5\" y=\"-491.25\" font-family=\"Linux libertine\" font-size=\"10.00\">(20, 80, 442, 6) </text>\n</g>\n<!-- 2&#45;&gt;3 -->\n<g id=\"edge3\" class=\"edge\">\n<title>2&#45;&gt;3</title>\n<path fill=\"none\" stroke=\"black\" d=\"M106,-573.43C106,-562.92 106,-549.71 106,-537.83\"/>\n<polygon fill=\"black\" stroke=\"black\" points=\"109.5,-538.06 106,-528.06 102.5,-538.06 109.5,-538.06\"/>\n</g>\n<!-- 4 -->\n<g id=\"node5\" class=\"node\">\n<title>4</title>\n<polygon fill=\"#c1ffc1\" stroke=\"none\" points=\"188,-448.75 24,-448.75 24,-406.75 188,-406.75 188,-448.75\"/>\n<polygon fill=\"none\" stroke=\"black\" points=\"24,-406.75 24,-448.75 66,-448.75 66,-406.75 24,-406.75\"/>\n<text text-anchor=\"start\" x=\"32.25\" y=\"-429.5\" font-family=\"Linux libertine\" font-size=\"10.00\">ReLU</text>\n<text text-anchor=\"start\" x=\"28.88\" y=\"-418.25\" font-family=\"Linux libertine\" font-size=\"10.00\">depth:2</text>\n<polygon fill=\"none\" stroke=\"black\" points=\"66,-427.75 66,-448.75 109,-448.75 109,-427.75 66,-427.75\"/>\n<text text-anchor=\"start\" x=\"75.5\" y=\"-434.25\" font-family=\"Linux libertine\" font-size=\"10.00\">input:</text>\n<polygon fill=\"none\" stroke=\"black\" points=\"109,-427.75 109,-448.75 188,-448.75 188,-427.75 109,-427.75\"/>\n<text text-anchor=\"start\" x=\"114\" y=\"-434.25\" font-family=\"Linux libertine\" font-size=\"10.00\">(20, 80, 442, 6) </text>\n<polygon fill=\"none\" stroke=\"black\" points=\"66,-406.75 66,-427.75 109,-427.75 109,-406.75 66,-406.75\"/>\n<text text-anchor=\"start\" x=\"71\" y=\"-413.25\" font-family=\"Linux libertine\" font-size=\"10.00\">output: </text>\n<polygon fill=\"none\" stroke=\"black\" points=\"109,-406.75 109,-427.75 188,-427.75 188,-406.75 109,-406.75\"/>\n<text text-anchor=\"start\" x=\"114\" y=\"-413.25\" font-family=\"Linux libertine\" font-size=\"10.00\">(20, 80, 442, 6) </text>\n</g>\n<!-- 3&#45;&gt;4 -->\n<g id=\"edge4\" class=\"edge\">\n<title>3&#45;&gt;4</title>\n<path fill=\"none\" stroke=\"black\" d=\"M106,-484.78C106,-477.19 106,-468.35 106,-459.96\"/>\n<polygon fill=\"black\" stroke=\"black\" points=\"109.5,-460.1 106,-450.1 102.5,-460.1 109.5,-460.1\"/>\n</g>\n<!-- 5 -->\n<g id=\"node6\" class=\"node\">\n<title>5</title>\n<polygon fill=\"#c1ffc1\" stroke=\"none\" points=\"196,-370.75 16,-370.75 16,-328.75 196,-328.75 196,-370.75\"/>\n<polygon fill=\"none\" stroke=\"black\" points=\"16,-328.75 16,-370.75 74,-370.75 74,-328.75 16,-328.75\"/>\n<text text-anchor=\"start\" x=\"20.62\" y=\"-351.5\" font-family=\"Linux libertine\" font-size=\"10.00\">MaxPool2d</text>\n<text text-anchor=\"start\" x=\"28.88\" y=\"-340.25\" font-family=\"Linux libertine\" font-size=\"10.00\">depth:2</text>\n<polygon fill=\"none\" stroke=\"black\" points=\"74,-349.75 74,-370.75 117,-370.75 117,-349.75 74,-349.75\"/>\n<text text-anchor=\"start\" x=\"83.5\" y=\"-356.25\" font-family=\"Linux libertine\" font-size=\"10.00\">input:</text>\n<polygon fill=\"none\" stroke=\"black\" points=\"117,-349.75 117,-370.75 196,-370.75 196,-349.75 117,-349.75\"/>\n<text text-anchor=\"start\" x=\"122\" y=\"-356.25\" font-family=\"Linux libertine\" font-size=\"10.00\">(20, 80, 442, 6) </text>\n<polygon fill=\"none\" stroke=\"black\" points=\"74,-328.75 74,-349.75 117,-349.75 117,-328.75 74,-328.75\"/>\n<text text-anchor=\"start\" x=\"79\" y=\"-335.25\" font-family=\"Linux libertine\" font-size=\"10.00\">output: </text>\n<polygon fill=\"none\" stroke=\"black\" points=\"117,-328.75 117,-349.75 196,-349.75 196,-328.75 117,-328.75\"/>\n<text text-anchor=\"start\" x=\"122\" y=\"-335.25\" font-family=\"Linux libertine\" font-size=\"10.00\">(20, 80, 442, 2) </text>\n</g>\n<!-- 4&#45;&gt;5 -->\n<g id=\"edge5\" class=\"edge\">\n<title>4&#45;&gt;5</title>\n<path fill=\"none\" stroke=\"black\" d=\"M106,-406.78C106,-399.19 106,-390.35 106,-381.96\"/>\n<polygon fill=\"black\" stroke=\"black\" points=\"109.5,-382.1 106,-372.1 102.5,-382.1 109.5,-382.1\"/>\n</g>\n<!-- 6 -->\n<g id=\"node7\" class=\"node\">\n<title>6</title>\n<polygon fill=\"#c1ffc1\" stroke=\"none\" points=\"188,-282.5 24,-282.5 24,-240.5 188,-240.5 188,-282.5\"/>\n<polygon fill=\"none\" stroke=\"black\" points=\"24,-240.5 24,-282.5 66,-282.5 66,-240.5 24,-240.5\"/>\n<text text-anchor=\"start\" x=\"30\" y=\"-263.25\" font-family=\"Linux libertine\" font-size=\"10.00\">Flatten</text>\n<text text-anchor=\"start\" x=\"28.88\" y=\"-252\" font-family=\"Linux libertine\" font-size=\"10.00\">depth:2</text>\n<polygon fill=\"none\" stroke=\"black\" points=\"66,-261.5 66,-282.5 109,-282.5 109,-261.5 66,-261.5\"/>\n<text text-anchor=\"start\" x=\"75.5\" y=\"-268\" font-family=\"Linux libertine\" font-size=\"10.00\">input:</text>\n<polygon fill=\"none\" stroke=\"black\" points=\"109,-261.5 109,-282.5 188,-282.5 188,-261.5 109,-261.5\"/>\n<text text-anchor=\"start\" x=\"114\" y=\"-268\" font-family=\"Linux libertine\" font-size=\"10.00\">(20, 80, 442, 2) </text>\n<polygon fill=\"none\" stroke=\"black\" points=\"66,-240.5 66,-261.5 109,-261.5 109,-240.5 66,-240.5\"/>\n<text text-anchor=\"start\" x=\"71\" y=\"-247\" font-family=\"Linux libertine\" font-size=\"10.00\">output: </text>\n<polygon fill=\"none\" stroke=\"black\" points=\"109,-240.5 109,-261.5 188,-261.5 188,-240.5 109,-240.5\"/>\n<text text-anchor=\"start\" x=\"122.62\" y=\"-247\" font-family=\"Linux libertine\" font-size=\"10.00\">(20, 70720) </text>\n</g>\n<!-- 5&#45;&gt;6 -->\n<g id=\"edge6\" class=\"edge\">\n<title>5&#45;&gt;6</title>\n<path fill=\"none\" stroke=\"black\" d=\"M106,-329.18C106,-318.67 106,-305.46 106,-293.58\"/>\n<polygon fill=\"black\" stroke=\"black\" points=\"109.5,-293.81 106,-283.81 102.5,-293.81 109.5,-293.81\"/>\n</g>\n<!-- 7 -->\n<g id=\"node8\" class=\"node\">\n<title>7</title>\n<polygon fill=\"#c1ffc1\" stroke=\"none\" points=\"179,-204.5 33,-204.5 33,-162.5 179,-162.5 179,-204.5\"/>\n<polygon fill=\"none\" stroke=\"black\" points=\"33,-162.5 33,-204.5 75,-204.5 75,-162.5 33,-162.5\"/>\n<text text-anchor=\"start\" x=\"40.88\" y=\"-185.25\" font-family=\"Linux libertine\" font-size=\"10.00\">Linear</text>\n<text text-anchor=\"start\" x=\"37.88\" y=\"-174\" font-family=\"Linux libertine\" font-size=\"10.00\">depth:2</text>\n<polygon fill=\"none\" stroke=\"black\" points=\"75,-183.5 75,-204.5 118,-204.5 118,-183.5 75,-183.5\"/>\n<text text-anchor=\"start\" x=\"84.5\" y=\"-190\" font-family=\"Linux libertine\" font-size=\"10.00\">input:</text>\n<polygon fill=\"none\" stroke=\"black\" points=\"118,-183.5 118,-204.5 179,-204.5 179,-183.5 118,-183.5\"/>\n<text text-anchor=\"start\" x=\"122.62\" y=\"-190\" font-family=\"Linux libertine\" font-size=\"10.00\">(20, 70720) </text>\n<polygon fill=\"none\" stroke=\"black\" points=\"75,-162.5 75,-183.5 118,-183.5 118,-162.5 75,-162.5\"/>\n<text text-anchor=\"start\" x=\"80\" y=\"-169\" font-family=\"Linux libertine\" font-size=\"10.00\">output: </text>\n<polygon fill=\"none\" stroke=\"black\" points=\"118,-162.5 118,-183.5 179,-183.5 179,-162.5 118,-162.5\"/>\n<text text-anchor=\"start\" x=\"125.25\" y=\"-169\" font-family=\"Linux libertine\" font-size=\"10.00\">(20, 5000) </text>\n</g>\n<!-- 6&#45;&gt;7 -->\n<g id=\"edge7\" class=\"edge\">\n<title>6&#45;&gt;7</title>\n<path fill=\"none\" stroke=\"black\" d=\"M106,-240.53C106,-232.94 106,-224.1 106,-215.71\"/>\n<polygon fill=\"black\" stroke=\"black\" points=\"109.5,-215.85 106,-205.85 102.5,-215.85 109.5,-215.85\"/>\n</g>\n<!-- 8 -->\n<g id=\"node9\" class=\"node\">\n<title>8</title>\n<polygon fill=\"#c1ffc1\" stroke=\"none\" points=\"176.5,-126.5 35.5,-126.5 35.5,-84.5 176.5,-84.5 176.5,-126.5\"/>\n<polygon fill=\"none\" stroke=\"black\" points=\"35.5,-84.5 35.5,-126.5 77.5,-126.5 77.5,-84.5 35.5,-84.5\"/>\n<text text-anchor=\"start\" x=\"43.38\" y=\"-107.25\" font-family=\"Linux libertine\" font-size=\"10.00\">Linear</text>\n<text text-anchor=\"start\" x=\"40.38\" y=\"-96\" font-family=\"Linux libertine\" font-size=\"10.00\">depth:2</text>\n<polygon fill=\"none\" stroke=\"black\" points=\"77.5,-105.5 77.5,-126.5 120.5,-126.5 120.5,-105.5 77.5,-105.5\"/>\n<text text-anchor=\"start\" x=\"87\" y=\"-112\" font-family=\"Linux libertine\" font-size=\"10.00\">input:</text>\n<polygon fill=\"none\" stroke=\"black\" points=\"120.5,-105.5 120.5,-126.5 176.5,-126.5 176.5,-105.5 120.5,-105.5\"/>\n<text text-anchor=\"start\" x=\"125.25\" y=\"-112\" font-family=\"Linux libertine\" font-size=\"10.00\">(20, 5000) </text>\n<polygon fill=\"none\" stroke=\"black\" points=\"77.5,-84.5 77.5,-105.5 120.5,-105.5 120.5,-84.5 77.5,-84.5\"/>\n<text text-anchor=\"start\" x=\"82.5\" y=\"-91\" font-family=\"Linux libertine\" font-size=\"10.00\">output: </text>\n<polygon fill=\"none\" stroke=\"black\" points=\"120.5,-84.5 120.5,-105.5 176.5,-105.5 176.5,-84.5 120.5,-84.5\"/>\n<text text-anchor=\"start\" x=\"130.5\" y=\"-91\" font-family=\"Linux libertine\" font-size=\"10.00\">(20, 50) </text>\n</g>\n<!-- 7&#45;&gt;8 -->\n<g id=\"edge8\" class=\"edge\">\n<title>7&#45;&gt;8</title>\n<path fill=\"none\" stroke=\"black\" d=\"M106,-162.53C106,-154.94 106,-146.1 106,-137.71\"/>\n<polygon fill=\"black\" stroke=\"black\" points=\"109.5,-137.85 106,-127.85 102.5,-137.85 109.5,-137.85\"/>\n</g>\n<!-- 9 -->\n<g id=\"node10\" class=\"node\">\n<title>9</title>\n<polygon fill=\"lightyellow\" stroke=\"none\" points=\"161,-48.5 51,-48.5 51,-16 161,-16 161,-48.5\"/>\n<polygon fill=\"none\" stroke=\"black\" points=\"51,-16 51,-48.5 118,-48.5 118,-16 51,-16\"/>\n<text text-anchor=\"start\" x=\"56\" y=\"-34\" font-family=\"Linux libertine\" font-size=\"10.00\">output&#45;tensor</text>\n<text text-anchor=\"start\" x=\"68.38\" y=\"-22.75\" font-family=\"Linux libertine\" font-size=\"10.00\">depth:0</text>\n<polygon fill=\"none\" stroke=\"black\" points=\"118,-16 118,-48.5 161,-48.5 161,-16 118,-16\"/>\n<text text-anchor=\"start\" x=\"123\" y=\"-28.38\" font-family=\"Linux libertine\" font-size=\"10.00\">(20, 50)</text>\n</g>\n<!-- 8&#45;&gt;9 -->\n<g id=\"edge9\" class=\"edge\">\n<title>8&#45;&gt;9</title>\n<path fill=\"none\" stroke=\"black\" d=\"M106,-84.65C106,-76.91 106,-67.91 106,-59.63\"/>\n<polygon fill=\"black\" stroke=\"black\" points=\"109.5,-59.76 106,-49.76 102.5,-59.76 109.5,-59.76\"/>\n</g>\n</g>\n</svg>\n",
      "text/plain": "<graphviz.graphs.Digraph at 0x17b0a04d0>"
     },
     "execution_count": 149,
     "metadata": {},
     "output_type": "execute_result"
    }
   ],
   "source": [
    "\n",
    "#Summary: Plot The Model Structure & Sizes\n",
    "from torchview import draw_graph\n",
    "viz_model = PiczakRec(0,0,0,0,0,0,0,0)\n",
    "N = 20;C = 1;H=498;W = 13\n",
    "input_data = torch.randn(N,C,H,W)\n",
    "model_graph = draw_graph(viz_model,input_data,expand_nested=True, roll=True,graph_name='MLP',hide_inner_tensors=True,hide_module_functions=True)\n",
    "model_graph.visual_graph"
   ],
   "metadata": {
    "collapsed": false,
    "ExecuteTime": {
     "end_time": "2024-06-16T15:56:57.769671Z",
     "start_time": "2024-06-16T15:56:56.277973Z"
    }
   },
   "id": "721841eaa5742c15"
  },
  {
   "cell_type": "code",
   "execution_count": 140,
   "outputs": [
    {
     "data": {
      "image/svg+xml": "<?xml version=\"1.0\" encoding=\"UTF-8\" standalone=\"no\"?>\n<!DOCTYPE svg PUBLIC \"-//W3C//DTD SVG 1.1//EN\"\n \"http://www.w3.org/Graphics/SVG/1.1/DTD/svg11.dtd\">\n<!-- Generated by graphviz version 11.0.0 (0)\n -->\n<!-- Title: MLP Pages: 1 -->\n<svg width=\"240pt\" height=\"1026pt\"\n viewBox=\"0.00 0.00 240.00 1026.00\" xmlns=\"http://www.w3.org/2000/svg\" xmlns:xlink=\"http://www.w3.org/1999/xlink\">\n<g id=\"graph0\" class=\"graph\" transform=\"scale(1 1) rotate(0) translate(4 1022)\">\n<title>MLP</title>\n<polygon fill=\"white\" stroke=\"none\" points=\"-4,4 -4,-1022 236,-1022 236,4 -4,4\"/>\n<g id=\"clust1\" class=\"cluster\">\n<title>cluster_2</title>\n<polygon fill=\"none\" stroke=\"black\" stroke-dasharray=\"5,2\" points=\"18,-770.75 18,-977.5 214,-977.5 214,-770.75 18,-770.75\"/>\n<text text-anchor=\"middle\" x=\"50.75\" y=\"-962.1\" font-family=\"Times,serif\" font-size=\"12.00\">Sequential</text>\n</g>\n<g id=\"clust2\" class=\"cluster\">\n<title>cluster_3</title>\n<polygon fill=\"none\" stroke=\"black\" stroke-dasharray=\"5,2\" points=\"26,-867 26,-947.25 206,-947.25 206,-867 26,-867\"/>\n<text text-anchor=\"middle\" x=\"53.12\" y=\"-931.85\" font-family=\"Times,serif\" font-size=\"12.00\">Conv2d</text>\n</g>\n<g id=\"clust3\" class=\"cluster\">\n<title>cluster_4</title>\n<polygon fill=\"none\" stroke=\"black\" stroke-dasharray=\"5,2\" points=\"26,-778.75 26,-859 206,-859 206,-778.75 26,-778.75\"/>\n<text text-anchor=\"middle\" x=\"49\" y=\"-843.6\" font-family=\"Times,serif\" font-size=\"12.00\">ReLU</text>\n</g>\n<g id=\"clust4\" class=\"cluster\">\n<title>cluster_5</title>\n<polygon fill=\"none\" stroke=\"black\" stroke-dasharray=\"5,2\" points=\"8,-467.75 8,-762.75 224,-762.75 224,-467.75 8,-467.75\"/>\n<text text-anchor=\"middle\" x=\"40.75\" y=\"-747.35\" font-family=\"Times,serif\" font-size=\"12.00\">Sequential</text>\n</g>\n<g id=\"clust5\" class=\"cluster\">\n<title>cluster_6</title>\n<polygon fill=\"none\" stroke=\"black\" stroke-dasharray=\"5,2\" points=\"26,-652.25 26,-732.5 206,-732.5 206,-652.25 26,-652.25\"/>\n<text text-anchor=\"middle\" x=\"53.12\" y=\"-717.1\" font-family=\"Times,serif\" font-size=\"12.00\">Conv2d</text>\n</g>\n<g id=\"clust6\" class=\"cluster\">\n<title>cluster_7</title>\n<polygon fill=\"none\" stroke=\"black\" stroke-dasharray=\"5,2\" points=\"26,-564 26,-644.25 206,-644.25 206,-564 26,-564\"/>\n<text text-anchor=\"middle\" x=\"49\" y=\"-628.85\" font-family=\"Times,serif\" font-size=\"12.00\">ReLU</text>\n</g>\n<g id=\"clust7\" class=\"cluster\">\n<title>cluster_8</title>\n<polygon fill=\"none\" stroke=\"black\" stroke-dasharray=\"5,2\" points=\"16,-475.75 16,-556 216,-556 216,-475.75 16,-475.75\"/>\n<text text-anchor=\"middle\" x=\"51.75\" y=\"-540.6\" font-family=\"Times,serif\" font-size=\"12.00\">MaxPool2d</text>\n</g>\n<g id=\"clust8\" class=\"cluster\">\n<title>cluster_9</title>\n<polygon fill=\"none\" stroke=\"black\" stroke-dasharray=\"5,2\" points=\"18,-8 18,-459.75 214,-459.75 214,-8 18,-8\"/>\n<text text-anchor=\"middle\" x=\"50.75\" y=\"-444.35\" font-family=\"Times,serif\" font-size=\"12.00\">Sequential</text>\n</g>\n<g id=\"clust9\" class=\"cluster\">\n<title>cluster_10</title>\n<polygon fill=\"none\" stroke=\"black\" stroke-dasharray=\"5,2\" points=\"26,-349.25 26,-429.5 206,-429.5 206,-349.25 26,-349.25\"/>\n<text text-anchor=\"middle\" x=\"50.12\" y=\"-414.1\" font-family=\"Times,serif\" font-size=\"12.00\">Flatten</text>\n</g>\n<g id=\"clust10\" class=\"cluster\">\n<title>cluster_11</title>\n<polygon fill=\"none\" stroke=\"black\" stroke-dasharray=\"5,2\" points=\"35,-261 35,-341.25 197,-341.25 197,-261 35,-261\"/>\n<text text-anchor=\"middle\" x=\"58.38\" y=\"-325.85\" font-family=\"Times,serif\" font-size=\"12.00\">Linear</text>\n</g>\n<g id=\"clust11\" class=\"cluster\">\n<title>cluster_12</title>\n<polygon fill=\"none\" stroke=\"black\" stroke-dasharray=\"5,2\" points=\"37,-172.75 37,-253 195,-253 195,-172.75 37,-172.75\"/>\n<text text-anchor=\"middle\" x=\"60.38\" y=\"-237.6\" font-family=\"Times,serif\" font-size=\"12.00\">Linear</text>\n</g>\n<g id=\"clust12\" class=\"cluster\">\n<title>cluster_13</title>\n<polygon fill=\"none\" stroke=\"black\" stroke-dasharray=\"5,2\" points=\"37,-16 37,-164.75 195,-164.75 195,-16 37,-16\"/>\n<text text-anchor=\"middle\" x=\"60.38\" y=\"-149.35\" font-family=\"Times,serif\" font-size=\"12.00\">Linear</text>\n</g>\n<!-- 0 -->\n<g id=\"node1\" class=\"node\">\n<title>0</title>\n<polygon fill=\"lightyellow\" stroke=\"none\" points=\"184.5,-1018 47.5,-1018 47.5,-985.5 184.5,-985.5 184.5,-1018\"/>\n<polygon fill=\"none\" stroke=\"black\" points=\"47.5,-985.5 47.5,-1018 108.5,-1018 108.5,-985.5 47.5,-985.5\"/>\n<text text-anchor=\"start\" x=\"52.5\" y=\"-1003.5\" font-family=\"Linux libertine\" font-size=\"10.00\">input&#45;tensor</text>\n<text text-anchor=\"start\" x=\"61.88\" y=\"-992.25\" font-family=\"Linux libertine\" font-size=\"10.00\">depth:0</text>\n<polygon fill=\"none\" stroke=\"black\" points=\"108.5,-985.5 108.5,-1018 184.5,-1018 184.5,-985.5 108.5,-985.5\"/>\n<text text-anchor=\"start\" x=\"113.5\" y=\"-997.88\" font-family=\"Linux libertine\" font-size=\"10.00\">(20, 1, 498, 13)</text>\n</g>\n<!-- 1 -->\n<g id=\"node2\" class=\"node\">\n<title>1</title>\n<polygon fill=\"aliceblue\" stroke=\"none\" points=\"198,-917 34,-917 34,-875 198,-875 198,-917\"/>\n<polygon fill=\"none\" stroke=\"black\" points=\"34,-875 34,-917 76,-917 76,-875 34,-875\"/>\n<text text-anchor=\"start\" x=\"39.25\" y=\"-897.75\" font-family=\"Linux libertine\" font-size=\"10.00\">conv2d</text>\n<text text-anchor=\"start\" x=\"38.88\" y=\"-886.5\" font-family=\"Linux libertine\" font-size=\"10.00\">depth:3</text>\n<polygon fill=\"none\" stroke=\"black\" points=\"76,-896 76,-917 119,-917 119,-896 76,-896\"/>\n<text text-anchor=\"start\" x=\"85.5\" y=\"-902.5\" font-family=\"Linux libertine\" font-size=\"10.00\">input:</text>\n<polygon fill=\"none\" stroke=\"black\" points=\"119,-896 119,-917 198,-917 198,-896 119,-896\"/>\n<text text-anchor=\"start\" x=\"124\" y=\"-902.5\" font-family=\"Linux libertine\" font-size=\"10.00\">(20, 1, 498, 13) </text>\n<polygon fill=\"none\" stroke=\"black\" points=\"76,-875 76,-896 119,-896 119,-875 76,-875\"/>\n<text text-anchor=\"start\" x=\"81\" y=\"-881.5\" font-family=\"Linux libertine\" font-size=\"10.00\">output: </text>\n<polygon fill=\"none\" stroke=\"black\" points=\"119,-875 119,-896 198,-896 198,-875 119,-875\"/>\n<text text-anchor=\"start\" x=\"124\" y=\"-881.5\" font-family=\"Linux libertine\" font-size=\"10.00\">(20, 80, 442, 8) </text>\n</g>\n<!-- 0&#45;&gt;1 -->\n<g id=\"edge1\" class=\"edge\">\n<title>0&#45;&gt;1</title>\n<path fill=\"none\" stroke=\"black\" d=\"M116,-985.89C116,-970.92 116,-947.39 116,-928.29\"/>\n<polygon fill=\"black\" stroke=\"black\" points=\"119.5,-928.32 116,-918.32 112.5,-928.32 119.5,-928.32\"/>\n</g>\n<!-- 2 -->\n<g id=\"node3\" class=\"node\">\n<title>2</title>\n<polygon fill=\"aliceblue\" stroke=\"none\" points=\"198,-828.75 34,-828.75 34,-786.75 198,-786.75 198,-828.75\"/>\n<polygon fill=\"none\" stroke=\"black\" points=\"34,-786.75 34,-828.75 76,-828.75 76,-786.75 34,-786.75\"/>\n<text text-anchor=\"start\" x=\"47.12\" y=\"-809.5\" font-family=\"Linux libertine\" font-size=\"10.00\">relu</text>\n<text text-anchor=\"start\" x=\"38.88\" y=\"-798.25\" font-family=\"Linux libertine\" font-size=\"10.00\">depth:3</text>\n<polygon fill=\"none\" stroke=\"black\" points=\"76,-807.75 76,-828.75 119,-828.75 119,-807.75 76,-807.75\"/>\n<text text-anchor=\"start\" x=\"85.5\" y=\"-814.25\" font-family=\"Linux libertine\" font-size=\"10.00\">input:</text>\n<polygon fill=\"none\" stroke=\"black\" points=\"119,-807.75 119,-828.75 198,-828.75 198,-807.75 119,-807.75\"/>\n<text text-anchor=\"start\" x=\"124\" y=\"-814.25\" font-family=\"Linux libertine\" font-size=\"10.00\">(20, 80, 442, 8) </text>\n<polygon fill=\"none\" stroke=\"black\" points=\"76,-786.75 76,-807.75 119,-807.75 119,-786.75 76,-786.75\"/>\n<text text-anchor=\"start\" x=\"81\" y=\"-793.25\" font-family=\"Linux libertine\" font-size=\"10.00\">output: </text>\n<polygon fill=\"none\" stroke=\"black\" points=\"119,-786.75 119,-807.75 198,-807.75 198,-786.75 119,-786.75\"/>\n<text text-anchor=\"start\" x=\"124\" y=\"-793.25\" font-family=\"Linux libertine\" font-size=\"10.00\">(20, 80, 442, 8) </text>\n</g>\n<!-- 1&#45;&gt;2 -->\n<g id=\"edge2\" class=\"edge\">\n<title>1&#45;&gt;2</title>\n<path fill=\"none\" stroke=\"black\" d=\"M116,-875.43C116,-864.92 116,-851.71 116,-839.83\"/>\n<polygon fill=\"black\" stroke=\"black\" points=\"119.5,-840.06 116,-830.06 112.5,-840.06 119.5,-840.06\"/>\n</g>\n<!-- 3 -->\n<g id=\"node4\" class=\"node\">\n<title>3</title>\n<polygon fill=\"aliceblue\" stroke=\"none\" points=\"198,-702.25 34,-702.25 34,-660.25 198,-660.25 198,-702.25\"/>\n<polygon fill=\"none\" stroke=\"black\" points=\"34,-660.25 34,-702.25 76,-702.25 76,-660.25 34,-660.25\"/>\n<text text-anchor=\"start\" x=\"39.25\" y=\"-683\" font-family=\"Linux libertine\" font-size=\"10.00\">conv2d</text>\n<text text-anchor=\"start\" x=\"38.88\" y=\"-671.75\" font-family=\"Linux libertine\" font-size=\"10.00\">depth:3</text>\n<polygon fill=\"none\" stroke=\"black\" points=\"76,-681.25 76,-702.25 119,-702.25 119,-681.25 76,-681.25\"/>\n<text text-anchor=\"start\" x=\"85.5\" y=\"-687.75\" font-family=\"Linux libertine\" font-size=\"10.00\">input:</text>\n<polygon fill=\"none\" stroke=\"black\" points=\"119,-681.25 119,-702.25 198,-702.25 198,-681.25 119,-681.25\"/>\n<text text-anchor=\"start\" x=\"124\" y=\"-687.75\" font-family=\"Linux libertine\" font-size=\"10.00\">(20, 80, 442, 8) </text>\n<polygon fill=\"none\" stroke=\"black\" points=\"76,-660.25 76,-681.25 119,-681.25 119,-660.25 76,-660.25\"/>\n<text text-anchor=\"start\" x=\"81\" y=\"-666.75\" font-family=\"Linux libertine\" font-size=\"10.00\">output: </text>\n<polygon fill=\"none\" stroke=\"black\" points=\"119,-660.25 119,-681.25 198,-681.25 198,-660.25 119,-660.25\"/>\n<text text-anchor=\"start\" x=\"124\" y=\"-666.75\" font-family=\"Linux libertine\" font-size=\"10.00\">(20, 80, 442, 6) </text>\n</g>\n<!-- 2&#45;&gt;3 -->\n<g id=\"edge3\" class=\"edge\">\n<title>2&#45;&gt;3</title>\n<path fill=\"none\" stroke=\"black\" d=\"M116,-787.02C116,-767.17 116,-736.27 116,-713.16\"/>\n<polygon fill=\"black\" stroke=\"black\" points=\"119.5,-713.4 116,-703.4 112.5,-713.4 119.5,-713.4\"/>\n</g>\n<!-- 4 -->\n<g id=\"node5\" class=\"node\">\n<title>4</title>\n<polygon fill=\"aliceblue\" stroke=\"none\" points=\"198,-614 34,-614 34,-572 198,-572 198,-614\"/>\n<polygon fill=\"none\" stroke=\"black\" points=\"34,-572 34,-614 76,-614 76,-572 34,-572\"/>\n<text text-anchor=\"start\" x=\"47.12\" y=\"-594.75\" font-family=\"Linux libertine\" font-size=\"10.00\">relu</text>\n<text text-anchor=\"start\" x=\"38.88\" y=\"-583.5\" font-family=\"Linux libertine\" font-size=\"10.00\">depth:3</text>\n<polygon fill=\"none\" stroke=\"black\" points=\"76,-593 76,-614 119,-614 119,-593 76,-593\"/>\n<text text-anchor=\"start\" x=\"85.5\" y=\"-599.5\" font-family=\"Linux libertine\" font-size=\"10.00\">input:</text>\n<polygon fill=\"none\" stroke=\"black\" points=\"119,-593 119,-614 198,-614 198,-593 119,-593\"/>\n<text text-anchor=\"start\" x=\"124\" y=\"-599.5\" font-family=\"Linux libertine\" font-size=\"10.00\">(20, 80, 442, 6) </text>\n<polygon fill=\"none\" stroke=\"black\" points=\"76,-572 76,-593 119,-593 119,-572 76,-572\"/>\n<text text-anchor=\"start\" x=\"81\" y=\"-578.5\" font-family=\"Linux libertine\" font-size=\"10.00\">output: </text>\n<polygon fill=\"none\" stroke=\"black\" points=\"119,-572 119,-593 198,-593 198,-572 119,-572\"/>\n<text text-anchor=\"start\" x=\"124\" y=\"-578.5\" font-family=\"Linux libertine\" font-size=\"10.00\">(20, 80, 442, 6) </text>\n</g>\n<!-- 3&#45;&gt;4 -->\n<g id=\"edge4\" class=\"edge\">\n<title>3&#45;&gt;4</title>\n<path fill=\"none\" stroke=\"black\" d=\"M116,-660.68C116,-650.17 116,-636.96 116,-625.08\"/>\n<polygon fill=\"black\" stroke=\"black\" points=\"119.5,-625.31 116,-615.31 112.5,-625.31 119.5,-625.31\"/>\n</g>\n<!-- 5 -->\n<g id=\"node6\" class=\"node\">\n<title>5</title>\n<polygon fill=\"aliceblue\" stroke=\"none\" points=\"208,-525.75 24,-525.75 24,-483.75 208,-483.75 208,-525.75\"/>\n<polygon fill=\"none\" stroke=\"black\" points=\"24,-483.75 24,-525.75 86,-525.75 86,-483.75 24,-483.75\"/>\n<text text-anchor=\"start\" x=\"28.75\" y=\"-506.5\" font-family=\"Linux libertine\" font-size=\"10.00\">max_pool2d</text>\n<text text-anchor=\"start\" x=\"38.88\" y=\"-495.25\" font-family=\"Linux libertine\" font-size=\"10.00\">depth:3</text>\n<polygon fill=\"none\" stroke=\"black\" points=\"86,-504.75 86,-525.75 129,-525.75 129,-504.75 86,-504.75\"/>\n<text text-anchor=\"start\" x=\"95.5\" y=\"-511.25\" font-family=\"Linux libertine\" font-size=\"10.00\">input:</text>\n<polygon fill=\"none\" stroke=\"black\" points=\"129,-504.75 129,-525.75 208,-525.75 208,-504.75 129,-504.75\"/>\n<text text-anchor=\"start\" x=\"134\" y=\"-511.25\" font-family=\"Linux libertine\" font-size=\"10.00\">(20, 80, 442, 6) </text>\n<polygon fill=\"none\" stroke=\"black\" points=\"86,-483.75 86,-504.75 129,-504.75 129,-483.75 86,-483.75\"/>\n<text text-anchor=\"start\" x=\"91\" y=\"-490.25\" font-family=\"Linux libertine\" font-size=\"10.00\">output: </text>\n<polygon fill=\"none\" stroke=\"black\" points=\"129,-483.75 129,-504.75 208,-504.75 208,-483.75 129,-483.75\"/>\n<text text-anchor=\"start\" x=\"134\" y=\"-490.25\" font-family=\"Linux libertine\" font-size=\"10.00\">(20, 80, 442, 2) </text>\n</g>\n<!-- 4&#45;&gt;5 -->\n<g id=\"edge5\" class=\"edge\">\n<title>4&#45;&gt;5</title>\n<path fill=\"none\" stroke=\"black\" d=\"M116,-572.43C116,-561.92 116,-548.71 116,-536.83\"/>\n<polygon fill=\"black\" stroke=\"black\" points=\"119.5,-537.06 116,-527.06 112.5,-537.06 119.5,-537.06\"/>\n</g>\n<!-- 6 -->\n<g id=\"node7\" class=\"node\">\n<title>6</title>\n<polygon fill=\"aliceblue\" stroke=\"none\" points=\"198,-399.25 34,-399.25 34,-357.25 198,-357.25 198,-399.25\"/>\n<polygon fill=\"none\" stroke=\"black\" points=\"34,-357.25 34,-399.25 76,-399.25 76,-357.25 34,-357.25\"/>\n<text text-anchor=\"start\" x=\"41.5\" y=\"-380\" font-family=\"Linux libertine\" font-size=\"10.00\">flatten</text>\n<text text-anchor=\"start\" x=\"38.88\" y=\"-368.75\" font-family=\"Linux libertine\" font-size=\"10.00\">depth:3</text>\n<polygon fill=\"none\" stroke=\"black\" points=\"76,-378.25 76,-399.25 119,-399.25 119,-378.25 76,-378.25\"/>\n<text text-anchor=\"start\" x=\"85.5\" y=\"-384.75\" font-family=\"Linux libertine\" font-size=\"10.00\">input:</text>\n<polygon fill=\"none\" stroke=\"black\" points=\"119,-378.25 119,-399.25 198,-399.25 198,-378.25 119,-378.25\"/>\n<text text-anchor=\"start\" x=\"124\" y=\"-384.75\" font-family=\"Linux libertine\" font-size=\"10.00\">(20, 80, 442, 2) </text>\n<polygon fill=\"none\" stroke=\"black\" points=\"76,-357.25 76,-378.25 119,-378.25 119,-357.25 76,-357.25\"/>\n<text text-anchor=\"start\" x=\"81\" y=\"-363.75\" font-family=\"Linux libertine\" font-size=\"10.00\">output: </text>\n<polygon fill=\"none\" stroke=\"black\" points=\"119,-357.25 119,-378.25 198,-378.25 198,-357.25 119,-357.25\"/>\n<text text-anchor=\"start\" x=\"132.62\" y=\"-363.75\" font-family=\"Linux libertine\" font-size=\"10.00\">(20, 70720) </text>\n</g>\n<!-- 5&#45;&gt;6 -->\n<g id=\"edge6\" class=\"edge\">\n<title>5&#45;&gt;6</title>\n<path fill=\"none\" stroke=\"black\" d=\"M116,-484.02C116,-464.17 116,-433.27 116,-410.16\"/>\n<polygon fill=\"black\" stroke=\"black\" points=\"119.5,-410.4 116,-400.4 112.5,-410.4 119.5,-410.4\"/>\n</g>\n<!-- 7 -->\n<g id=\"node8\" class=\"node\">\n<title>7</title>\n<polygon fill=\"aliceblue\" stroke=\"none\" points=\"189,-311 43,-311 43,-269 189,-269 189,-311\"/>\n<polygon fill=\"none\" stroke=\"black\" points=\"43,-269 43,-311 85,-311 85,-269 43,-269\"/>\n<text text-anchor=\"start\" x=\"52.38\" y=\"-291.75\" font-family=\"Linux libertine\" font-size=\"10.00\">linear</text>\n<text text-anchor=\"start\" x=\"47.88\" y=\"-280.5\" font-family=\"Linux libertine\" font-size=\"10.00\">depth:3</text>\n<polygon fill=\"none\" stroke=\"black\" points=\"85,-290 85,-311 128,-311 128,-290 85,-290\"/>\n<text text-anchor=\"start\" x=\"94.5\" y=\"-296.5\" font-family=\"Linux libertine\" font-size=\"10.00\">input:</text>\n<polygon fill=\"none\" stroke=\"black\" points=\"128,-290 128,-311 189,-311 189,-290 128,-290\"/>\n<text text-anchor=\"start\" x=\"132.62\" y=\"-296.5\" font-family=\"Linux libertine\" font-size=\"10.00\">(20, 70720) </text>\n<polygon fill=\"none\" stroke=\"black\" points=\"85,-269 85,-290 128,-290 128,-269 85,-269\"/>\n<text text-anchor=\"start\" x=\"90\" y=\"-275.5\" font-family=\"Linux libertine\" font-size=\"10.00\">output: </text>\n<polygon fill=\"none\" stroke=\"black\" points=\"128,-269 128,-290 189,-290 189,-269 128,-269\"/>\n<text text-anchor=\"start\" x=\"135.25\" y=\"-275.5\" font-family=\"Linux libertine\" font-size=\"10.00\">(20, 5000) </text>\n</g>\n<!-- 6&#45;&gt;7 -->\n<g id=\"edge7\" class=\"edge\">\n<title>6&#45;&gt;7</title>\n<path fill=\"none\" stroke=\"black\" d=\"M116,-357.68C116,-347.17 116,-333.96 116,-322.08\"/>\n<polygon fill=\"black\" stroke=\"black\" points=\"119.5,-322.31 116,-312.31 112.5,-322.31 119.5,-322.31\"/>\n</g>\n<!-- 8 -->\n<g id=\"node9\" class=\"node\">\n<title>8</title>\n<polygon fill=\"aliceblue\" stroke=\"none\" points=\"186.5,-222.75 45.5,-222.75 45.5,-180.75 186.5,-180.75 186.5,-222.75\"/>\n<polygon fill=\"none\" stroke=\"black\" points=\"45.5,-180.75 45.5,-222.75 87.5,-222.75 87.5,-180.75 45.5,-180.75\"/>\n<text text-anchor=\"start\" x=\"54.88\" y=\"-203.5\" font-family=\"Linux libertine\" font-size=\"10.00\">linear</text>\n<text text-anchor=\"start\" x=\"50.38\" y=\"-192.25\" font-family=\"Linux libertine\" font-size=\"10.00\">depth:3</text>\n<polygon fill=\"none\" stroke=\"black\" points=\"87.5,-201.75 87.5,-222.75 130.5,-222.75 130.5,-201.75 87.5,-201.75\"/>\n<text text-anchor=\"start\" x=\"97\" y=\"-208.25\" font-family=\"Linux libertine\" font-size=\"10.00\">input:</text>\n<polygon fill=\"none\" stroke=\"black\" points=\"130.5,-201.75 130.5,-222.75 186.5,-222.75 186.5,-201.75 130.5,-201.75\"/>\n<text text-anchor=\"start\" x=\"135.25\" y=\"-208.25\" font-family=\"Linux libertine\" font-size=\"10.00\">(20, 5000) </text>\n<polygon fill=\"none\" stroke=\"black\" points=\"87.5,-180.75 87.5,-201.75 130.5,-201.75 130.5,-180.75 87.5,-180.75\"/>\n<text text-anchor=\"start\" x=\"92.5\" y=\"-187.25\" font-family=\"Linux libertine\" font-size=\"10.00\">output: </text>\n<polygon fill=\"none\" stroke=\"black\" points=\"130.5,-180.75 130.5,-201.75 186.5,-201.75 186.5,-180.75 130.5,-180.75\"/>\n<text text-anchor=\"start\" x=\"135.25\" y=\"-187.25\" font-family=\"Linux libertine\" font-size=\"10.00\">(20, 5000) </text>\n</g>\n<!-- 7&#45;&gt;8 -->\n<g id=\"edge8\" class=\"edge\">\n<title>7&#45;&gt;8</title>\n<path fill=\"none\" stroke=\"black\" d=\"M116,-269.43C116,-258.92 116,-245.71 116,-233.83\"/>\n<polygon fill=\"black\" stroke=\"black\" points=\"119.5,-234.06 116,-224.06 112.5,-234.06 119.5,-234.06\"/>\n</g>\n<!-- 9 -->\n<g id=\"node10\" class=\"node\">\n<title>9</title>\n<polygon fill=\"aliceblue\" stroke=\"none\" points=\"186.5,-134.5 45.5,-134.5 45.5,-92.5 186.5,-92.5 186.5,-134.5\"/>\n<polygon fill=\"none\" stroke=\"black\" points=\"45.5,-92.5 45.5,-134.5 87.5,-134.5 87.5,-92.5 45.5,-92.5\"/>\n<text text-anchor=\"start\" x=\"54.88\" y=\"-115.25\" font-family=\"Linux libertine\" font-size=\"10.00\">linear</text>\n<text text-anchor=\"start\" x=\"50.38\" y=\"-104\" font-family=\"Linux libertine\" font-size=\"10.00\">depth:3</text>\n<polygon fill=\"none\" stroke=\"black\" points=\"87.5,-113.5 87.5,-134.5 130.5,-134.5 130.5,-113.5 87.5,-113.5\"/>\n<text text-anchor=\"start\" x=\"97\" y=\"-120\" font-family=\"Linux libertine\" font-size=\"10.00\">input:</text>\n<polygon fill=\"none\" stroke=\"black\" points=\"130.5,-113.5 130.5,-134.5 186.5,-134.5 186.5,-113.5 130.5,-113.5\"/>\n<text text-anchor=\"start\" x=\"135.25\" y=\"-120\" font-family=\"Linux libertine\" font-size=\"10.00\">(20, 5000) </text>\n<polygon fill=\"none\" stroke=\"black\" points=\"87.5,-92.5 87.5,-113.5 130.5,-113.5 130.5,-92.5 87.5,-92.5\"/>\n<text text-anchor=\"start\" x=\"92.5\" y=\"-99\" font-family=\"Linux libertine\" font-size=\"10.00\">output: </text>\n<polygon fill=\"none\" stroke=\"black\" points=\"130.5,-92.5 130.5,-113.5 186.5,-113.5 186.5,-92.5 130.5,-92.5\"/>\n<text text-anchor=\"start\" x=\"140.5\" y=\"-99\" font-family=\"Linux libertine\" font-size=\"10.00\">(20, 50) </text>\n</g>\n<!-- 8&#45;&gt;9 -->\n<g id=\"edge9\" class=\"edge\">\n<title>8&#45;&gt;9</title>\n<path fill=\"none\" stroke=\"black\" d=\"M116,-181.18C116,-170.67 116,-157.46 116,-145.58\"/>\n<polygon fill=\"black\" stroke=\"black\" points=\"119.5,-145.81 116,-135.81 112.5,-145.81 119.5,-145.81\"/>\n</g>\n<!-- 10 -->\n<g id=\"node11\" class=\"node\">\n<title>10</title>\n<polygon fill=\"lightyellow\" stroke=\"none\" points=\"171,-56.5 61,-56.5 61,-24 171,-24 171,-56.5\"/>\n<polygon fill=\"none\" stroke=\"black\" points=\"61,-24 61,-56.5 128,-56.5 128,-24 61,-24\"/>\n<text text-anchor=\"start\" x=\"66\" y=\"-42\" font-family=\"Linux libertine\" font-size=\"10.00\">output&#45;tensor</text>\n<text text-anchor=\"start\" x=\"78.38\" y=\"-30.75\" font-family=\"Linux libertine\" font-size=\"10.00\">depth:0</text>\n<polygon fill=\"none\" stroke=\"black\" points=\"128,-24 128,-56.5 171,-56.5 171,-24 128,-24\"/>\n<text text-anchor=\"start\" x=\"133\" y=\"-36.38\" font-family=\"Linux libertine\" font-size=\"10.00\">(20, 50)</text>\n</g>\n<!-- 9&#45;&gt;10 -->\n<g id=\"edge10\" class=\"edge\">\n<title>9&#45;&gt;10</title>\n<path fill=\"none\" stroke=\"black\" d=\"M116,-92.65C116,-84.91 116,-75.91 116,-67.63\"/>\n<polygon fill=\"black\" stroke=\"black\" points=\"119.5,-67.76 116,-57.76 112.5,-67.76 119.5,-67.76\"/>\n</g>\n</g>\n</svg>\n",
      "text/plain": "<graphviz.graphs.Digraph at 0x17b5d7a10>"
     },
     "execution_count": 140,
     "metadata": {},
     "output_type": "execute_result"
    }
   ],
   "source": [
    "model_graph = draw_graph(viz_model,input_data,expand_nested=True, roll=True,graph_name='MLP',hide_inner_tensors=True,hide_module_functions=False)\n",
    "model_graph.visual_graph"
   ],
   "metadata": {
    "collapsed": false,
    "ExecuteTime": {
     "end_time": "2024-06-16T15:28:49.494254Z",
     "start_time": "2024-06-16T15:28:49.275869Z"
    }
   },
   "id": "8921d8777315dc75"
  },
  {
   "cell_type": "code",
   "execution_count": 86,
   "outputs": [],
   "source": [
    "#acc_funcc = Accuracy(task=\"multiclass\", num_classes=3)\n",
    "#acc_funcc(torch.Tensor([1,2,3,3]),torch.Tensor([1,2,3,9]))*100"
   ],
   "metadata": {
    "collapsed": false,
    "ExecuteTime": {
     "end_time": "2024-06-16T12:25:23.559591Z",
     "start_time": "2024-06-16T12:25:23.555803Z"
    }
   },
   "id": "96c737ebbd1b3b79"
  },
  {
   "cell_type": "code",
   "execution_count": 87,
   "outputs": [],
   "source": [],
   "metadata": {
    "collapsed": false,
    "ExecuteTime": {
     "end_time": "2024-06-16T12:25:23.561996Z",
     "start_time": "2024-06-16T12:25:23.558459Z"
    }
   },
   "id": "d4410655f408d012"
  },
  {
   "cell_type": "code",
   "execution_count": 146,
   "outputs": [
    {
     "name": "stdout",
     "output_type": "stream",
     "text": [
      "=======================================================================================================================================================================================================================\n",
      "Layer (type:depth-idx)                   Input Shape               Output Shape              Kernel Shape              Param #                   Param %                   Mult-Adds                 Trainable\n",
      "=======================================================================================================================================================================================================================\n",
      "PiczakRec                                [20, 1, 498, 13]          [20, 50]                  --                        --                             --                   --                        True\n",
      "├─Sequential: 1-1                        [20, 1, 498, 13]          [20, 80, 442, 8]          --                        --                             --                   --                        True\n",
      "│    └─Conv2d: 2-1                       [20, 1, 498, 13]          [20, 80, 442, 8]          [57, 6]                   27,440                      0.01%                   1,940,556,800             True\n",
      "│    └─ReLU: 2-2                         [20, 80, 442, 8]          [20, 80, 442, 8]          --                        --                             --                   --                        --\n",
      "├─Sequential: 1-2                        [20, 80, 442, 8]          [20, 80, 442, 2]          --                        --                             --                   --                        True\n",
      "│    └─Conv2d: 2-3                       [20, 80, 442, 8]          [20, 80, 442, 6]          [1, 3]                    19,280                      0.01%                   1,022,611,200             True\n",
      "│    └─ReLU: 2-4                         [20, 80, 442, 6]          [20, 80, 442, 6]          --                        --                             --                   --                        --\n",
      "│    └─MaxPool2d: 2-5                    [20, 80, 442, 6]          [20, 80, 442, 2]          [1, 3]                    --                             --                   --                        --\n",
      "├─Sequential: 1-3                        [20, 80, 442, 2]          [20, 50]                  --                        --                             --                   --                        True\n",
      "│    └─Flatten: 2-6                      [20, 80, 442, 2]          [20, 70720]               --                        --                             --                   --                        --\n",
      "│    └─Linear: 2-7                       [20, 70720]               [20, 5000]                --                        353,605,000                93.32%                   7,072,100,000             True\n",
      "│    └─Linear: 2-8                       [20, 5000]                [20, 5000]                --                        25,005,000                  6.60%                   500,100,000               True\n",
      "│    └─Linear: 2-9                       [20, 5000]                [20, 50]                  --                        250,050                     0.07%                   5,001,000                 True\n",
      "=======================================================================================================================================================================================================================\n",
      "Total params: 378,906,770\n",
      "Trainable params: 378,906,770\n",
      "Non-trainable params: 0\n",
      "Total mult-adds (Units.GIGABYTES): 10.54\n",
      "=======================================================================================================================================================================================================================\n",
      "Input size (MB): 0.52\n",
      "Forward/backward pass size (MB): 80.81\n",
      "Params size (MB): 1515.63\n",
      "Estimated Total Size (MB): 1596.96\n",
      "=======================================================================================================================================================================================================================\n"
     ]
    }
   ],
   "source": [
    "from torchinfo import summary\n",
    "N = 20;C = 1;H=498;W = 13\n",
    "print(summary(viz_model, input_size=(N,C,H,W), col_names =[\"input_size\",\"output_size\",\"kernel_size\",\"num_params\",\"params_percent\",\"mult_adds\",\"trainable\"]))"
   ],
   "metadata": {
    "collapsed": false,
    "ExecuteTime": {
     "end_time": "2024-06-16T15:40:39.514562Z",
     "start_time": "2024-06-16T15:40:39.379875Z"
    }
   },
   "id": "a603f7cb69b64dad"
  },
  {
   "cell_type": "code",
   "execution_count": null,
   "outputs": [],
   "source": [],
   "metadata": {
    "collapsed": false
   },
   "id": "8ef03ccce7341e78"
  }
 ],
 "metadata": {
  "kernelspec": {
   "display_name": "Python 3",
   "language": "python",
   "name": "python3"
  },
  "language_info": {
   "codemirror_mode": {
    "name": "ipython",
    "version": 2
   },
   "file_extension": ".py",
   "mimetype": "text/x-python",
   "name": "python",
   "nbconvert_exporter": "python",
   "pygments_lexer": "ipython2",
   "version": "2.7.6"
  }
 },
 "nbformat": 4,
 "nbformat_minor": 5
}
